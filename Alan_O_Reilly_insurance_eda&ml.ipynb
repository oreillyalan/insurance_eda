{
 "cells": [
  {
   "cell_type": "markdown",
   "metadata": {},
   "source": [
    "## Group 1\n",
    "\n",
    "#### C00246500  Arnab Roy\n",
    "#### C00233605 \tAnjuman Ara Kali.\n",
    "#### C00255172 \tAlan O' Reilly\n",
    "#### C00265987 \tElaine Koyce"
   ]
  },
  {
   "cell_type": "markdown",
   "metadata": {},
   "source": [
    "# Alan O' Reilly - Insurance for Data Scientists CA"
   ]
  },
  {
   "cell_type": "markdown",
   "metadata": {},
   "source": [
    "This jupyter notebook represents my work on our team assignment for the Insurance for Data Scientists module."
   ]
  },
  {
   "cell_type": "markdown",
   "metadata": {},
   "source": [
    "# EDA and Machine Learning - Car Insurance Claim Data "
   ]
  },
  {
   "cell_type": "markdown",
   "metadata": {},
   "source": [
    "This is an instructional tutorial in which I use Car Insurance Claim Dataset from Kaggle to generate some insights about car insurance claims and see what factors will make customers more likely to be 'repeat offenders'. This notebook will be designed in such a manner that a new user to data science in the realm of insurance, can get a step by step guide through the data science life cycle. First, I clean the data and create some new features using pandas. Then I create visualizations of said data using matplotlib and seaborn. Finally, I apply machine learning models (sklearn) to predict which customers will make repeat insurance claims while having open complaints on their account. Tasks include:"
   ]
  },
  {
   "cell_type": "markdown",
   "metadata": {},
   "source": [
    "### Data Preprocessing:\n",
    "\n",
    "    - Create target variable 'Repeat Offender' and 'Repeat&Open' \n",
    "\n",
    "\n",
    "### Exploratory Data Analysis:\n",
    "\n",
    "    - Create visualizations to determine what attributes lead to repeat insurance claims\n",
    "    - Make use of matplotlib and seaborn to create graphs that are easy to understand\n",
    "    - Separate numerical variables into categorical data for plotting\n",
    "    - Use visualizations to determine whether or not a variable is suitable for our ML model\n",
    "\n",
    "### Machine Learning Models:\n",
    "\n",
    "    - Create target variable and feature dataframe\n",
    "    - Convert categorical data types to numeric\n",
    "    - Split dataset into training and test data\n",
    "    - Run different categorical machine learning models:\n",
    "        - Gaussian Naive Bayes\n",
    "        - Logistic Regression\n",
    "        - Support Vector Machines\n",
    "        - Decision Tree\n",
    "        - Random Forest\n",
    "        - k-Nearest Neighbors\n",
    "        - Gradient Boosting Classifier\n",
    "    - Measure accuracy of each model using sklearn.metrics.accuracy_score\n",
    "\n"
   ]
  },
  {
   "cell_type": "code",
   "execution_count": null,
   "metadata": {},
   "outputs": [],
   "source": []
  },
  {
   "cell_type": "markdown",
   "metadata": {},
   "source": [
    "# Imports"
   ]
  },
  {
   "cell_type": "code",
   "execution_count": 1,
   "metadata": {},
   "outputs": [],
   "source": [
    "import numpy as np\n",
    "import pandas as pd\n",
    "import matplotlib.pyplot as plt\n",
    "from matplotlib.pyplot import figure\n",
    "import seaborn as sns\n",
    "%matplotlib inline\n",
    "import sklearn\n",
    "import warnings\n",
    "warnings.filterwarnings(\"ignore\")\n",
    "# import sklearn libraries\n",
    "from sklearn.model_selection import train_test_split\n",
    "from sklearn.metrics import accuracy_score\n",
    "from sklearn.naive_bayes import GaussianNB\n",
    "from sklearn.linear_model import LogisticRegression\n",
    "from sklearn.svm import SVC\n",
    "from sklearn.tree import DecisionTreeClassifier\n",
    "from sklearn.ensemble import RandomForestClassifier\n",
    "from sklearn.neighbors import KNeighborsClassifier\n",
    "from sklearn.ensemble import GradientBoostingClassifier"
   ]
  },
  {
   "cell_type": "markdown",
   "metadata": {},
   "source": [
    "# Data Preprocessing"
   ]
  },
  {
   "cell_type": "code",
   "execution_count": 2,
   "metadata": {},
   "outputs": [
    {
     "data": {
      "text/html": [
       "<div>\n",
       "<style scoped>\n",
       "    .dataframe tbody tr th:only-of-type {\n",
       "        vertical-align: middle;\n",
       "    }\n",
       "\n",
       "    .dataframe tbody tr th {\n",
       "        vertical-align: top;\n",
       "    }\n",
       "\n",
       "    .dataframe thead th {\n",
       "        text-align: right;\n",
       "    }\n",
       "</style>\n",
       "<table border=\"1\" class=\"dataframe\">\n",
       "  <thead>\n",
       "    <tr style=\"text-align: right;\">\n",
       "      <th></th>\n",
       "      <th>Customer</th>\n",
       "      <th>Country</th>\n",
       "      <th>State Code</th>\n",
       "      <th>State</th>\n",
       "      <th>Claim Amount</th>\n",
       "      <th>Response</th>\n",
       "      <th>Coverage</th>\n",
       "      <th>Education</th>\n",
       "      <th>Effective To Date</th>\n",
       "      <th>EmploymentStatus</th>\n",
       "      <th>...</th>\n",
       "      <th>Months Since Policy Inception</th>\n",
       "      <th>Number of Open Complaints</th>\n",
       "      <th>Number of Policies</th>\n",
       "      <th>Policy Type</th>\n",
       "      <th>Policy</th>\n",
       "      <th>Claim Reason</th>\n",
       "      <th>Sales Channel</th>\n",
       "      <th>Total Claim Amount</th>\n",
       "      <th>Vehicle Class</th>\n",
       "      <th>Vehicle Size</th>\n",
       "    </tr>\n",
       "  </thead>\n",
       "  <tbody>\n",
       "    <tr>\n",
       "      <th>0</th>\n",
       "      <td>BU79786</td>\n",
       "      <td>US</td>\n",
       "      <td>KS</td>\n",
       "      <td>Kansas</td>\n",
       "      <td>276.351928</td>\n",
       "      <td>No</td>\n",
       "      <td>Basic</td>\n",
       "      <td>Bachelor</td>\n",
       "      <td>2/24/11</td>\n",
       "      <td>Employed</td>\n",
       "      <td>...</td>\n",
       "      <td>5</td>\n",
       "      <td>0</td>\n",
       "      <td>1</td>\n",
       "      <td>Corporate Auto</td>\n",
       "      <td>Corporate L3</td>\n",
       "      <td>Collision</td>\n",
       "      <td>Agent</td>\n",
       "      <td>384.811147</td>\n",
       "      <td>Two-Door Car</td>\n",
       "      <td>Medsize</td>\n",
       "    </tr>\n",
       "    <tr>\n",
       "      <th>1</th>\n",
       "      <td>QZ44356</td>\n",
       "      <td>US</td>\n",
       "      <td>NE</td>\n",
       "      <td>Nebraska</td>\n",
       "      <td>697.953590</td>\n",
       "      <td>No</td>\n",
       "      <td>Extended</td>\n",
       "      <td>Bachelor</td>\n",
       "      <td>1/31/11</td>\n",
       "      <td>Unemployed</td>\n",
       "      <td>...</td>\n",
       "      <td>42</td>\n",
       "      <td>0</td>\n",
       "      <td>8</td>\n",
       "      <td>Personal Auto</td>\n",
       "      <td>Personal L3</td>\n",
       "      <td>Scratch/Dent</td>\n",
       "      <td>Agent</td>\n",
       "      <td>1131.464935</td>\n",
       "      <td>Four-Door Car</td>\n",
       "      <td>Medsize</td>\n",
       "    </tr>\n",
       "    <tr>\n",
       "      <th>2</th>\n",
       "      <td>AI49188</td>\n",
       "      <td>US</td>\n",
       "      <td>OK</td>\n",
       "      <td>Oklahoma</td>\n",
       "      <td>1288.743165</td>\n",
       "      <td>No</td>\n",
       "      <td>Premium</td>\n",
       "      <td>Bachelor</td>\n",
       "      <td>2/19/11</td>\n",
       "      <td>Employed</td>\n",
       "      <td>...</td>\n",
       "      <td>38</td>\n",
       "      <td>0</td>\n",
       "      <td>2</td>\n",
       "      <td>Personal Auto</td>\n",
       "      <td>Personal L3</td>\n",
       "      <td>Collision</td>\n",
       "      <td>Agent</td>\n",
       "      <td>566.472247</td>\n",
       "      <td>Two-Door Car</td>\n",
       "      <td>Medsize</td>\n",
       "    </tr>\n",
       "    <tr>\n",
       "      <th>3</th>\n",
       "      <td>WW63253</td>\n",
       "      <td>US</td>\n",
       "      <td>MO</td>\n",
       "      <td>Missouri</td>\n",
       "      <td>764.586183</td>\n",
       "      <td>No</td>\n",
       "      <td>Basic</td>\n",
       "      <td>Bachelor</td>\n",
       "      <td>1/20/11</td>\n",
       "      <td>Unemployed</td>\n",
       "      <td>...</td>\n",
       "      <td>65</td>\n",
       "      <td>0</td>\n",
       "      <td>7</td>\n",
       "      <td>Corporate Auto</td>\n",
       "      <td>Corporate L2</td>\n",
       "      <td>Collision</td>\n",
       "      <td>Call Center</td>\n",
       "      <td>529.881344</td>\n",
       "      <td>SUV</td>\n",
       "      <td>Medsize</td>\n",
       "    </tr>\n",
       "    <tr>\n",
       "      <th>4</th>\n",
       "      <td>HB64268</td>\n",
       "      <td>US</td>\n",
       "      <td>KS</td>\n",
       "      <td>Kansas</td>\n",
       "      <td>281.369258</td>\n",
       "      <td>No</td>\n",
       "      <td>Basic</td>\n",
       "      <td>Bachelor</td>\n",
       "      <td>02/03/2011</td>\n",
       "      <td>Employed</td>\n",
       "      <td>...</td>\n",
       "      <td>44</td>\n",
       "      <td>0</td>\n",
       "      <td>1</td>\n",
       "      <td>Personal Auto</td>\n",
       "      <td>Personal L1</td>\n",
       "      <td>Collision</td>\n",
       "      <td>Agent</td>\n",
       "      <td>138.130879</td>\n",
       "      <td>Four-Door Car</td>\n",
       "      <td>Medsize</td>\n",
       "    </tr>\n",
       "  </tbody>\n",
       "</table>\n",
       "<p>5 rows × 26 columns</p>\n",
       "</div>"
      ],
      "text/plain": [
       "  Customer Country State Code     State  Claim Amount Response  Coverage  \\\n",
       "0  BU79786      US         KS    Kansas    276.351928       No     Basic   \n",
       "1  QZ44356      US         NE  Nebraska    697.953590       No  Extended   \n",
       "2  AI49188      US         OK  Oklahoma   1288.743165       No   Premium   \n",
       "3  WW63253      US         MO  Missouri    764.586183       No     Basic   \n",
       "4  HB64268      US         KS    Kansas    281.369258       No     Basic   \n",
       "\n",
       "  Education Effective To Date EmploymentStatus  ...  \\\n",
       "0  Bachelor           2/24/11         Employed  ...   \n",
       "1  Bachelor           1/31/11       Unemployed  ...   \n",
       "2  Bachelor           2/19/11         Employed  ...   \n",
       "3  Bachelor           1/20/11       Unemployed  ...   \n",
       "4  Bachelor        02/03/2011         Employed  ...   \n",
       "\n",
       "  Months Since Policy Inception  Number of Open Complaints Number of Policies  \\\n",
       "0                             5                          0                  1   \n",
       "1                            42                          0                  8   \n",
       "2                            38                          0                  2   \n",
       "3                            65                          0                  7   \n",
       "4                            44                          0                  1   \n",
       "\n",
       "      Policy Type        Policy  Claim Reason  Sales Channel  \\\n",
       "0  Corporate Auto  Corporate L3     Collision          Agent   \n",
       "1   Personal Auto   Personal L3  Scratch/Dent          Agent   \n",
       "2   Personal Auto   Personal L3     Collision          Agent   \n",
       "3  Corporate Auto  Corporate L2     Collision    Call Center   \n",
       "4   Personal Auto   Personal L1     Collision          Agent   \n",
       "\n",
       "   Total Claim Amount  Vehicle Class Vehicle Size  \n",
       "0          384.811147   Two-Door Car      Medsize  \n",
       "1         1131.464935  Four-Door Car      Medsize  \n",
       "2          566.472247   Two-Door Car      Medsize  \n",
       "3          529.881344            SUV      Medsize  \n",
       "4          138.130879  Four-Door Car      Medsize  \n",
       "\n",
       "[5 rows x 26 columns]"
      ]
     },
     "execution_count": 2,
     "metadata": {},
     "output_type": "execute_result"
    }
   ],
   "source": [
    "df = pd.read_csv('Auto_Insurance_Claims.csv')\n",
    "df.head()"
   ]
  },
  {
   "cell_type": "code",
   "execution_count": 3,
   "metadata": {},
   "outputs": [
    {
     "data": {
      "text/plain": [
       "Index(['Customer', 'Country', 'State Code', 'State', 'Claim Amount',\n",
       "       'Response', 'Coverage', 'Education', 'Effective To Date',\n",
       "       'EmploymentStatus', 'Gender', 'Income', 'Location Code',\n",
       "       'Marital Status', 'Monthly Premium Auto', 'Months Since Last Claim',\n",
       "       'Months Since Policy Inception', 'Number of Open Complaints',\n",
       "       'Number of Policies', 'Policy Type', 'Policy', 'Claim Reason',\n",
       "       'Sales Channel', 'Total Claim Amount', 'Vehicle Class', 'Vehicle Size'],\n",
       "      dtype='object')"
      ]
     },
     "execution_count": 3,
     "metadata": {},
     "output_type": "execute_result"
    }
   ],
   "source": [
    "df.columns"
   ]
  },
  {
   "cell_type": "markdown",
   "metadata": {},
   "source": [
    "\n",
    "\n",
    "Since every customer in this dataset has made a claim, it'll be hard to draw conclusions from the data as is. Instead, I'm going to use the information in the Months Since Last Claim column to create a target variable: if a customer has had 1 or more claims in the past 12 months, we'll call them a \"repeat offender\". Then we can use the rest of the data to see which customer attributes lead to them becoming repeat offenders.\n"
   ]
  },
  {
   "cell_type": "code",
   "execution_count": 4,
   "metadata": {},
   "outputs": [
    {
     "data": {
      "text/plain": [
       "3     381\n",
       "6     364\n",
       "1     345\n",
       "4     335\n",
       "7     333\n",
       "2     329\n",
       "0     314\n",
       "5     313\n",
       "10    306\n",
       "11    297\n",
       "16    295\n",
       "15    286\n",
       "13    285\n",
       "8     279\n",
       "12    273\n",
       "14    268\n",
       "17    263\n",
       "9     250\n",
       "19    246\n",
       "23    239\n",
       "25    236\n",
       "21    233\n",
       "20    231\n",
       "18    229\n",
       "22    218\n",
       "24    211\n",
       "29    206\n",
       "28    201\n",
       "31    190\n",
       "26    186\n",
       "27    182\n",
       "30    182\n",
       "33    179\n",
       "34    169\n",
       "35    142\n",
       "32    138\n",
       "Name: Months Since Last Claim, dtype: int64"
      ]
     },
     "execution_count": 4,
     "metadata": {},
     "output_type": "execute_result"
    }
   ],
   "source": [
    "df[\"Months Since Last Claim\"].value_counts()"
   ]
  },
  {
   "cell_type": "markdown",
   "metadata": {},
   "source": [
    "Here I create the new 'repeat offender' column. The lambda expression can be explained as meaing : 1 if the customer had 1 or more claims in the last 12 months, 0 if not."
   ]
  },
  {
   "cell_type": "code",
   "execution_count": 5,
   "metadata": {},
   "outputs": [],
   "source": [
    "df['Repeat Offender'] = df[\"Months Since Last Claim\"].apply(lambda x: 0 if x >= 12 else 1)"
   ]
  },
  {
   "cell_type": "code",
   "execution_count": 6,
   "metadata": {},
   "outputs": [
    {
     "data": {
      "text/html": [
       "<div>\n",
       "<style scoped>\n",
       "    .dataframe tbody tr th:only-of-type {\n",
       "        vertical-align: middle;\n",
       "    }\n",
       "\n",
       "    .dataframe tbody tr th {\n",
       "        vertical-align: top;\n",
       "    }\n",
       "\n",
       "    .dataframe thead th {\n",
       "        text-align: right;\n",
       "    }\n",
       "</style>\n",
       "<table border=\"1\" class=\"dataframe\">\n",
       "  <thead>\n",
       "    <tr style=\"text-align: right;\">\n",
       "      <th></th>\n",
       "      <th>Customer</th>\n",
       "      <th>Country</th>\n",
       "      <th>State Code</th>\n",
       "      <th>State</th>\n",
       "      <th>Claim Amount</th>\n",
       "      <th>Response</th>\n",
       "      <th>Coverage</th>\n",
       "      <th>Education</th>\n",
       "      <th>Effective To Date</th>\n",
       "      <th>EmploymentStatus</th>\n",
       "      <th>...</th>\n",
       "      <th>Number of Open Complaints</th>\n",
       "      <th>Number of Policies</th>\n",
       "      <th>Policy Type</th>\n",
       "      <th>Policy</th>\n",
       "      <th>Claim Reason</th>\n",
       "      <th>Sales Channel</th>\n",
       "      <th>Total Claim Amount</th>\n",
       "      <th>Vehicle Class</th>\n",
       "      <th>Vehicle Size</th>\n",
       "      <th>Repeat Offender</th>\n",
       "    </tr>\n",
       "  </thead>\n",
       "  <tbody>\n",
       "    <tr>\n",
       "      <th>0</th>\n",
       "      <td>BU79786</td>\n",
       "      <td>US</td>\n",
       "      <td>KS</td>\n",
       "      <td>Kansas</td>\n",
       "      <td>276.351928</td>\n",
       "      <td>No</td>\n",
       "      <td>Basic</td>\n",
       "      <td>Bachelor</td>\n",
       "      <td>2/24/11</td>\n",
       "      <td>Employed</td>\n",
       "      <td>...</td>\n",
       "      <td>0</td>\n",
       "      <td>1</td>\n",
       "      <td>Corporate Auto</td>\n",
       "      <td>Corporate L3</td>\n",
       "      <td>Collision</td>\n",
       "      <td>Agent</td>\n",
       "      <td>384.811147</td>\n",
       "      <td>Two-Door Car</td>\n",
       "      <td>Medsize</td>\n",
       "      <td>0</td>\n",
       "    </tr>\n",
       "  </tbody>\n",
       "</table>\n",
       "<p>1 rows × 27 columns</p>\n",
       "</div>"
      ],
      "text/plain": [
       "  Customer Country State Code   State  Claim Amount Response Coverage  \\\n",
       "0  BU79786      US         KS  Kansas    276.351928       No    Basic   \n",
       "\n",
       "  Education Effective To Date EmploymentStatus  ... Number of Open Complaints  \\\n",
       "0  Bachelor           2/24/11         Employed  ...                         0   \n",
       "\n",
       "   Number of Policies     Policy Type        Policy  Claim Reason  \\\n",
       "0                   1  Corporate Auto  Corporate L3     Collision   \n",
       "\n",
       "   Sales Channel  Total Claim Amount  Vehicle Class  Vehicle Size  \\\n",
       "0          Agent          384.811147   Two-Door Car       Medsize   \n",
       "\n",
       "  Repeat Offender  \n",
       "0               0  \n",
       "\n",
       "[1 rows x 27 columns]"
      ]
     },
     "execution_count": 6,
     "metadata": {},
     "output_type": "execute_result"
    }
   ],
   "source": [
    "df.head(1)"
   ]
  },
  {
   "cell_type": "code",
   "execution_count": 7,
   "metadata": {},
   "outputs": [
    {
     "data": {
      "text/plain": [
       "0    5288\n",
       "1    3846\n",
       "Name: Repeat Offender, dtype: int64"
      ]
     },
     "execution_count": 7,
     "metadata": {},
     "output_type": "execute_result"
    }
   ],
   "source": [
    "df[\"Repeat Offender\"].value_counts()"
   ]
  },
  {
   "cell_type": "code",
   "execution_count": 8,
   "metadata": {},
   "outputs": [
    {
     "data": {
      "text/plain": [
       "Customer                          object\n",
       "Country                           object\n",
       "State Code                        object\n",
       "State                             object\n",
       "Claim Amount                     float64\n",
       "Response                          object\n",
       "Coverage                          object\n",
       "Education                         object\n",
       "Effective To Date                 object\n",
       "EmploymentStatus                  object\n",
       "Gender                            object\n",
       "Income                             int64\n",
       "Location Code                     object\n",
       "Marital Status                    object\n",
       "Monthly Premium Auto               int64\n",
       "Months Since Last Claim            int64\n",
       "Months Since Policy Inception      int64\n",
       "Number of Open Complaints          int64\n",
       "Number of Policies                 int64\n",
       "Policy Type                       object\n",
       "Policy                            object\n",
       "Claim Reason                      object\n",
       "Sales Channel                     object\n",
       "Total Claim Amount               float64\n",
       "Vehicle Class                     object\n",
       "Vehicle Size                      object\n",
       "Repeat Offender                    int64\n",
       "dtype: object"
      ]
     },
     "execution_count": 8,
     "metadata": {},
     "output_type": "execute_result"
    }
   ],
   "source": [
    "df.dtypes"
   ]
  },
  {
   "cell_type": "code",
   "execution_count": 9,
   "metadata": {},
   "outputs": [
    {
     "data": {
      "text/plain": [
       "Customer                         0\n",
       "Country                          0\n",
       "State Code                       0\n",
       "State                            0\n",
       "Claim Amount                     0\n",
       "Response                         0\n",
       "Coverage                         0\n",
       "Education                        0\n",
       "Effective To Date                0\n",
       "EmploymentStatus                 0\n",
       "Gender                           0\n",
       "Income                           0\n",
       "Location Code                    0\n",
       "Marital Status                   0\n",
       "Monthly Premium Auto             0\n",
       "Months Since Last Claim          0\n",
       "Months Since Policy Inception    0\n",
       "Number of Open Complaints        0\n",
       "Number of Policies               0\n",
       "Policy Type                      0\n",
       "Policy                           0\n",
       "Claim Reason                     0\n",
       "Sales Channel                    0\n",
       "Total Claim Amount               0\n",
       "Vehicle Class                    0\n",
       "Vehicle Size                     0\n",
       "Repeat Offender                  0\n",
       "dtype: int64"
      ]
     },
     "execution_count": 9,
     "metadata": {},
     "output_type": "execute_result"
    }
   ],
   "source": [
    "df.isnull().sum()"
   ]
  },
  {
   "cell_type": "code",
   "execution_count": 10,
   "metadata": {},
   "outputs": [
    {
     "data": {
      "text/plain": [
       "Claim Amount                       800.494047\n",
       "Income                           37657.380009\n",
       "Monthly Premium Auto                93.219291\n",
       "Months Since Last Claim             15.097000\n",
       "Months Since Policy Inception       48.064594\n",
       "Number of Open Complaints            0.384388\n",
       "Number of Policies                   2.966170\n",
       "Total Claim Amount                 434.088794\n",
       "Repeat Offender                      0.421064\n",
       "dtype: float64"
      ]
     },
     "execution_count": 10,
     "metadata": {},
     "output_type": "execute_result"
    }
   ],
   "source": [
    "df.mean()"
   ]
  },
  {
   "cell_type": "markdown",
   "metadata": {},
   "source": [
    "# Exploratory Data Analysis"
   ]
  },
  {
   "cell_type": "markdown",
   "metadata": {},
   "source": [
    "Our target variable of interest: whether or not customers have made repeat claims. This variable is recorded in the form of a 0 if they have made 1 claim in the past 12 months, and a 1 if they have made more than 1 claim in the past 12 months. Since the record itself is a claim, anything over 0 in the last 12 months can be called a repeat claim.\n"
   ]
  },
  {
   "cell_type": "code",
   "execution_count": 11,
   "metadata": {},
   "outputs": [
    {
     "data": {
      "image/png": "[encoded data removed]",
      "text/plain": [
       "<Figure size 576x432 with 1 Axes>"
      ]
     },
     "metadata": {
      "needs_background": "light"
     },
     "output_type": "display_data"
    }
   ],
   "source": [
    "figure(figsize=(8,6))\n",
    "sns.countplot(x='Repeat Offender',data=df)\n",
    "plt.xlabel('Repeat claim status')\n",
    "plt.xticks([0,1],labels=['One claim in the last 12 months','More than one claim in the last 12 months'])\n",
    "plt.title('Distribution of Insurance Claims')\n",
    "plt.show()"
   ]
  },
  {
   "cell_type": "markdown",
   "metadata": {},
   "source": [
    "In terms of the last 12 months, more customers in this database are first-time offenders than repeat offenders by about 1300 claims.\n"
   ]
  },
  {
   "cell_type": "markdown",
   "metadata": {},
   "source": [
    "## Gender"
   ]
  },
  {
   "cell_type": "markdown",
   "metadata": {},
   "source": [
    "Does gender have any influence on our target variable?"
   ]
  },
  {
   "cell_type": "code",
   "execution_count": 12,
   "metadata": {
    "scrolled": true
   },
   "outputs": [
    {
     "name": "stdout",
     "output_type": "stream",
     "text": [
      "How many Male drivers made repeat claims?\n",
      "41.64%\n",
      "How many Female drivers made repeat claims?\n",
      "42.55%\n"
     ]
    },
    {
     "data": {
      "image/png": "[encoded data removed]",
      "text/plain": [
       "<Figure size 720x432 with 1 Axes>"
      ]
     },
     "metadata": {
      "needs_background": "light"
     },
     "output_type": "display_data"
    }
   ],
   "source": [
    "print(\"How many Male drivers made repeat claims?\")\n",
    "print(\"{:.2%}\".format(df[\"Repeat Offender\"][df[\"Gender\"] == 'M'].value_counts(normalize = True)[1]))\n",
    "\n",
    "print(\"How many Female drivers made repeat claims?\")\n",
    "print(\"{:.2%}\".format(df[\"Repeat Offender\"][df[\"Gender\"] == 'F'].value_counts(normalize = True)[1]))\n",
    "figure(figsize=(10,6))\n",
    "sns.barplot(df.Gender, df[\"Repeat Offender\"])\n",
    "plt.xlabel('Gender')\n",
    "plt.xticks([0,1],labels=['Male','Female'])\n",
    "plt.ylabel(\"Proportion of Repeat Offenders\")\n",
    "plt.show()"
   ]
  },
  {
   "cell_type": "markdown",
   "metadata": {},
   "source": [
    "Interestingly, gender seems to have almost zero effect on whether or not a customer will make more than one claim in the chosen time frame. \n"
   ]
  },
  {
   "cell_type": "markdown",
   "metadata": {},
   "source": [
    "  "
   ]
  },
  {
   "cell_type": "markdown",
   "metadata": {},
   "source": [
    "## Location"
   ]
  },
  {
   "cell_type": "markdown",
   "metadata": {},
   "source": [
    "If a customer lives in the city, are they more likely to be a repeat offender?"
   ]
  },
  {
   "cell_type": "code",
   "execution_count": 13,
   "metadata": {
    "scrolled": true
   },
   "outputs": [
    {
     "name": "stdout",
     "output_type": "stream",
     "text": [
      "How many Urban drivers made repeat claims?\n",
      "44.82%\n",
      "How many Rural drivers made repeat claims?\n",
      "40.89%\n",
      "How many Suburban drivers made repeat claims?\n",
      "41.74%\n"
     ]
    },
    {
     "data": {
      "image/png": "[encoded data removed]",
      "text/plain": [
       "<Figure size 720x432 with 1 Axes>"
      ]
     },
     "metadata": {
      "needs_background": "light"
     },
     "output_type": "display_data"
    }
   ],
   "source": [
    "print(\"How many Urban drivers made repeat claims?\")\n",
    "print(\"{:.2%}\".format(df[\"Repeat Offender\"][df[\"Location Code\"] == 'Urban'].value_counts(normalize = True)[1]))\n",
    "\n",
    "print(\"How many Rural drivers made repeat claims?\")\n",
    "print(\"{:.2%}\".format(df[\"Repeat Offender\"][df[\"Location Code\"] == 'Rural'].value_counts(normalize = True)[1]))\n",
    "\n",
    "print(\"How many Suburban drivers made repeat claims?\")\n",
    "print(\"{:.2%}\".format(df[\"Repeat Offender\"][df[\"Location Code\"] == 'Suburban'].value_counts(normalize = True)[1]))\n",
    "\n",
    "figure(figsize=(10,6))\n",
    "sns.barplot(x='Location Code',y=\"Repeat Offender\", data=df)\n",
    "plt.ylabel(\"Proportion of Repeat Offenders\")\n",
    "plt.show()"
   ]
  },
  {
   "cell_type": "markdown",
   "metadata": {},
   "source": [
    "Again, while urban areas lead to more repeat claims, it does not appear to be statstically significant."
   ]
  },
  {
   "cell_type": "markdown",
   "metadata": {},
   "source": [
    " "
   ]
  },
  {
   "cell_type": "markdown",
   "metadata": {},
   "source": [
    "## Education"
   ]
  },
  {
   "cell_type": "markdown",
   "metadata": {},
   "source": [
    "Does ones education lead to more repeat insurance claims?"
   ]
  },
  {
   "cell_type": "code",
   "execution_count": 14,
   "metadata": {},
   "outputs": [
    {
     "name": "stdout",
     "output_type": "stream",
     "text": [
      "How many Bachelor degree holders made repeat claims?\n",
      "41.89%\n",
      "How many policy holders with some College made repeat claims?\n",
      "40.95%\n",
      "How many Masters degree holders made repeat claims?\n",
      "42.24%\n",
      "How many High School or Below drivers made repeat claims?\n",
      "43.29%\n",
      "How many PhD holders made repeat claims?\n",
      "43.57%\n"
     ]
    },
    {
     "data": {
      "image/png": "[encoded data removed]",
      "text/plain": [
       "<Figure size 720x432 with 1 Axes>"
      ]
     },
     "metadata": {
      "needs_background": "light"
     },
     "output_type": "display_data"
    }
   ],
   "source": [
    "print(\"How many Bachelor degree holders made repeat claims?\")\n",
    "print(\"{:.2%}\".format(df[\"Repeat Offender\"][df[\"Education\"] == 'Bachelor'].value_counts(normalize = True)[1]))\n",
    "\n",
    "print(\"How many policy holders with some College made repeat claims?\")\n",
    "print(\"{:.2%}\".format(df[\"Repeat Offender\"][df[\"Education\"] == 'College'].value_counts(normalize = True)[1]))\n",
    "\n",
    "print(\"How many Masters degree holders made repeat claims?\")\n",
    "print(\"{:.2%}\".format(df[\"Repeat Offender\"][df[\"Education\"] == 'Master'].value_counts(normalize = True)[1]))\n",
    "\n",
    "print(\"How many High School or Below drivers made repeat claims?\")\n",
    "print(\"{:.2%}\".format(df[\"Repeat Offender\"][df[\"Education\"] == 'High School or Below'].value_counts(normalize = True)[1]))\n",
    "\n",
    "print(\"How many PhD holders made repeat claims?\")\n",
    "print(\"{:.2%}\".format(df[\"Repeat Offender\"][df[\"Education\"] == \"Doctor\"].value_counts(normalize = True)[1]))\n",
    "\n",
    "\n",
    "figure(figsize=(10,6))\n",
    "sns.barplot(x='Education',y=\"Repeat Offender\", data=df)\n",
    "plt.ylabel(\"Proportion of Repeat Offenders\")\n",
    "plt.show()"
   ]
  },
  {
   "cell_type": "markdown",
   "metadata": {},
   "source": [
    "Again there is nothing significant being observed here."
   ]
  },
  {
   "cell_type": "markdown",
   "metadata": {},
   "source": [
    "## EmploymentStatus"
   ]
  },
  {
   "cell_type": "markdown",
   "metadata": {},
   "source": [
    "Does the employment status of the polic holder effect repeat claims?"
   ]
  },
  {
   "cell_type": "code",
   "execution_count": 15,
   "metadata": {},
   "outputs": [
    {
     "name": "stdout",
     "output_type": "stream",
     "text": [
      "How many Disabled Policy holders made repeat claims?\n",
      "44.69%\n",
      "How many Employed policy holders made repeat claims?\n",
      "42.68%\n",
      "How many policy holders on medical leave have made repeat claims?\n",
      "38.43%\n",
      "How many Retired policy holders have made repeat claims?\n",
      "41.84%\n",
      "How many Unemployed policy holders made repeat claims?\n",
      "40.96%\n"
     ]
    },
    {
     "data": {
      "image/png": "[encoded data removed]",
      "text/plain": [
       "<Figure size 720x432 with 1 Axes>"
      ]
     },
     "metadata": {
      "needs_background": "light"
     },
     "output_type": "display_data"
    }
   ],
   "source": [
    "print(\"How many Disabled Policy holders made repeat claims?\")\n",
    "print(\"{:.2%}\".format(df[\"Repeat Offender\"][df[\"EmploymentStatus\"] == 'Disabled'].value_counts(normalize = True)[1]))\n",
    "\n",
    "print(\"How many Employed policy holders made repeat claims?\")\n",
    "print(\"{:.2%}\".format(df[\"Repeat Offender\"][df[\"EmploymentStatus\"] == 'Employed'].value_counts(normalize = True)[1]))\n",
    "\n",
    "print(\"How many policy holders on medical leave have made repeat claims?\")\n",
    "print(\"{:.2%}\".format(df[\"Repeat Offender\"][df[\"EmploymentStatus\"] == 'Medical Leave'].value_counts(normalize = True)[1]))\n",
    "\n",
    "print(\"How many Retired policy holders have made repeat claims?\")\n",
    "print(\"{:.2%}\".format(df[\"Repeat Offender\"][df[\"EmploymentStatus\"] == 'Retired'].value_counts(normalize = True)[1]))\n",
    "\n",
    "print(\"How many Unemployed policy holders made repeat claims?\")\n",
    "print(\"{:.2%}\".format(df[\"Repeat Offender\"][df[\"EmploymentStatus\"] == \"Unemployed\"].value_counts(normalize = True)[1]))\n",
    "\n",
    "\n",
    "figure(figsize=(10,6))\n",
    "sns.barplot(x='EmploymentStatus',y=\"Repeat Offender\", data=df)\n",
    "plt.ylabel(\"Proportion of Repeat Offenders\")\n",
    "plt.show()"
   ]
  },
  {
   "cell_type": "markdown",
   "metadata": {},
   "source": [
    "While almost 45% of all disabled policy holders have made more than one claim in the past 12 months it is not that big an increase on the other measurements. It may be interesting to compare those in fulltime employment versus those who are currently not."
   ]
  },
  {
   "cell_type": "markdown",
   "metadata": {},
   "source": [
    "## Martial Status"
   ]
  },
  {
   "cell_type": "code",
   "execution_count": 16,
   "metadata": {},
   "outputs": [
    {
     "name": "stdout",
     "output_type": "stream",
     "text": [
      "How many Married policy holders made repeat claims?\n",
      "42.28%\n",
      "How many Single policy holders made repeat claims?\n",
      "41.26%\n",
      "How many Divorced policy holders made repeat claims?\n",
      "42.95%\n"
     ]
    },
    {
     "data": {
      "image/png": "[encoded data removed]",
      "text/plain": [
       "<Figure size 720x432 with 1 Axes>"
      ]
     },
     "metadata": {
      "needs_background": "light"
     },
     "output_type": "display_data"
    }
   ],
   "source": [
    "print(\"How many Married policy holders made repeat claims?\")\n",
    "print(\"{:.2%}\".format(df[\"Repeat Offender\"][df[\"Marital Status\"] == 'Married'].value_counts(normalize = True)[1]))\n",
    "\n",
    "print(\"How many Single policy holders made repeat claims?\")\n",
    "print(\"{:.2%}\".format(df[\"Repeat Offender\"][df[\"Marital Status\"] == 'Single'].value_counts(normalize = True)[1]))\n",
    "\n",
    "print(\"How many Divorced policy holders made repeat claims?\")\n",
    "print(\"{:.2%}\".format(df[\"Repeat Offender\"][df[\"Marital Status\"] == 'Divorced'].value_counts(normalize = True)[1]))\n",
    "\n",
    "\n",
    "figure(figsize=(10,6))\n",
    "sns.barplot(x='Marital Status',y=\"Repeat Offender\", data=df)\n",
    "plt.ylabel(\"Proportion of Repeat Offenders\")\n",
    "plt.show()"
   ]
  },
  {
   "cell_type": "markdown",
   "metadata": {},
   "source": [
    "The arital status of the policy holder does not seem to effect the the frequency of claims in the last 12 months."
   ]
  },
  {
   "cell_type": "markdown",
   "metadata": {},
   "source": [
    " "
   ]
  },
  {
   "cell_type": "markdown",
   "metadata": {},
   "source": [
    "## Vehicle Class"
   ]
  },
  {
   "cell_type": "code",
   "execution_count": 17,
   "metadata": {
    "scrolled": true
   },
   "outputs": [
    {
     "name": "stdout",
     "output_type": "stream",
     "text": [
      "How many Two-Door Car policy holders made repeat claims?\n",
      "41.68%\n",
      "How many Four-Door Car policy holders made repeat claims?\n",
      "41.10%\n",
      "How many SUV Car policy holders made repeat claims?\n",
      "44.54%\n",
      "How many Luxury SUV policy holders made repeat claims?\n",
      "44.57%\n",
      "How many Sports Car policy holders made repeat claims?\n",
      "44.01%\n",
      "How many Luxury Car policy degree holders made repeat claims?\n",
      "40.49%\n"
     ]
    },
    {
     "data": {
      "image/png": "[encoded data removed]",
      "text/plain": [
       "<Figure size 720x432 with 1 Axes>"
      ]
     },
     "metadata": {
      "needs_background": "light"
     },
     "output_type": "display_data"
    }
   ],
   "source": [
    "print(\"How many Two-Door Car policy holders made repeat claims?\")\n",
    "print(\"{:.2%}\".format(df[\"Repeat Offender\"][df[\"Vehicle Class\"] == 'Two-Door Car'].value_counts(normalize = True)[1]))\n",
    "\n",
    "print(\"How many Four-Door Car policy holders made repeat claims?\")\n",
    "print(\"{:.2%}\".format(df[\"Repeat Offender\"][df[\"Vehicle Class\"] == 'Four-Door Car'].value_counts(normalize = True)[1]))\n",
    "\n",
    "print(\"How many SUV Car policy holders made repeat claims?\")\n",
    "print(\"{:.2%}\".format(df[\"Repeat Offender\"][df[\"Vehicle Class\"] == 'SUV'].value_counts(normalize = True)[1]))\n",
    "\n",
    "print(\"How many Luxury SUV policy holders made repeat claims?\")\n",
    "print(\"{:.2%}\".format(df[\"Repeat Offender\"][df[\"Vehicle Class\"] == 'Luxury SUV'].value_counts(normalize = True)[1]))\n",
    "\n",
    "print(\"How many Sports Car policy holders made repeat claims?\")\n",
    "print(\"{:.2%}\".format(df[\"Repeat Offender\"][df[\"Vehicle Class\"] == 'Sports Car'].value_counts(normalize = True)[1]))\n",
    "\n",
    "print(\"How many Luxury Car policy degree holders made repeat claims?\")\n",
    "print(\"{:.2%}\".format(df[\"Repeat Offender\"][df[\"Vehicle Class\"] == 'Luxury Car'].value_counts(normalize = True)[1]))\n",
    "\n",
    "\n",
    "figure(figsize=(10,6))\n",
    "sns.barplot(x='Vehicle Class',y=\"Repeat Offender\", data=df)\n",
    "plt.ylabel(\"Proportion of Repeat Offenders\")\n",
    "plt.show()"
   ]
  },
  {
   "cell_type": "markdown",
   "metadata": {},
   "source": [
    "\n",
    "\n",
    "It appears that the class of car has no bearing on the frequency of claims in the last 12 months"
   ]
  },
  {
   "cell_type": "markdown",
   "metadata": {},
   "source": [
    " "
   ]
  },
  {
   "cell_type": "markdown",
   "metadata": {},
   "source": [
    "## Vehicle Size"
   ]
  },
  {
   "cell_type": "code",
   "execution_count": 18,
   "metadata": {},
   "outputs": [
    {
     "name": "stdout",
     "output_type": "stream",
     "text": [
      "How many Medsize car policy holders made repeat claims?\n",
      "41.63%\n",
      "How many Small car policy holders made repeat claims?\n",
      "42.97%\n",
      "How many Large car policy degree holders made repeat claims?\n",
      "43.76%\n"
     ]
    },
    {
     "data": {
      "image/png": "[encoded data removed]",
      "text/plain": [
       "<Figure size 720x432 with 1 Axes>"
      ]
     },
     "metadata": {
      "needs_background": "light"
     },
     "output_type": "display_data"
    }
   ],
   "source": [
    "print(\"How many Medsize car policy holders made repeat claims?\")\n",
    "print(\"{:.2%}\".format(df[\"Repeat Offender\"][df[\"Vehicle Size\"] == 'Medsize'].value_counts(normalize = True)[1]))\n",
    "\n",
    "print(\"How many Small car policy holders made repeat claims?\")\n",
    "print(\"{:.2%}\".format(df[\"Repeat Offender\"][df[\"Vehicle Size\"] == 'Small'].value_counts(normalize = True)[1]))\n",
    "\n",
    "print(\"How many Large car policy degree holders made repeat claims?\")\n",
    "print(\"{:.2%}\".format(df[\"Repeat Offender\"][df[\"Vehicle Size\"] == 'Large'].value_counts(normalize = True)[1]))\n",
    "\n",
    "\n",
    "figure(figsize=(10,6))\n",
    "sns.barplot(x='Vehicle Size',y=\"Repeat Offender\", data=df)\n",
    "plt.ylabel(\"Proportion of Repeat Offenders\")\n",
    "plt.show()"
   ]
  },
  {
   "cell_type": "markdown",
   "metadata": {},
   "source": [
    "Vehicle Size has no effect on the amount of claims in the last 12 months "
   ]
  },
  {
   "cell_type": "markdown",
   "metadata": {},
   "source": [
    "## State"
   ]
  },
  {
   "cell_type": "code",
   "execution_count": 19,
   "metadata": {
    "scrolled": true
   },
   "outputs": [
    {
     "name": "stdout",
     "output_type": "stream",
     "text": [
      "How many Kansas policy holders made repeat claims?\n",
      "38.47%\n",
      "How many Nebraska policy holders made repeat claims?\n",
      "42.69%\n",
      "How many Oklahoma policy holders made repeat claims?\n",
      "41.38%\n",
      "How many Missouri policy holders made repeat claims?\n",
      "42.00%\n",
      "How many Iowa policy holders made repeat claims?\n",
      "43.21%\n"
     ]
    },
    {
     "data": {
      "image/png": "[encoded data removed]",
      "text/plain": [
       "<Figure size 720x432 with 1 Axes>"
      ]
     },
     "metadata": {
      "needs_background": "light"
     },
     "output_type": "display_data"
    }
   ],
   "source": [
    "print(\"How many Kansas policy holders made repeat claims?\")\n",
    "print(\"{:.2%}\".format(df[\"Repeat Offender\"][df[\"State\"] == 'Kansas'].value_counts(normalize = True)[1]))\n",
    "\n",
    "print(\"How many Nebraska policy holders made repeat claims?\")\n",
    "print(\"{:.2%}\".format(df[\"Repeat Offender\"][df[\"State\"] == 'Nebraska'].value_counts(normalize = True)[1]))\n",
    "\n",
    "print(\"How many Oklahoma policy holders made repeat claims?\")\n",
    "print(\"{:.2%}\".format(df[\"Repeat Offender\"][df[\"State\"] == 'Oklahoma'].value_counts(normalize = True)[1]))\n",
    "\n",
    "print(\"How many Missouri policy holders made repeat claims?\")\n",
    "print(\"{:.2%}\".format(df[\"Repeat Offender\"][df[\"State\"] == 'Missouri'].value_counts(normalize = True)[1]))\n",
    "\n",
    "print(\"How many Iowa policy holders made repeat claims?\")\n",
    "print(\"{:.2%}\".format(df[\"Repeat Offender\"][df[\"State\"] == 'Iowa'].value_counts(normalize = True)[1]))\n",
    "\n",
    "\n",
    "\n",
    "\n",
    "figure(figsize=(10,6))\n",
    "sns.barplot(x='State',y=\"Repeat Offender\", data=df)\n",
    "plt.ylabel(\"Proportion of Repeat Offenders\")\n",
    "plt.show()"
   ]
  },
  {
   "cell_type": "markdown",
   "metadata": {},
   "source": [
    "The state the policy holder lives in seems to have no effect on the amount of claims in the last 12 months"
   ]
  },
  {
   "cell_type": "markdown",
   "metadata": {},
   "source": [
    " "
   ]
  },
  {
   "cell_type": "markdown",
   "metadata": {},
   "source": [
    "## Income"
   ]
  },
  {
   "cell_type": "markdown",
   "metadata": {},
   "source": [
    "To observe whether one income group has an increased likelihood of multiple claims compared to another, I had preform some feature engineering to sort the customers into income groups:\n",
    "\n",
    "- 16-22\n",
    "- 22-30\n",
    "- 30-40\n",
    "- 40-50\n",
    "- 50-60\n",
    "- 60+\n"
   ]
  },
  {
   "cell_type": "code",
   "execution_count": 20,
   "metadata": {
    "scrolled": true
   },
   "outputs": [
    {
     "data": {
      "image/png": "[encoded data removed]",
      "text/plain": [
       "<Figure size 864x432 with 1 Axes>"
      ]
     },
     "metadata": {
      "needs_background": "light"
     },
     "output_type": "display_data"
    }
   ],
   "source": [
    "df[\"Income\"] = pd.to_numeric(df[\"Income\"], errors = 'coerce')\n",
    "df['IncomeGroup'] = pd.cut(df[\"Income\"], bins = [-np.inf, 10000, 30000, 50000, 70000, np.inf], labels = ['0-10k','10-30k', '30-50k', '50-70k', '70-100k',])\n",
    "figure(figsize=(12,6))\n",
    "sns.barplot(x='IncomeGroup',y=\"Repeat Offender\", data=df)\n",
    "plt.xlabel(\"Income Group (Dollars)\")\n",
    "plt.ylabel(\"Proportion of Repeat Offenders\")\n",
    "plt.show()"
   ]
  },
  {
   "cell_type": "markdown",
   "metadata": {},
   "source": [
    "Higher income drivers seem to claim more frequently but not in a statstically significant manner"
   ]
  },
  {
   "cell_type": "markdown",
   "metadata": {},
   "source": [
    " "
   ]
  },
  {
   "cell_type": "markdown",
   "metadata": {},
   "source": [
    "My analysis was not producing anything of significance so I decided to dig a little deeper and create another target variable. I wanted to see if the the number of open complaints a policy holder had, combined with the amount of claims made in the last 12 months could offer the insurance company some insight into their customers and in turn inform the companies premiums. "
   ]
  },
  {
   "cell_type": "markdown",
   "metadata": {},
   "source": [
    "## Open Complaints"
   ]
  },
  {
   "cell_type": "markdown",
   "metadata": {},
   "source": [
    "We can see below that amount of open complaints on a policy is pretty evenly distributed"
   ]
  },
  {
   "cell_type": "code",
   "execution_count": 21,
   "metadata": {
    "scrolled": true
   },
   "outputs": [
    {
     "data": {
      "image/png": "[encoded data removed]",
      "text/plain": [
       "<Figure size 720x432 with 1 Axes>"
      ]
     },
     "metadata": {
      "needs_background": "light"
     },
     "output_type": "display_data"
    }
   ],
   "source": [
    "figure(figsize=(10,6))\n",
    "sns.barplot(x='Number of Open Complaints',y=\"Repeat Offender\", data=df)\n",
    "plt.ylabel(\"Proportion of Repeat Offenders\")\n",
    "plt.show()"
   ]
  },
  {
   "cell_type": "markdown",
   "metadata": {},
   "source": [
    "Some feature engineering was necessary to separate policy holders into those who have no complains on there policy and those with more than 0. The I wanted to see the difference between repeat claimants who had no complaints and repeat claimants with multiple complaints."
   ]
  },
  {
   "cell_type": "code",
   "execution_count": 22,
   "metadata": {
    "scrolled": true
   },
   "outputs": [
    {
     "name": "stdout",
     "output_type": "stream",
     "text": [
      "How many drivers have no complaints on their policy?\n",
      "42.15%\n",
      "How many drivers have one or more complaints on their claims?\n",
      "41.92%\n"
     ]
    },
    {
     "data": {
      "image/png": "[encoded data removed]",
      "text/plain": [
       "<Figure size 720x432 with 1 Axes>"
      ]
     },
     "metadata": {
      "needs_background": "light"
     },
     "output_type": "display_data"
    }
   ],
   "source": [
    "tempdf = df\n",
    "tempdf[\"Open Cases?\"]  = df[\"Number of Open Complaints\"].apply(lambda x: 'Zero' if x == 0 else 'One or more')\n",
    "\n",
    "print(\"How many drivers have no complaints on their policy?\")\n",
    "print(\"{:.2%}\".format(df[\"Repeat Offender\"][df[\"Open Cases?\"] == 'Zero'].value_counts(normalize = True)[1]))\n",
    "\n",
    "print(\"How many drivers have one or more complaints on their claims?\")\n",
    "print(\"{:.2%}\".format(df[\"Repeat Offender\"][df[\"Open Cases?\"] == 'One or more'].value_counts(normalize = True)[1]))\n",
    "figure(figsize=(10,6))\n",
    "sns.barplot(x='Open Cases?',y=\"Repeat Offender\", data=df)\n",
    "plt.xlabel('Number of open cases')\n",
    "plt.ylabel(\"Proportion of Repeat Offenders\")\n",
    "plt.show()"
   ]
  },
  {
   "cell_type": "markdown",
   "metadata": {},
   "source": [
    "We can see that the two subsets are evenly distributed. "
   ]
  },
  {
   "cell_type": "code",
   "execution_count": 23,
   "metadata": {},
   "outputs": [
    {
     "data": {
      "text/html": [
       "<div>\n",
       "<style scoped>\n",
       "    .dataframe tbody tr th:only-of-type {\n",
       "        vertical-align: middle;\n",
       "    }\n",
       "\n",
       "    .dataframe tbody tr th {\n",
       "        vertical-align: top;\n",
       "    }\n",
       "\n",
       "    .dataframe thead th {\n",
       "        text-align: right;\n",
       "    }\n",
       "</style>\n",
       "<table border=\"1\" class=\"dataframe\">\n",
       "  <thead>\n",
       "    <tr style=\"text-align: right;\">\n",
       "      <th></th>\n",
       "      <th>Customer</th>\n",
       "      <th>Country</th>\n",
       "      <th>State Code</th>\n",
       "      <th>State</th>\n",
       "      <th>Claim Amount</th>\n",
       "      <th>Response</th>\n",
       "      <th>Coverage</th>\n",
       "      <th>Education</th>\n",
       "      <th>Effective To Date</th>\n",
       "      <th>EmploymentStatus</th>\n",
       "      <th>...</th>\n",
       "      <th>Policy Type</th>\n",
       "      <th>Policy</th>\n",
       "      <th>Claim Reason</th>\n",
       "      <th>Sales Channel</th>\n",
       "      <th>Total Claim Amount</th>\n",
       "      <th>Vehicle Class</th>\n",
       "      <th>Vehicle Size</th>\n",
       "      <th>Repeat Offender</th>\n",
       "      <th>IncomeGroup</th>\n",
       "      <th>Open Cases?</th>\n",
       "    </tr>\n",
       "  </thead>\n",
       "  <tbody>\n",
       "    <tr>\n",
       "      <th>12</th>\n",
       "      <td>DP39365</td>\n",
       "      <td>US</td>\n",
       "      <td>MO</td>\n",
       "      <td>Missouri</td>\n",
       "      <td>879.879700</td>\n",
       "      <td>No</td>\n",
       "      <td>Premium</td>\n",
       "      <td>Master</td>\n",
       "      <td>02/06/2011</td>\n",
       "      <td>Employed</td>\n",
       "      <td>...</td>\n",
       "      <td>Corporate Auto</td>\n",
       "      <td>Corporate L1</td>\n",
       "      <td>Hail</td>\n",
       "      <td>Agent</td>\n",
       "      <td>472.029737</td>\n",
       "      <td>Four-Door Car</td>\n",
       "      <td>Medsize</td>\n",
       "      <td>1</td>\n",
       "      <td>70-100k</td>\n",
       "      <td>One or more</td>\n",
       "    </tr>\n",
       "    <tr>\n",
       "      <th>23</th>\n",
       "      <td>TZ98966</td>\n",
       "      <td>US</td>\n",
       "      <td>OK</td>\n",
       "      <td>Oklahoma</td>\n",
       "      <td>245.019100</td>\n",
       "      <td>No</td>\n",
       "      <td>Basic</td>\n",
       "      <td>Bachelor</td>\n",
       "      <td>2/24/11</td>\n",
       "      <td>Unemployed</td>\n",
       "      <td>...</td>\n",
       "      <td>Corporate Auto</td>\n",
       "      <td>Corporate L3</td>\n",
       "      <td>Collision</td>\n",
       "      <td>Branch</td>\n",
       "      <td>554.376763</td>\n",
       "      <td>Four-Door Car</td>\n",
       "      <td>Medsize</td>\n",
       "      <td>1</td>\n",
       "      <td>0-10k</td>\n",
       "      <td>One or more</td>\n",
       "    </tr>\n",
       "    <tr>\n",
       "      <th>30</th>\n",
       "      <td>SV85652</td>\n",
       "      <td>US</td>\n",
       "      <td>NE</td>\n",
       "      <td>Nebraska</td>\n",
       "      <td>245.458354</td>\n",
       "      <td>No</td>\n",
       "      <td>Basic</td>\n",
       "      <td>College</td>\n",
       "      <td>2/28/11</td>\n",
       "      <td>Employed</td>\n",
       "      <td>...</td>\n",
       "      <td>Personal Auto</td>\n",
       "      <td>Personal L2</td>\n",
       "      <td>Other</td>\n",
       "      <td>Call Center</td>\n",
       "      <td>322.294043</td>\n",
       "      <td>Four-Door Car</td>\n",
       "      <td>Small</td>\n",
       "      <td>1</td>\n",
       "      <td>10-30k</td>\n",
       "      <td>One or more</td>\n",
       "    </tr>\n",
       "    <tr>\n",
       "      <th>39</th>\n",
       "      <td>WC35801</td>\n",
       "      <td>US</td>\n",
       "      <td>NE</td>\n",
       "      <td>Nebraska</td>\n",
       "      <td>252.163310</td>\n",
       "      <td>No</td>\n",
       "      <td>Basic</td>\n",
       "      <td>High School or Below</td>\n",
       "      <td>02/07/2011</td>\n",
       "      <td>Employed</td>\n",
       "      <td>...</td>\n",
       "      <td>Personal Auto</td>\n",
       "      <td>Personal L3</td>\n",
       "      <td>Collision</td>\n",
       "      <td>Call Center</td>\n",
       "      <td>157.397849</td>\n",
       "      <td>Four-Door Car</td>\n",
       "      <td>Medsize</td>\n",
       "      <td>1</td>\n",
       "      <td>50-70k</td>\n",
       "      <td>One or more</td>\n",
       "    </tr>\n",
       "    <tr>\n",
       "      <th>40</th>\n",
       "      <td>QG25316</td>\n",
       "      <td>US</td>\n",
       "      <td>OK</td>\n",
       "      <td>Oklahoma</td>\n",
       "      <td>265.206179</td>\n",
       "      <td>No</td>\n",
       "      <td>Basic</td>\n",
       "      <td>High School or Below</td>\n",
       "      <td>1/18/11</td>\n",
       "      <td>Unemployed</td>\n",
       "      <td>...</td>\n",
       "      <td>Corporate Auto</td>\n",
       "      <td>Corporate L3</td>\n",
       "      <td>Scratch/Dent</td>\n",
       "      <td>Call Center</td>\n",
       "      <td>484.318536</td>\n",
       "      <td>Two-Door Car</td>\n",
       "      <td>Medsize</td>\n",
       "      <td>1</td>\n",
       "      <td>0-10k</td>\n",
       "      <td>One or more</td>\n",
       "    </tr>\n",
       "    <tr>\n",
       "      <th>...</th>\n",
       "      <td>...</td>\n",
       "      <td>...</td>\n",
       "      <td>...</td>\n",
       "      <td>...</td>\n",
       "      <td>...</td>\n",
       "      <td>...</td>\n",
       "      <td>...</td>\n",
       "      <td>...</td>\n",
       "      <td>...</td>\n",
       "      <td>...</td>\n",
       "      <td>...</td>\n",
       "      <td>...</td>\n",
       "      <td>...</td>\n",
       "      <td>...</td>\n",
       "      <td>...</td>\n",
       "      <td>...</td>\n",
       "      <td>...</td>\n",
       "      <td>...</td>\n",
       "      <td>...</td>\n",
       "      <td>...</td>\n",
       "      <td>...</td>\n",
       "    </tr>\n",
       "    <tr>\n",
       "      <th>9075</th>\n",
       "      <td>IX18485</td>\n",
       "      <td>US</td>\n",
       "      <td>MO</td>\n",
       "      <td>Missouri</td>\n",
       "      <td>959.424890</td>\n",
       "      <td>No</td>\n",
       "      <td>Extended</td>\n",
       "      <td>High School or Below</td>\n",
       "      <td>02/01/2011</td>\n",
       "      <td>Retired</td>\n",
       "      <td>...</td>\n",
       "      <td>Personal Auto</td>\n",
       "      <td>Personal L2</td>\n",
       "      <td>Collision</td>\n",
       "      <td>Agent</td>\n",
       "      <td>685.048914</td>\n",
       "      <td>Four-Door Car</td>\n",
       "      <td>Medsize</td>\n",
       "      <td>1</td>\n",
       "      <td>10-30k</td>\n",
       "      <td>One or more</td>\n",
       "    </tr>\n",
       "    <tr>\n",
       "      <th>9092</th>\n",
       "      <td>CO91673</td>\n",
       "      <td>US</td>\n",
       "      <td>MO</td>\n",
       "      <td>Missouri</td>\n",
       "      <td>454.732182</td>\n",
       "      <td>No</td>\n",
       "      <td>Basic</td>\n",
       "      <td>Bachelor</td>\n",
       "      <td>2/14/11</td>\n",
       "      <td>Medical Leave</td>\n",
       "      <td>...</td>\n",
       "      <td>Personal Auto</td>\n",
       "      <td>Personal L2</td>\n",
       "      <td>Hail</td>\n",
       "      <td>Agent</td>\n",
       "      <td>292.800000</td>\n",
       "      <td>Four-Door Car</td>\n",
       "      <td>Medsize</td>\n",
       "      <td>1</td>\n",
       "      <td>10-30k</td>\n",
       "      <td>One or more</td>\n",
       "    </tr>\n",
       "    <tr>\n",
       "      <th>9111</th>\n",
       "      <td>IJ25462</td>\n",
       "      <td>US</td>\n",
       "      <td>MO</td>\n",
       "      <td>Missouri</td>\n",
       "      <td>284.552093</td>\n",
       "      <td>No</td>\n",
       "      <td>Basic</td>\n",
       "      <td>Bachelor</td>\n",
       "      <td>02/07/2011</td>\n",
       "      <td>Employed</td>\n",
       "      <td>...</td>\n",
       "      <td>Personal Auto</td>\n",
       "      <td>Personal L2</td>\n",
       "      <td>Scratch/Dent</td>\n",
       "      <td>Agent</td>\n",
       "      <td>400.832857</td>\n",
       "      <td>Four-Door Car</td>\n",
       "      <td>Small</td>\n",
       "      <td>1</td>\n",
       "      <td>70-100k</td>\n",
       "      <td>One or more</td>\n",
       "    </tr>\n",
       "    <tr>\n",
       "      <th>9121</th>\n",
       "      <td>BB10681</td>\n",
       "      <td>US</td>\n",
       "      <td>MO</td>\n",
       "      <td>Missouri</td>\n",
       "      <td>414.064865</td>\n",
       "      <td>No</td>\n",
       "      <td>Extended</td>\n",
       "      <td>College</td>\n",
       "      <td>1/17/11</td>\n",
       "      <td>Unemployed</td>\n",
       "      <td>...</td>\n",
       "      <td>Corporate Auto</td>\n",
       "      <td>Corporate L3</td>\n",
       "      <td>Collision</td>\n",
       "      <td>Branch</td>\n",
       "      <td>590.400000</td>\n",
       "      <td>SUV</td>\n",
       "      <td>Medsize</td>\n",
       "      <td>1</td>\n",
       "      <td>0-10k</td>\n",
       "      <td>One or more</td>\n",
       "    </tr>\n",
       "    <tr>\n",
       "      <th>9131</th>\n",
       "      <td>TD14365</td>\n",
       "      <td>US</td>\n",
       "      <td>MO</td>\n",
       "      <td>Missouri</td>\n",
       "      <td>816.389043</td>\n",
       "      <td>No</td>\n",
       "      <td>Extended</td>\n",
       "      <td>Bachelor</td>\n",
       "      <td>02/06/2011</td>\n",
       "      <td>Unemployed</td>\n",
       "      <td>...</td>\n",
       "      <td>Corporate Auto</td>\n",
       "      <td>Corporate L2</td>\n",
       "      <td>Collision</td>\n",
       "      <td>Branch</td>\n",
       "      <td>790.784983</td>\n",
       "      <td>Four-Door Car</td>\n",
       "      <td>Medsize</td>\n",
       "      <td>1</td>\n",
       "      <td>0-10k</td>\n",
       "      <td>One or more</td>\n",
       "    </tr>\n",
       "  </tbody>\n",
       "</table>\n",
       "<p>789 rows × 29 columns</p>\n",
       "</div>"
      ],
      "text/plain": [
       "     Customer Country State Code     State  Claim Amount Response  Coverage  \\\n",
       "12    DP39365      US         MO  Missouri    879.879700       No   Premium   \n",
       "23    TZ98966      US         OK  Oklahoma    245.019100       No     Basic   \n",
       "30    SV85652      US         NE  Nebraska    245.458354       No     Basic   \n",
       "39    WC35801      US         NE  Nebraska    252.163310       No     Basic   \n",
       "40    QG25316      US         OK  Oklahoma    265.206179       No     Basic   \n",
       "...       ...     ...        ...       ...           ...      ...       ...   \n",
       "9075  IX18485      US         MO  Missouri    959.424890       No  Extended   \n",
       "9092  CO91673      US         MO  Missouri    454.732182       No     Basic   \n",
       "9111  IJ25462      US         MO  Missouri    284.552093       No     Basic   \n",
       "9121  BB10681      US         MO  Missouri    414.064865       No  Extended   \n",
       "9131  TD14365      US         MO  Missouri    816.389043       No  Extended   \n",
       "\n",
       "                 Education Effective To Date EmploymentStatus  ...  \\\n",
       "12                  Master        02/06/2011         Employed  ...   \n",
       "23                Bachelor           2/24/11       Unemployed  ...   \n",
       "30                 College           2/28/11         Employed  ...   \n",
       "39    High School or Below        02/07/2011         Employed  ...   \n",
       "40    High School or Below           1/18/11       Unemployed  ...   \n",
       "...                    ...               ...              ...  ...   \n",
       "9075  High School or Below        02/01/2011          Retired  ...   \n",
       "9092              Bachelor           2/14/11    Medical Leave  ...   \n",
       "9111              Bachelor        02/07/2011         Employed  ...   \n",
       "9121               College           1/17/11       Unemployed  ...   \n",
       "9131              Bachelor        02/06/2011       Unemployed  ...   \n",
       "\n",
       "         Policy Type        Policy  Claim Reason Sales Channel  \\\n",
       "12    Corporate Auto  Corporate L1          Hail         Agent   \n",
       "23    Corporate Auto  Corporate L3     Collision        Branch   \n",
       "30     Personal Auto   Personal L2         Other   Call Center   \n",
       "39     Personal Auto   Personal L3     Collision   Call Center   \n",
       "40    Corporate Auto  Corporate L3  Scratch/Dent   Call Center   \n",
       "...              ...           ...           ...           ...   \n",
       "9075   Personal Auto   Personal L2     Collision         Agent   \n",
       "9092   Personal Auto   Personal L2          Hail         Agent   \n",
       "9111   Personal Auto   Personal L2  Scratch/Dent         Agent   \n",
       "9121  Corporate Auto  Corporate L3     Collision        Branch   \n",
       "9131  Corporate Auto  Corporate L2     Collision        Branch   \n",
       "\n",
       "      Total Claim Amount  Vehicle Class  Vehicle Size  Repeat Offender  \\\n",
       "12            472.029737  Four-Door Car       Medsize                1   \n",
       "23            554.376763  Four-Door Car       Medsize                1   \n",
       "30            322.294043  Four-Door Car         Small                1   \n",
       "39            157.397849  Four-Door Car       Medsize                1   \n",
       "40            484.318536   Two-Door Car       Medsize                1   \n",
       "...                  ...            ...           ...              ...   \n",
       "9075          685.048914  Four-Door Car       Medsize                1   \n",
       "9092          292.800000  Four-Door Car       Medsize                1   \n",
       "9111          400.832857  Four-Door Car         Small                1   \n",
       "9121          590.400000            SUV       Medsize                1   \n",
       "9131          790.784983  Four-Door Car       Medsize                1   \n",
       "\n",
       "      IncomeGroup  Open Cases?  \n",
       "12        70-100k  One or more  \n",
       "23          0-10k  One or more  \n",
       "30         10-30k  One or more  \n",
       "39         50-70k  One or more  \n",
       "40          0-10k  One or more  \n",
       "...           ...          ...  \n",
       "9075       10-30k  One or more  \n",
       "9092       10-30k  One or more  \n",
       "9111      70-100k  One or more  \n",
       "9121        0-10k  One or more  \n",
       "9131        0-10k  One or more  \n",
       "\n",
       "[789 rows x 29 columns]"
      ]
     },
     "execution_count": 23,
     "metadata": {},
     "output_type": "execute_result"
    }
   ],
   "source": [
    "df[(df[\"Repeat Offender\"] == 1) & (df[\"Number of Open Complaints\"] > 0)]"
   ]
  },
  {
   "cell_type": "markdown",
   "metadata": {},
   "source": [
    "Further feature engineering is applied to create a new target variable that categorises policy holders into those repeat claimants who had no complaints and repeat claimants with multiple complaints"
   ]
  },
  {
   "cell_type": "code",
   "execution_count": 24,
   "metadata": {},
   "outputs": [],
   "source": [
    "df['Repeat&Open'] = 0 \n",
    "\n",
    "df.loc[(df[\"Repeat Offender\"] == 1) & \n",
    "       (df[\"Number of Open Complaints\"] > 0), \n",
    "       'Repeat&Open'] = 1 # then set class to 1"
   ]
  },
  {
   "cell_type": "markdown",
   "metadata": {},
   "source": [
    "Below we can see only about 1000 policy holders had multiple open complaints while having also made more than one claim in the last year. It is this subset we will preform further exploratory analysis."
   ]
  },
  {
   "cell_type": "code",
   "execution_count": 25,
   "metadata": {},
   "outputs": [
    {
     "data": {
      "image/png": "[encoded data removed]",
      "text/plain": [
       "<Figure size 576x432 with 1 Axes>"
      ]
     },
     "metadata": {
      "needs_background": "light"
     },
     "output_type": "display_data"
    }
   ],
   "source": [
    "figure(figsize=(8,6))\n",
    "sns.countplot(x='Repeat&Open',data=df)\n",
    "plt.xlabel('Repeat claim status')\n",
    "plt.xticks([0,1],labels=['Everyone else','Repeat Offender with one or more open complaints'])\n",
    "plt.xticks(rotation=45)\n",
    "plt.title('Distribution of Insurance Claims')\n",
    "plt.show()"
   ]
  },
  {
   "cell_type": "markdown",
   "metadata": {},
   "source": [
    "## Exploratory Analysis using new Target Variable"
   ]
  },
  {
   "cell_type": "markdown",
   "metadata": {},
   "source": [
    "## Gender"
   ]
  },
  {
   "cell_type": "code",
   "execution_count": 26,
   "metadata": {},
   "outputs": [
    {
     "name": "stdout",
     "output_type": "stream",
     "text": [
      "How many Male drivers made repeat claims while having one or more complaints open?\n",
      "8.31%\n",
      "How many Male drivers made repeat claims while having one or more complaints open?\n",
      "8.95%\n"
     ]
    },
    {
     "data": {
      "image/png": "[encoded data removed]",
      "text/plain": [
       "<Figure size 720x432 with 1 Axes>"
      ]
     },
     "metadata": {
      "needs_background": "light"
     },
     "output_type": "display_data"
    }
   ],
   "source": [
    "print(\"How many Male drivers made repeat claims while having one or more complaints open?\")\n",
    "print(\"{:.2%}\".format(df[\"Repeat&Open\"][df[\"Gender\"] == 'M'].value_counts(normalize = True)[1]))\n",
    "\n",
    "print(\"How many Male drivers made repeat claims while having one or more complaints open?\")\n",
    "print(\"{:.2%}\".format(df[\"Repeat&Open\"][df[\"Gender\"] == 'F'].value_counts(normalize = True)[1]))\n",
    "figure(figsize=(10,6))\n",
    "sns.barplot(df.Gender, df[\"Repeat&Open\"])\n",
    "plt.xlabel('Gender')\n",
    "plt.xticks([0,1],labels=['Male','Female'])\n",
    "plt.ylabel(\"Proportion of Repeat Offenders having one or more complaints open\")\n",
    "plt.show()"
   ]
  },
  {
   "cell_type": "markdown",
   "metadata": {},
   "source": [
    "## Location"
   ]
  },
  {
   "cell_type": "code",
   "execution_count": 27,
   "metadata": {},
   "outputs": [
    {
     "name": "stdout",
     "output_type": "stream",
     "text": [
      "How many Urban drivers made repeat claims while having one or more complaints open?\n",
      "9.54%\n",
      "How many Rural drivers made repeat claims while having one or more complaints open?\n",
      "8.91%\n",
      "How many Suburban drivers made repeat claims while having one or more complaints open?\n",
      "8.31%\n"
     ]
    },
    {
     "data": {
      "image/png": "[encoded data removed]",
      "text/plain": [
       "<Figure size 720x432 with 1 Axes>"
      ]
     },
     "metadata": {
      "needs_background": "light"
     },
     "output_type": "display_data"
    }
   ],
   "source": [
    "print(\"How many Urban drivers made repeat claims while having one or more complaints open?\")\n",
    "print(\"{:.2%}\".format(df[\"Repeat&Open\"][df[\"Location Code\"] == 'Urban'].value_counts(normalize = True)[1]))\n",
    "\n",
    "print(\"How many Rural drivers made repeat claims while having one or more complaints open?\")\n",
    "print(\"{:.2%}\".format(df[\"Repeat&Open\"][df[\"Location Code\"] == 'Rural'].value_counts(normalize = True)[1]))\n",
    "\n",
    "print(\"How many Suburban drivers made repeat claims while having one or more complaints open?\")\n",
    "print(\"{:.2%}\".format(df[\"Repeat&Open\"][df[\"Location Code\"] == 'Suburban'].value_counts(normalize = True)[1]))\n",
    "\n",
    "figure(figsize=(10,6))\n",
    "sns.barplot(x='Location Code',y=\"Repeat&Open\", data=df)\n",
    "plt.ylabel(\"Proportion of Repeat Offenders while having one or more complaints open?\")\n",
    "plt.show()"
   ]
  },
  {
   "cell_type": "markdown",
   "metadata": {},
   "source": [
    "## Education"
   ]
  },
  {
   "cell_type": "code",
   "execution_count": 28,
   "metadata": {},
   "outputs": [
    {
     "name": "stdout",
     "output_type": "stream",
     "text": [
      "How many Bachelor degree holders made repeat claims while having one or more complaints open?\n",
      "9.97%\n",
      "How many policy holders with some College made repeat claims while having one or more complaints open?\n",
      "8.06%\n",
      "How many Masters degree holders made repeat claims while having one or more complaints open?\n",
      "9.18%\n",
      "How many High School or Below drivers made repeat claims while having one or more complaints open?\n",
      "7.70%\n",
      "How many PhD holders made repeat claims while having one or more complaints open?\n",
      "8.48%\n"
     ]
    },
    {
     "data": {
      "image/png": "[encoded data removed]",
      "text/plain": [
       "<Figure size 720x432 with 1 Axes>"
      ]
     },
     "metadata": {
      "needs_background": "light"
     },
     "output_type": "display_data"
    }
   ],
   "source": [
    "print(\"How many Bachelor degree holders made repeat claims while having one or more complaints open?\")\n",
    "print(\"{:.2%}\".format(df[\"Repeat&Open\"][df[\"Education\"] == 'Bachelor'].value_counts(normalize = True)[1]))\n",
    "\n",
    "print(\"How many policy holders with some College made repeat claims while having one or more complaints open?\")\n",
    "print(\"{:.2%}\".format(df[\"Repeat&Open\"][df[\"Education\"] == 'College'].value_counts(normalize = True)[1]))\n",
    "\n",
    "print(\"How many Masters degree holders made repeat claims while having one or more complaints open?\")\n",
    "print(\"{:.2%}\".format(df[\"Repeat&Open\"][df[\"Education\"] == 'Master'].value_counts(normalize = True)[1]))\n",
    "\n",
    "print(\"How many High School or Below drivers made repeat claims while having one or more complaints open?\")\n",
    "print(\"{:.2%}\".format(df[\"Repeat&Open\"][df[\"Education\"] == 'High School or Below'].value_counts(normalize = True)[1]))\n",
    "\n",
    "print(\"How many PhD holders made repeat claims while having one or more complaints open?\")\n",
    "print(\"{:.2%}\".format(df[\"Repeat&Open\"][df[\"Education\"] == \"Doctor\"].value_counts(normalize = True)[1]))\n",
    "\n",
    "figure(figsize=(10,6))\n",
    "sns.barplot(x='Education',y=\"Repeat&Open\", data=df)\n",
    "plt.ylabel(\"Proportion of Repeat Offenders while having one or more complaints open?\")\n",
    "plt.show()"
   ]
  },
  {
   "cell_type": "markdown",
   "metadata": {},
   "source": [
    "## Employment Status"
   ]
  },
  {
   "cell_type": "markdown",
   "metadata": {},
   "source": [
    "Below we can see that we seem to have our first statistically significant distribution. It seems that retirees are more likely to haven open complaints on their account while having made multiple claims in the last year."
   ]
  },
  {
   "cell_type": "code",
   "execution_count": 29,
   "metadata": {
    "scrolled": false
   },
   "outputs": [
    {
     "name": "stdout",
     "output_type": "stream",
     "text": [
      "How many Disabled Policy holders made repeat claims while having one or more complaints open?\n",
      "4.69%\n",
      "How many Employed policy holders made repeat claims while having one or more complaints open?\n",
      "8.99%\n",
      "How many policy holders on medical leave have made repeat claims while having one or more complaints open?\n",
      "8.33%\n",
      "How many Retired policy holders have made repeat claims while having one or more complaints open?\n",
      "13.83%\n",
      "How many Unemployed policy holders made repeat claims while having one or more complaints open?\n",
      "7.90%\n"
     ]
    },
    {
     "data": {
      "image/png": "[encoded data removed]",
      "text/plain": [
       "<Figure size 720x432 with 1 Axes>"
      ]
     },
     "metadata": {
      "needs_background": "light"
     },
     "output_type": "display_data"
    }
   ],
   "source": [
    "print(\"How many Disabled Policy holders made repeat claims while having one or more complaints open?\")\n",
    "print(\"{:.2%}\".format(df[\"Repeat&Open\"][df[\"EmploymentStatus\"] == 'Disabled'].value_counts(normalize = True)[1]))\n",
    "\n",
    "print(\"How many Employed policy holders made repeat claims while having one or more complaints open?\")\n",
    "print(\"{:.2%}\".format(df[\"Repeat&Open\"][df[\"EmploymentStatus\"] == 'Employed'].value_counts(normalize = True)[1]))\n",
    "\n",
    "print(\"How many policy holders on medical leave have made repeat claims while having one or more complaints open?\")\n",
    "print(\"{:.2%}\".format(df[\"Repeat&Open\"][df[\"EmploymentStatus\"] == 'Medical Leave'].value_counts(normalize = True)[1]))\n",
    "\n",
    "print(\"How many Retired policy holders have made repeat claims while having one or more complaints open?\")\n",
    "print(\"{:.2%}\".format(df[\"Repeat&Open\"][df[\"EmploymentStatus\"] == 'Retired'].value_counts(normalize = True)[1]))\n",
    "\n",
    "print(\"How many Unemployed policy holders made repeat claims while having one or more complaints open?\")\n",
    "print(\"{:.2%}\".format(df[\"Repeat&Open\"][df[\"EmploymentStatus\"] == \"Unemployed\"].value_counts(normalize = True)[1]))\n",
    "\n",
    "\n",
    "figure(figsize=(10,6))\n",
    "sns.barplot(x='EmploymentStatus',y=\"Repeat&Open\", data=df)\n",
    "plt.ylabel(\"Proportion of Repeat Offenders while having one or more complaints open?\")\n",
    "plt.show()"
   ]
  },
  {
   "cell_type": "markdown",
   "metadata": {},
   "source": [
    "## Vehicle Class"
   ]
  },
  {
   "cell_type": "markdown",
   "metadata": {},
   "source": [
    "For the vehicle class we can see that both of the luxury types of vehicles seem to be over represented among those with multiple claims and multiple open complaints. "
   ]
  },
  {
   "cell_type": "code",
   "execution_count": 30,
   "metadata": {
    "scrolled": false
   },
   "outputs": [
    {
     "name": "stdout",
     "output_type": "stream",
     "text": [
      "How many Two-Door Car policy holders with repeat claims while having one or more complaints open?\n",
      "7.95%\n",
      "How many Four-Door Car policy holders with repeat claims while having one or more complaints open?\n",
      "9.00%\n",
      "How many SUV Car policy holders made repeat claims while having one or more complaints open?\n",
      "8.07%\n",
      "How many Luxury SUV policy holders made repeat claims while having one or more complaints open?\n",
      "14.13%\n",
      "How many Sports Car policy holders made repeat claims while having one or more complaints open?\n",
      "6.82%\n",
      "How many Luxury Car policy degree holders made repeat claims while having one or more complaints open?\n",
      "11.66%\n"
     ]
    },
    {
     "data": {
      "image/png": "[encoded data removed]",
      "text/plain": [
       "<Figure size 720x432 with 1 Axes>"
      ]
     },
     "metadata": {
      "needs_background": "light"
     },
     "output_type": "display_data"
    }
   ],
   "source": [
    "print(\"How many Two-Door Car policy holders with repeat claims while having one or more complaints open?\")\n",
    "print(\"{:.2%}\".format(df[\"Repeat&Open\"][df[\"Vehicle Class\"] == 'Two-Door Car'].value_counts(normalize = True)[1]))\n",
    "\n",
    "print(\"How many Four-Door Car policy holders with repeat claims while having one or more complaints open?\")\n",
    "print(\"{:.2%}\".format(df[\"Repeat&Open\"][df[\"Vehicle Class\"] == 'Four-Door Car'].value_counts(normalize = True)[1]))\n",
    "\n",
    "print(\"How many SUV Car policy holders made repeat claims while having one or more complaints open?\")\n",
    "print(\"{:.2%}\".format(df[\"Repeat&Open\"][df[\"Vehicle Class\"] == 'SUV'].value_counts(normalize = True)[1]))\n",
    "\n",
    "print(\"How many Luxury SUV policy holders made repeat claims while having one or more complaints open?\")\n",
    "print(\"{:.2%}\".format(df[\"Repeat&Open\"][df[\"Vehicle Class\"] == 'Luxury SUV'].value_counts(normalize = True)[1]))\n",
    "\n",
    "print(\"How many Sports Car policy holders made repeat claims while having one or more complaints open?\")\n",
    "print(\"{:.2%}\".format(df[\"Repeat&Open\"][df[\"Vehicle Class\"] == 'Sports Car'].value_counts(normalize = True)[1]))\n",
    "\n",
    "print(\"How many Luxury Car policy degree holders made repeat claims while having one or more complaints open?\")\n",
    "print(\"{:.2%}\".format(df[\"Repeat&Open\"][df[\"Vehicle Class\"] == 'Luxury Car'].value_counts(normalize = True)[1]))\n",
    "\n",
    "\n",
    "figure(figsize=(10,6))\n",
    "sns.barplot(x='Vehicle Class',y=\"Repeat&Open\", data=df)\n",
    "plt.ylabel(\"Proportion of Repeat Offenders while having one or more complaints open?\")\n",
    "plt.show()"
   ]
  },
  {
   "cell_type": "code",
   "execution_count": 31,
   "metadata": {},
   "outputs": [
    {
     "data": {
      "image/png": "[encoded data removed]",
      "text/plain": [
       "<Figure size 720x360 with 1 Axes>"
      ]
     },
     "metadata": {
      "needs_background": "light"
     },
     "output_type": "display_data"
    }
   ],
   "source": [
    "figure(figsize=(10,5))\n",
    "sns.lineplot(x=\"Vehicle Class\",y=\"Repeat&Open\",data=df)\n",
    "plt.xlabel(\"Type of Car\")\n",
    "plt.ylabel(\"Proportion of Repeat Offenders with Open Claims while having one or more complaints open?\")\n",
    "plt.show()"
   ]
  },
  {
   "cell_type": "markdown",
   "metadata": {},
   "source": [
    "## Marital Status"
   ]
  },
  {
   "cell_type": "code",
   "execution_count": 32,
   "metadata": {},
   "outputs": [
    {
     "name": "stdout",
     "output_type": "stream",
     "text": [
      "How many Married policy holders made repeat claims while having one or more complaints open? ?\n",
      "8.68%\n",
      "How many Singe policy holders made repeat claims while having one or more complaints open??\n",
      "8.15%\n",
      "How many Divorced degree holders made repeat claims while having one or more complaints open??\n",
      "9.35%\n"
     ]
    },
    {
     "data": {
      "image/png": "[encoded data removed]",
      "text/plain": [
       "<Figure size 720x432 with 1 Axes>"
      ]
     },
     "metadata": {
      "needs_background": "light"
     },
     "output_type": "display_data"
    }
   ],
   "source": [
    "print(\"How many Married policy holders made repeat claims while having one or more complaints open? ?\")\n",
    "print(\"{:.2%}\".format(df[\"Repeat&Open\"][df[\"Marital Status\"] == 'Married'].value_counts(normalize = True)[1]))\n",
    "\n",
    "print(\"How many Singe policy holders made repeat claims while having one or more complaints open??\")\n",
    "print(\"{:.2%}\".format(df[\"Repeat&Open\"][df[\"Marital Status\"] == 'Single'].value_counts(normalize = True)[1]))\n",
    "\n",
    "print(\"How many Divorced degree holders made repeat claims while having one or more complaints open??\")\n",
    "print(\"{:.2%}\".format(df[\"Repeat&Open\"][df[\"Marital Status\"] == 'Divorced'].value_counts(normalize = True)[1]))\n",
    "\n",
    "\n",
    "figure(figsize=(10,6))\n",
    "sns.barplot(x='Marital Status',y=\"Repeat&Open\", data=df)\n",
    "plt.ylabel(\"Proportion of Repeat Offenders while having one or more complaints open?\")\n",
    "plt.show()"
   ]
  },
  {
   "cell_type": "markdown",
   "metadata": {},
   "source": [
    "## Vehicle Size"
   ]
  },
  {
   "cell_type": "code",
   "execution_count": 33,
   "metadata": {},
   "outputs": [
    {
     "name": "stdout",
     "output_type": "stream",
     "text": [
      "How many Medsize car policy holders made repeat claims while having one or more complaints open?\n",
      "8.76%\n",
      "How many Small car policy holders made repeat claims while having one or more complaints open?\n",
      "7.88%\n",
      "How many Large car policy  made repeat claims while having one or more complaints open?\n",
      "9.20%\n"
     ]
    },
    {
     "data": {
      "image/png": "[encoded data removed]",
      "text/plain": [
       "<Figure size 720x432 with 1 Axes>"
      ]
     },
     "metadata": {
      "needs_background": "light"
     },
     "output_type": "display_data"
    }
   ],
   "source": [
    "print(\"How many Medsize car policy holders made repeat claims while having one or more complaints open?\")\n",
    "print(\"{:.2%}\".format(df[\"Repeat&Open\"][df[\"Vehicle Size\"] == 'Medsize'].value_counts(normalize = True)[1]))\n",
    "\n",
    "print(\"How many Small car policy holders made repeat claims while having one or more complaints open?\")\n",
    "print(\"{:.2%}\".format(df[\"Repeat&Open\"][df[\"Vehicle Size\"] == 'Small'].value_counts(normalize = True)[1]))\n",
    "\n",
    "print(\"How many Large car policy  made repeat claims while having one or more complaints open?\")\n",
    "print(\"{:.2%}\".format(df[\"Repeat&Open\"][df[\"Vehicle Size\"] == 'Large'].value_counts(normalize = True)[1]))\n",
    "\n",
    "\n",
    "figure(figsize=(10,6))\n",
    "sns.barplot(x='Vehicle Size',y=\"Repeat&Open\", data=df)\n",
    "plt.ylabel(\"Proportion of Repeat Offenders while having one or more complaints open\")\n",
    "plt.show()"
   ]
  },
  {
   "cell_type": "markdown",
   "metadata": {},
   "source": [
    "## State"
   ]
  },
  {
   "cell_type": "code",
   "execution_count": 34,
   "metadata": {},
   "outputs": [
    {
     "name": "stdout",
     "output_type": "stream",
     "text": [
      "How many Kansas policy holders made repeat claims while having one or more complaints open?\n",
      "8.15%\n",
      "How many Nebraska policy holders made repeat claims while having one or more complaints open?\n",
      "7.99%\n",
      "How many Oklahoma policy holders made repeat claims while having one or more complaints open?\n",
      "8.84%\n",
      "How many Missouri policy holders made repeat claims while having one or more complaints open?\n",
      "9.43%\n",
      "How many Iowa policy holders made repeat claims while having one or more complaints open?\n",
      "8.19%\n"
     ]
    },
    {
     "data": {
      "image/png": "[encoded data removed]",
      "text/plain": [
       "<Figure size 720x432 with 1 Axes>"
      ]
     },
     "metadata": {
      "needs_background": "light"
     },
     "output_type": "display_data"
    }
   ],
   "source": [
    "print(\"How many Kansas policy holders made repeat claims while having one or more complaints open?\")\n",
    "print(\"{:.2%}\".format(df[\"Repeat&Open\"][df[\"State\"] == 'Kansas'].value_counts(normalize = True)[1]))\n",
    "\n",
    "print(\"How many Nebraska policy holders made repeat claims while having one or more complaints open?\")\n",
    "print(\"{:.2%}\".format(df[\"Repeat&Open\"][df[\"State\"] == 'Nebraska'].value_counts(normalize = True)[1]))\n",
    "\n",
    "print(\"How many Oklahoma policy holders made repeat claims while having one or more complaints open?\")\n",
    "print(\"{:.2%}\".format(df[\"Repeat&Open\"][df[\"State\"] == 'Oklahoma'].value_counts(normalize = True)[1]))\n",
    "\n",
    "print(\"How many Missouri policy holders made repeat claims while having one or more complaints open?\")\n",
    "print(\"{:.2%}\".format(df[\"Repeat&Open\"][df[\"State\"] == 'Missouri'].value_counts(normalize = True)[1]))\n",
    "\n",
    "print(\"How many Iowa policy holders made repeat claims while having one or more complaints open?\")\n",
    "print(\"{:.2%}\".format(df[\"Repeat&Open\"][df[\"State\"] == 'Iowa'].value_counts(normalize = True)[1]))\n",
    "\n",
    "\n",
    "\n",
    "\n",
    "figure(figsize=(10,6))\n",
    "sns.barplot(x='State',y=\"Repeat&Open\", data=df)\n",
    "plt.ylabel(\"Proportion of Repeat Offenders while having one or more complaints open\")\n",
    "plt.show()"
   ]
  },
  {
   "cell_type": "code",
   "execution_count": 35,
   "metadata": {},
   "outputs": [
    {
     "data": {
      "image/png": "[encoded data removed]",
      "text/plain": [
       "<Figure size 864x432 with 1 Axes>"
      ]
     },
     "metadata": {
      "needs_background": "light"
     },
     "output_type": "display_data"
    }
   ],
   "source": [
    "figure(figsize=(12,6))\n",
    "sns.barplot(x='IncomeGroup',y=\"Repeat&Open\", data=df)\n",
    "plt.xlabel(\"Income Group (Dollars)\")\n",
    "plt.ylabel(\"Proportion of Repeat Offenders while having one or more complaints open\")\n",
    "plt.show()"
   ]
  },
  {
   "cell_type": "markdown",
   "metadata": {},
   "source": [
    "## Machine Learning Models"
   ]
  },
  {
   "cell_type": "markdown",
   "metadata": {},
   "source": [
    "The features which have had the most effect on the likelihood of repeat insurance claims while also having one or more open complaints were discovered above. Those are:\n",
    "\n",
    " - Vehicle Class\n",
    " - Employment Status\n",
    "\n",
    "\n",
    "Our prediction target is the variable Repeat&Open."
   ]
  },
  {
   "cell_type": "code",
   "execution_count": 36,
   "metadata": {},
   "outputs": [],
   "source": [
    "y = df[\"Repeat&Open\"]"
   ]
  },
  {
   "cell_type": "markdown",
   "metadata": {},
   "source": [
    "Here I reduce employment status and vehicle class into categorical variable. Employment status will be 1 for Retired and 0 for anything else. Since both luxury models of cars where over represented they have both been classed as luxury cars and thus assigned 1, where as all other types of vehicle class become 1."
   ]
  },
  {
   "cell_type": "code",
   "execution_count": 37,
   "metadata": {},
   "outputs": [],
   "source": [
    "df[\"EmploymentStatus\"] = df.EmploymentStatus.apply(lambda x: 1 if x == 'Retired' else 0)\n",
    "df['Vehicle Class'] = df['Vehicle Class'].apply(lambda x: 1 if x == 'Luxury Car' or x == 'Luxury SUV'  else 0)"
   ]
  },
  {
   "cell_type": "markdown",
   "metadata": {},
   "source": [
    "Our chosen features are below"
   ]
  },
  {
   "cell_type": "code",
   "execution_count": 38,
   "metadata": {},
   "outputs": [],
   "source": [
    "features = ['Vehicle Class', 'EmploymentStatus']"
   ]
  },
  {
   "cell_type": "code",
   "execution_count": 39,
   "metadata": {},
   "outputs": [],
   "source": [
    "X = df[features]"
   ]
  },
  {
   "cell_type": "code",
   "execution_count": 40,
   "metadata": {},
   "outputs": [
    {
     "data": {
      "text/html": [
       "<div>\n",
       "<style scoped>\n",
       "    .dataframe tbody tr th:only-of-type {\n",
       "        vertical-align: middle;\n",
       "    }\n",
       "\n",
       "    .dataframe tbody tr th {\n",
       "        vertical-align: top;\n",
       "    }\n",
       "\n",
       "    .dataframe thead th {\n",
       "        text-align: right;\n",
       "    }\n",
       "</style>\n",
       "<table border=\"1\" class=\"dataframe\">\n",
       "  <thead>\n",
       "    <tr style=\"text-align: right;\">\n",
       "      <th></th>\n",
       "      <th>Vehicle Class</th>\n",
       "      <th>EmploymentStatus</th>\n",
       "    </tr>\n",
       "  </thead>\n",
       "  <tbody>\n",
       "    <tr>\n",
       "      <th>0</th>\n",
       "      <td>0</td>\n",
       "      <td>0</td>\n",
       "    </tr>\n",
       "    <tr>\n",
       "      <th>1</th>\n",
       "      <td>0</td>\n",
       "      <td>0</td>\n",
       "    </tr>\n",
       "    <tr>\n",
       "      <th>2</th>\n",
       "      <td>0</td>\n",
       "      <td>0</td>\n",
       "    </tr>\n",
       "    <tr>\n",
       "      <th>3</th>\n",
       "      <td>0</td>\n",
       "      <td>0</td>\n",
       "    </tr>\n",
       "    <tr>\n",
       "      <th>4</th>\n",
       "      <td>0</td>\n",
       "      <td>0</td>\n",
       "    </tr>\n",
       "    <tr>\n",
       "      <th>...</th>\n",
       "      <td>...</td>\n",
       "      <td>...</td>\n",
       "    </tr>\n",
       "    <tr>\n",
       "      <th>9129</th>\n",
       "      <td>0</td>\n",
       "      <td>0</td>\n",
       "    </tr>\n",
       "    <tr>\n",
       "      <th>9130</th>\n",
       "      <td>0</td>\n",
       "      <td>0</td>\n",
       "    </tr>\n",
       "    <tr>\n",
       "      <th>9131</th>\n",
       "      <td>0</td>\n",
       "      <td>0</td>\n",
       "    </tr>\n",
       "    <tr>\n",
       "      <th>9132</th>\n",
       "      <td>0</td>\n",
       "      <td>0</td>\n",
       "    </tr>\n",
       "    <tr>\n",
       "      <th>9133</th>\n",
       "      <td>0</td>\n",
       "      <td>0</td>\n",
       "    </tr>\n",
       "  </tbody>\n",
       "</table>\n",
       "<p>9134 rows × 2 columns</p>\n",
       "</div>"
      ],
      "text/plain": [
       "      Vehicle Class  EmploymentStatus\n",
       "0                 0                 0\n",
       "1                 0                 0\n",
       "2                 0                 0\n",
       "3                 0                 0\n",
       "4                 0                 0\n",
       "...             ...               ...\n",
       "9129              0                 0\n",
       "9130              0                 0\n",
       "9131              0                 0\n",
       "9132              0                 0\n",
       "9133              0                 0\n",
       "\n",
       "[9134 rows x 2 columns]"
      ]
     },
     "execution_count": 40,
     "metadata": {},
     "output_type": "execute_result"
    }
   ],
   "source": [
    "X"
   ]
  },
  {
   "cell_type": "code",
   "execution_count": 41,
   "metadata": {},
   "outputs": [
    {
     "data": {
      "text/html": [
       "<div>\n",
       "<style scoped>\n",
       "    .dataframe tbody tr th:only-of-type {\n",
       "        vertical-align: middle;\n",
       "    }\n",
       "\n",
       "    .dataframe tbody tr th {\n",
       "        vertical-align: top;\n",
       "    }\n",
       "\n",
       "    .dataframe thead th {\n",
       "        text-align: right;\n",
       "    }\n",
       "</style>\n",
       "<table border=\"1\" class=\"dataframe\">\n",
       "  <thead>\n",
       "    <tr style=\"text-align: right;\">\n",
       "      <th></th>\n",
       "      <th>Vehicle Class</th>\n",
       "      <th>EmploymentStatus</th>\n",
       "    </tr>\n",
       "  </thead>\n",
       "  <tbody>\n",
       "    <tr>\n",
       "      <th>count</th>\n",
       "      <td>9134.000000</td>\n",
       "      <td>9134.000000</td>\n",
       "    </tr>\n",
       "    <tr>\n",
       "      <th>mean</th>\n",
       "      <td>0.037990</td>\n",
       "      <td>0.030874</td>\n",
       "    </tr>\n",
       "    <tr>\n",
       "      <th>std</th>\n",
       "      <td>0.191182</td>\n",
       "      <td>0.172985</td>\n",
       "    </tr>\n",
       "    <tr>\n",
       "      <th>min</th>\n",
       "      <td>0.000000</td>\n",
       "      <td>0.000000</td>\n",
       "    </tr>\n",
       "    <tr>\n",
       "      <th>25%</th>\n",
       "      <td>0.000000</td>\n",
       "      <td>0.000000</td>\n",
       "    </tr>\n",
       "    <tr>\n",
       "      <th>50%</th>\n",
       "      <td>0.000000</td>\n",
       "      <td>0.000000</td>\n",
       "    </tr>\n",
       "    <tr>\n",
       "      <th>75%</th>\n",
       "      <td>0.000000</td>\n",
       "      <td>0.000000</td>\n",
       "    </tr>\n",
       "    <tr>\n",
       "      <th>max</th>\n",
       "      <td>1.000000</td>\n",
       "      <td>1.000000</td>\n",
       "    </tr>\n",
       "  </tbody>\n",
       "</table>\n",
       "</div>"
      ],
      "text/plain": [
       "       Vehicle Class  EmploymentStatus\n",
       "count    9134.000000       9134.000000\n",
       "mean        0.037990          0.030874\n",
       "std         0.191182          0.172985\n",
       "min         0.000000          0.000000\n",
       "25%         0.000000          0.000000\n",
       "50%         0.000000          0.000000\n",
       "75%         0.000000          0.000000\n",
       "max         1.000000          1.000000"
      ]
     },
     "execution_count": 41,
     "metadata": {},
     "output_type": "execute_result"
    }
   ],
   "source": [
    "X.describe()"
   ]
  },
  {
   "cell_type": "markdown",
   "metadata": {},
   "source": [
    "\n",
    "\n",
    "Next we have to split our dataset into training data and test data and then test the accuracy of different machine learning algorithms. We'll take 35% of our data as test data. For each ML model, we'll use sklearn.metrics accuracy score to test the accuracy and print that out to see which one works the best.\n"
   ]
  },
  {
   "cell_type": "code",
   "execution_count": 42,
   "metadata": {},
   "outputs": [],
   "source": [
    "x_train, x_val, y_train, y_val = train_test_split(X, y, test_size = 0.35, random_state = 0)"
   ]
  },
  {
   "cell_type": "code",
   "execution_count": 43,
   "metadata": {},
   "outputs": [
    {
     "name": "stdout",
     "output_type": "stream",
     "text": [
      "87.52\n"
     ]
    }
   ],
   "source": [
    "# Gaussian Naive Bayes\n",
    "gaussian = GaussianNB()\n",
    "gaussian.fit(x_train, y_train)\n",
    "y_pred = gaussian.predict(x_val)\n",
    "acc_gaussian = round(accuracy_score(y_pred, y_val) * 100, 2)\n",
    "print(acc_gaussian)\n",
    "\n"
   ]
  },
  {
   "cell_type": "code",
   "execution_count": 44,
   "metadata": {},
   "outputs": [
    {
     "name": "stdout",
     "output_type": "stream",
     "text": [
      "91.96\n"
     ]
    }
   ],
   "source": [
    "# Logistic Regression\n",
    "logreg = LogisticRegression()\n",
    "logreg.fit(x_train, y_train)\n",
    "y_pred = logreg.predict(x_val)\n",
    "acc_logreg = round(accuracy_score(y_pred, y_val) * 100, 2)\n",
    "print(acc_logreg)"
   ]
  },
  {
   "cell_type": "code",
   "execution_count": 45,
   "metadata": {},
   "outputs": [
    {
     "name": "stdout",
     "output_type": "stream",
     "text": [
      "91.96\n"
     ]
    }
   ],
   "source": [
    "# Support Vector Machines\n",
    "svc = SVC()\n",
    "svc.fit(x_train, y_train)\n",
    "y_pred = svc.predict(x_val)\n",
    "acc_svc = round(accuracy_score(y_pred, y_val) * 100, 2)\n",
    "print(acc_svc)\n",
    "\n"
   ]
  },
  {
   "cell_type": "code",
   "execution_count": 46,
   "metadata": {},
   "outputs": [
    {
     "name": "stdout",
     "output_type": "stream",
     "text": [
      "91.96\n"
     ]
    }
   ],
   "source": [
    "#Decision Tree\n",
    "decisiontree = DecisionTreeClassifier()\n",
    "decisiontree.fit(x_train, y_train)\n",
    "y_pred = decisiontree.predict(x_val)\n",
    "acc_decisiontree = round(accuracy_score(y_pred, y_val) * 100, 2)\n",
    "print(acc_decisiontree)"
   ]
  },
  {
   "cell_type": "code",
   "execution_count": 47,
   "metadata": {},
   "outputs": [
    {
     "name": "stdout",
     "output_type": "stream",
     "text": [
      "91.96\n"
     ]
    }
   ],
   "source": [
    "# Random Forest\n",
    "randomforest = RandomForestClassifier()\n",
    "randomforest.fit(x_train, y_train)\n",
    "y_pred = randomforest.predict(x_val)\n",
    "acc_randomforest = round(accuracy_score(y_pred, y_val) * 100, 2)\n",
    "print(acc_randomforest)\n",
    "\n"
   ]
  },
  {
   "cell_type": "code",
   "execution_count": 48,
   "metadata": {},
   "outputs": [
    {
     "name": "stdout",
     "output_type": "stream",
     "text": [
      "91.96\n"
     ]
    }
   ],
   "source": [
    "# KNN or k-Nearest Neighbors\n",
    "knn = KNeighborsClassifier()\n",
    "knn.fit(x_train, y_train)\n",
    "y_pred = knn.predict(x_val)\n",
    "acc_knn = round(accuracy_score(y_pred, y_val) * 100, 2)\n",
    "print(acc_knn)"
   ]
  },
  {
   "cell_type": "code",
   "execution_count": 49,
   "metadata": {},
   "outputs": [
    {
     "name": "stdout",
     "output_type": "stream",
     "text": [
      "91.96\n"
     ]
    }
   ],
   "source": [
    "# Gradient Boosting Classifier\n",
    "gbk = GradientBoostingClassifier()\n",
    "gbk.fit(x_train, y_train)\n",
    "y_pred = gbk.predict(x_val)\n",
    "acc_gbk = round(accuracy_score(y_pred, y_val) * 100, 2)\n",
    "print(acc_gbk)"
   ]
  },
  {
   "cell_type": "markdown",
   "metadata": {},
   "source": [
    "Of All our machine learning models the lowest was 87.52, with all others scoring 90 or above. This would suggest that there is a strong connection between retirees and luxury car holders and the propensity to make repeat claims on an insurance policy while also having multiple open complaints. "
   ]
  },
  {
   "cell_type": "markdown",
   "metadata": {},
   "source": [
    "# Conclusion"
   ]
  },
  {
   "cell_type": "markdown",
   "metadata": {},
   "source": [
    "We hope this tutorial helped in outlining some of the approaches to tackling data science projects within the realm of the Insurance Industry. We felt it was this specific example showed how it is always best to follow the data rather than our preconceptions, for example for many it is assumed that Male drivers and younger drivers tend to be involved in more accidents and in turn claim more on their insurance. From our analysis above this appears to not be the case. Correctly setting the premium on policy holders is important to having a viable business, and by correctly identifying behaviours of your clientele using data analysis and machine learning is vital to achieve this goal. "
   ]
  },
  {
   "cell_type": "markdown",
   "metadata": {},
   "source": [
    "\n",
    "Sources used:\n",
    "\n",
    "Dataset from: https://www.kaggle.com/xiaomengsun/car-insurance-claim-data\n",
    "\n",
    "Other sources:\n",
    "\n",
    "    - http://rstudio-pubs-static.s3.amazonaws.com/325100_1db19d9fa2e8482c98af89a1d5d91802.html\n",
    "    - https://www.kaggle.com/nadintamer/titanic-survival-predictions\n",
    "    - https://scikit-learn.org/stable/modules/generated/sklearn.metrics.accuracy_score.html\n",
    "    - https://www.kaggle.com/dansbecker/model-validation\n",
    "    - https://scikit-learn.org/stable/auto_examples/index.html#classification\n",
    "    - https://scikit-learn.org/stable/auto_examples/tree/plot_tree_regression.html#sphx-glr-auto-examples-tree-plot-tree-regression-py\n",
    "\n"
   ]
  },
  {
   "cell_type": "code",
   "execution_count": null,
   "metadata": {},
   "outputs": [],
   "source": []
  }
 ],
 "metadata": {
  "kernelspec": {
   "display_name": "Python 3",
   "language": "python",
   "name": "python3"
  },
  "language_info": {
   "codemirror_mode": {
    "name": "ipython",
    "version": 3
   },
   "file_extension": ".py",
   "mimetype": "text/x-python",
   "name": "python",
   "nbconvert_exporter": "python",
   "pygments_lexer": "ipython3",
   "version": "3.8.3"
  }
 },
 "nbformat": 4,
 "nbformat_minor": 4
}
