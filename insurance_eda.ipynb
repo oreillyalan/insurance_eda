{
 "cells": [
  {
   "cell_type": "code",
   "execution_count": 55,
   "metadata": {},
   "outputs": [
    {
     "name": "stdout",
     "output_type": "stream",
     "text": [
      "Collecting sklearn\n",
      "  Downloading sklearn-0.0.tar.gz (1.1 kB)\n",
      "Collecting scikit-learn\n",
      "  Downloading scikit_learn-0.24.0-cp38-cp38-win_amd64.whl (6.9 MB)\n",
      "Requirement already satisfied: scipy>=0.19.1 in c:\\users\\home\\miniconda3\\lib\\site-packages (from scikit-learn->sklearn) (1.6.0)\n",
      "Collecting joblib>=0.11\n",
      "  Downloading joblib-1.0.0-py3-none-any.whl (302 kB)\n",
      "Collecting threadpoolctl>=2.0.0\n",
      "  Downloading threadpoolctl-2.1.0-py3-none-any.whl (12 kB)\n",
      "Requirement already satisfied: numpy>=1.13.3 in c:\\users\\home\\miniconda3\\lib\\site-packages (from scikit-learn->sklearn) (1.19.4)\n",
      "Building wheels for collected packages: sklearn\n",
      "  Building wheel for sklearn (setup.py): started\n",
      "  Building wheel for sklearn (setup.py): finished with status 'done'\n",
      "  Created wheel for sklearn: filename=sklearn-0.0-py2.py3-none-any.whl size=1321 sha256=cacaa555d6f460b19b3f6876bfce4088882d31297f75f41868473214fbb36d81\n",
      "  Stored in directory: c:\\users\\home\\appdata\\local\\pip\\cache\\wheels\\22\\0b\\40\\fd3f795caaa1fb4c6cb738bc1f56100be1e57da95849bfc897\n",
      "Successfully built sklearn\n",
      "Installing collected packages: joblib, threadpoolctl, scikit-learn, sklearn\n",
      "Successfully installed joblib-1.0.0 scikit-learn-0.24.0 sklearn-0.0 threadpoolctl-2.1.0\n"
     ]
    }
   ],
   "source": [
    "import sys\n",
    "!{sys.executable} -m pip install sklearn"
   ]
  },
  {
   "cell_type": "code",
   "execution_count": 56,
   "metadata": {},
   "outputs": [],
   "source": [
    "import numpy as np\n",
    "import pandas as pd\n",
    "import matplotlib.pyplot as plt\n",
    "from matplotlib.pyplot import figure\n",
    "import seaborn as sns\n",
    "%matplotlib inline\n",
    "import sklearn"
   ]
  },
  {
   "cell_type": "code",
   "execution_count": 3,
   "metadata": {},
   "outputs": [
    {
     "data": {
      "text/html": [
       "<div>\n",
       "<style scoped>\n",
       "    .dataframe tbody tr th:only-of-type {\n",
       "        vertical-align: middle;\n",
       "    }\n",
       "\n",
       "    .dataframe tbody tr th {\n",
       "        vertical-align: top;\n",
       "    }\n",
       "\n",
       "    .dataframe thead th {\n",
       "        text-align: right;\n",
       "    }\n",
       "</style>\n",
       "<table border=\"1\" class=\"dataframe\">\n",
       "  <thead>\n",
       "    <tr style=\"text-align: right;\">\n",
       "      <th></th>\n",
       "      <th>Customer</th>\n",
       "      <th>Country</th>\n",
       "      <th>State Code</th>\n",
       "      <th>State</th>\n",
       "      <th>Claim Amount</th>\n",
       "      <th>Response</th>\n",
       "      <th>Coverage</th>\n",
       "      <th>Education</th>\n",
       "      <th>Effective To Date</th>\n",
       "      <th>EmploymentStatus</th>\n",
       "      <th>...</th>\n",
       "      <th>Months Since Policy Inception</th>\n",
       "      <th>Number of Open Complaints</th>\n",
       "      <th>Number of Policies</th>\n",
       "      <th>Policy Type</th>\n",
       "      <th>Policy</th>\n",
       "      <th>Claim Reason</th>\n",
       "      <th>Sales Channel</th>\n",
       "      <th>Total Claim Amount</th>\n",
       "      <th>Vehicle Class</th>\n",
       "      <th>Vehicle Size</th>\n",
       "    </tr>\n",
       "  </thead>\n",
       "  <tbody>\n",
       "    <tr>\n",
       "      <th>0</th>\n",
       "      <td>BU79786</td>\n",
       "      <td>US</td>\n",
       "      <td>KS</td>\n",
       "      <td>Kansas</td>\n",
       "      <td>276.351928</td>\n",
       "      <td>No</td>\n",
       "      <td>Basic</td>\n",
       "      <td>Bachelor</td>\n",
       "      <td>2/24/11</td>\n",
       "      <td>Employed</td>\n",
       "      <td>...</td>\n",
       "      <td>5</td>\n",
       "      <td>0</td>\n",
       "      <td>1</td>\n",
       "      <td>Corporate Auto</td>\n",
       "      <td>Corporate L3</td>\n",
       "      <td>Collision</td>\n",
       "      <td>Agent</td>\n",
       "      <td>384.811147</td>\n",
       "      <td>Two-Door Car</td>\n",
       "      <td>Medsize</td>\n",
       "    </tr>\n",
       "    <tr>\n",
       "      <th>1</th>\n",
       "      <td>QZ44356</td>\n",
       "      <td>US</td>\n",
       "      <td>NE</td>\n",
       "      <td>Nebraska</td>\n",
       "      <td>697.953590</td>\n",
       "      <td>No</td>\n",
       "      <td>Extended</td>\n",
       "      <td>Bachelor</td>\n",
       "      <td>1/31/11</td>\n",
       "      <td>Unemployed</td>\n",
       "      <td>...</td>\n",
       "      <td>42</td>\n",
       "      <td>0</td>\n",
       "      <td>8</td>\n",
       "      <td>Personal Auto</td>\n",
       "      <td>Personal L3</td>\n",
       "      <td>Scratch/Dent</td>\n",
       "      <td>Agent</td>\n",
       "      <td>1131.464935</td>\n",
       "      <td>Four-Door Car</td>\n",
       "      <td>Medsize</td>\n",
       "    </tr>\n",
       "    <tr>\n",
       "      <th>2</th>\n",
       "      <td>AI49188</td>\n",
       "      <td>US</td>\n",
       "      <td>OK</td>\n",
       "      <td>Oklahoma</td>\n",
       "      <td>1288.743165</td>\n",
       "      <td>No</td>\n",
       "      <td>Premium</td>\n",
       "      <td>Bachelor</td>\n",
       "      <td>2/19/11</td>\n",
       "      <td>Employed</td>\n",
       "      <td>...</td>\n",
       "      <td>38</td>\n",
       "      <td>0</td>\n",
       "      <td>2</td>\n",
       "      <td>Personal Auto</td>\n",
       "      <td>Personal L3</td>\n",
       "      <td>Collision</td>\n",
       "      <td>Agent</td>\n",
       "      <td>566.472247</td>\n",
       "      <td>Two-Door Car</td>\n",
       "      <td>Medsize</td>\n",
       "    </tr>\n",
       "    <tr>\n",
       "      <th>3</th>\n",
       "      <td>WW63253</td>\n",
       "      <td>US</td>\n",
       "      <td>MO</td>\n",
       "      <td>Missouri</td>\n",
       "      <td>764.586183</td>\n",
       "      <td>No</td>\n",
       "      <td>Basic</td>\n",
       "      <td>Bachelor</td>\n",
       "      <td>1/20/11</td>\n",
       "      <td>Unemployed</td>\n",
       "      <td>...</td>\n",
       "      <td>65</td>\n",
       "      <td>0</td>\n",
       "      <td>7</td>\n",
       "      <td>Corporate Auto</td>\n",
       "      <td>Corporate L2</td>\n",
       "      <td>Collision</td>\n",
       "      <td>Call Center</td>\n",
       "      <td>529.881344</td>\n",
       "      <td>SUV</td>\n",
       "      <td>Medsize</td>\n",
       "    </tr>\n",
       "    <tr>\n",
       "      <th>4</th>\n",
       "      <td>HB64268</td>\n",
       "      <td>US</td>\n",
       "      <td>KS</td>\n",
       "      <td>Kansas</td>\n",
       "      <td>281.369258</td>\n",
       "      <td>No</td>\n",
       "      <td>Basic</td>\n",
       "      <td>Bachelor</td>\n",
       "      <td>02/03/2011</td>\n",
       "      <td>Employed</td>\n",
       "      <td>...</td>\n",
       "      <td>44</td>\n",
       "      <td>0</td>\n",
       "      <td>1</td>\n",
       "      <td>Personal Auto</td>\n",
       "      <td>Personal L1</td>\n",
       "      <td>Collision</td>\n",
       "      <td>Agent</td>\n",
       "      <td>138.130879</td>\n",
       "      <td>Four-Door Car</td>\n",
       "      <td>Medsize</td>\n",
       "    </tr>\n",
       "  </tbody>\n",
       "</table>\n",
       "<p>5 rows × 26 columns</p>\n",
       "</div>"
      ],
      "text/plain": [
       "  Customer Country State Code     State  Claim Amount Response  Coverage  \\\n",
       "0  BU79786      US         KS    Kansas    276.351928       No     Basic   \n",
       "1  QZ44356      US         NE  Nebraska    697.953590       No  Extended   \n",
       "2  AI49188      US         OK  Oklahoma   1288.743165       No   Premium   \n",
       "3  WW63253      US         MO  Missouri    764.586183       No     Basic   \n",
       "4  HB64268      US         KS    Kansas    281.369258       No     Basic   \n",
       "\n",
       "  Education Effective To Date EmploymentStatus  ...  \\\n",
       "0  Bachelor           2/24/11         Employed  ...   \n",
       "1  Bachelor           1/31/11       Unemployed  ...   \n",
       "2  Bachelor           2/19/11         Employed  ...   \n",
       "3  Bachelor           1/20/11       Unemployed  ...   \n",
       "4  Bachelor        02/03/2011         Employed  ...   \n",
       "\n",
       "  Months Since Policy Inception  Number of Open Complaints Number of Policies  \\\n",
       "0                             5                          0                  1   \n",
       "1                            42                          0                  8   \n",
       "2                            38                          0                  2   \n",
       "3                            65                          0                  7   \n",
       "4                            44                          0                  1   \n",
       "\n",
       "      Policy Type        Policy  Claim Reason  Sales Channel  \\\n",
       "0  Corporate Auto  Corporate L3     Collision          Agent   \n",
       "1   Personal Auto   Personal L3  Scratch/Dent          Agent   \n",
       "2   Personal Auto   Personal L3     Collision          Agent   \n",
       "3  Corporate Auto  Corporate L2     Collision    Call Center   \n",
       "4   Personal Auto   Personal L1     Collision          Agent   \n",
       "\n",
       "   Total Claim Amount  Vehicle Class Vehicle Size  \n",
       "0          384.811147   Two-Door Car      Medsize  \n",
       "1         1131.464935  Four-Door Car      Medsize  \n",
       "2          566.472247   Two-Door Car      Medsize  \n",
       "3          529.881344            SUV      Medsize  \n",
       "4          138.130879  Four-Door Car      Medsize  \n",
       "\n",
       "[5 rows x 26 columns]"
      ]
     },
     "execution_count": 3,
     "metadata": {},
     "output_type": "execute_result"
    }
   ],
   "source": [
    "df = pd.read_csv('Auto_Insurance_Claims.csv')\n",
    "df.head()"
   ]
  },
  {
   "cell_type": "code",
   "execution_count": 4,
   "metadata": {},
   "outputs": [
    {
     "data": {
      "text/plain": [
       "Index(['Customer', 'Country', 'State Code', 'State', 'Claim Amount',\n",
       "       'Response', 'Coverage', 'Education', 'Effective To Date',\n",
       "       'EmploymentStatus', 'Gender', 'Income', 'Location Code',\n",
       "       'Marital Status', 'Monthly Premium Auto', 'Months Since Last Claim',\n",
       "       'Months Since Policy Inception', 'Number of Open Complaints',\n",
       "       'Number of Policies', 'Policy Type', 'Policy', 'Claim Reason',\n",
       "       'Sales Channel', 'Total Claim Amount', 'Vehicle Class', 'Vehicle Size'],\n",
       "      dtype='object')"
      ]
     },
     "execution_count": 4,
     "metadata": {},
     "output_type": "execute_result"
    }
   ],
   "source": [
    "df.columns"
   ]
  },
  {
   "cell_type": "code",
   "execution_count": 5,
   "metadata": {},
   "outputs": [
    {
     "data": {
      "text/plain": [
       "3     381\n",
       "6     364\n",
       "1     345\n",
       "4     335\n",
       "7     333\n",
       "2     329\n",
       "0     314\n",
       "5     313\n",
       "10    306\n",
       "11    297\n",
       "16    295\n",
       "15    286\n",
       "13    285\n",
       "8     279\n",
       "12    273\n",
       "14    268\n",
       "17    263\n",
       "9     250\n",
       "19    246\n",
       "23    239\n",
       "25    236\n",
       "21    233\n",
       "20    231\n",
       "18    229\n",
       "22    218\n",
       "24    211\n",
       "29    206\n",
       "28    201\n",
       "31    190\n",
       "26    186\n",
       "27    182\n",
       "30    182\n",
       "33    179\n",
       "34    169\n",
       "35    142\n",
       "32    138\n",
       "Name: Months Since Last Claim, dtype: int64"
      ]
     },
     "execution_count": 5,
     "metadata": {},
     "output_type": "execute_result"
    }
   ],
   "source": [
    "df[\"Months Since Last Claim\"].value_counts()"
   ]
  },
  {
   "cell_type": "markdown",
   "metadata": {},
   "source": [
    "I generated a new "
   ]
  },
  {
   "cell_type": "code",
   "execution_count": 6,
   "metadata": {},
   "outputs": [],
   "source": [
    "df['Repeat Offender'] = df[\"Months Since Last Claim\"].apply(lambda x: 0 if x >= 12 else 1)"
   ]
  },
  {
   "cell_type": "code",
   "execution_count": 7,
   "metadata": {},
   "outputs": [
    {
     "data": {
      "text/html": [
       "<div>\n",
       "<style scoped>\n",
       "    .dataframe tbody tr th:only-of-type {\n",
       "        vertical-align: middle;\n",
       "    }\n",
       "\n",
       "    .dataframe tbody tr th {\n",
       "        vertical-align: top;\n",
       "    }\n",
       "\n",
       "    .dataframe thead th {\n",
       "        text-align: right;\n",
       "    }\n",
       "</style>\n",
       "<table border=\"1\" class=\"dataframe\">\n",
       "  <thead>\n",
       "    <tr style=\"text-align: right;\">\n",
       "      <th></th>\n",
       "      <th>Customer</th>\n",
       "      <th>Country</th>\n",
       "      <th>State Code</th>\n",
       "      <th>State</th>\n",
       "      <th>Claim Amount</th>\n",
       "      <th>Response</th>\n",
       "      <th>Coverage</th>\n",
       "      <th>Education</th>\n",
       "      <th>Effective To Date</th>\n",
       "      <th>EmploymentStatus</th>\n",
       "      <th>...</th>\n",
       "      <th>Number of Open Complaints</th>\n",
       "      <th>Number of Policies</th>\n",
       "      <th>Policy Type</th>\n",
       "      <th>Policy</th>\n",
       "      <th>Claim Reason</th>\n",
       "      <th>Sales Channel</th>\n",
       "      <th>Total Claim Amount</th>\n",
       "      <th>Vehicle Class</th>\n",
       "      <th>Vehicle Size</th>\n",
       "      <th>Repeat Offender</th>\n",
       "    </tr>\n",
       "  </thead>\n",
       "  <tbody>\n",
       "    <tr>\n",
       "      <th>0</th>\n",
       "      <td>BU79786</td>\n",
       "      <td>US</td>\n",
       "      <td>KS</td>\n",
       "      <td>Kansas</td>\n",
       "      <td>276.351928</td>\n",
       "      <td>No</td>\n",
       "      <td>Basic</td>\n",
       "      <td>Bachelor</td>\n",
       "      <td>2/24/11</td>\n",
       "      <td>Employed</td>\n",
       "      <td>...</td>\n",
       "      <td>0</td>\n",
       "      <td>1</td>\n",
       "      <td>Corporate Auto</td>\n",
       "      <td>Corporate L3</td>\n",
       "      <td>Collision</td>\n",
       "      <td>Agent</td>\n",
       "      <td>384.811147</td>\n",
       "      <td>Two-Door Car</td>\n",
       "      <td>Medsize</td>\n",
       "      <td>0</td>\n",
       "    </tr>\n",
       "  </tbody>\n",
       "</table>\n",
       "<p>1 rows × 27 columns</p>\n",
       "</div>"
      ],
      "text/plain": [
       "  Customer Country State Code   State  Claim Amount Response Coverage  \\\n",
       "0  BU79786      US         KS  Kansas    276.351928       No    Basic   \n",
       "\n",
       "  Education Effective To Date EmploymentStatus  ... Number of Open Complaints  \\\n",
       "0  Bachelor           2/24/11         Employed  ...                         0   \n",
       "\n",
       "   Number of Policies     Policy Type        Policy  Claim Reason  \\\n",
       "0                   1  Corporate Auto  Corporate L3     Collision   \n",
       "\n",
       "   Sales Channel  Total Claim Amount  Vehicle Class  Vehicle Size  \\\n",
       "0          Agent          384.811147   Two-Door Car       Medsize   \n",
       "\n",
       "  Repeat Offender  \n",
       "0               0  \n",
       "\n",
       "[1 rows x 27 columns]"
      ]
     },
     "execution_count": 7,
     "metadata": {},
     "output_type": "execute_result"
    }
   ],
   "source": [
    "df.head(1)"
   ]
  },
  {
   "cell_type": "code",
   "execution_count": 8,
   "metadata": {},
   "outputs": [
    {
     "data": {
      "text/plain": [
       "0    5288\n",
       "1    3846\n",
       "Name: Repeat Offender, dtype: int64"
      ]
     },
     "execution_count": 8,
     "metadata": {},
     "output_type": "execute_result"
    }
   ],
   "source": [
    "df[\"Repeat Offender\"].value_counts()"
   ]
  },
  {
   "cell_type": "code",
   "execution_count": 9,
   "metadata": {},
   "outputs": [
    {
     "data": {
      "text/plain": [
       "Customer                          object\n",
       "Country                           object\n",
       "State Code                        object\n",
       "State                             object\n",
       "Claim Amount                     float64\n",
       "Response                          object\n",
       "Coverage                          object\n",
       "Education                         object\n",
       "Effective To Date                 object\n",
       "EmploymentStatus                  object\n",
       "Gender                            object\n",
       "Income                             int64\n",
       "Location Code                     object\n",
       "Marital Status                    object\n",
       "Monthly Premium Auto               int64\n",
       "Months Since Last Claim            int64\n",
       "Months Since Policy Inception      int64\n",
       "Number of Open Complaints          int64\n",
       "Number of Policies                 int64\n",
       "Policy Type                       object\n",
       "Policy                            object\n",
       "Claim Reason                      object\n",
       "Sales Channel                     object\n",
       "Total Claim Amount               float64\n",
       "Vehicle Class                     object\n",
       "Vehicle Size                      object\n",
       "Repeat Offender                    int64\n",
       "dtype: object"
      ]
     },
     "execution_count": 9,
     "metadata": {},
     "output_type": "execute_result"
    }
   ],
   "source": [
    "df.dtypes"
   ]
  },
  {
   "cell_type": "code",
   "execution_count": 10,
   "metadata": {},
   "outputs": [
    {
     "data": {
      "text/plain": [
       "Customer                         0\n",
       "Country                          0\n",
       "State Code                       0\n",
       "State                            0\n",
       "Claim Amount                     0\n",
       "Response                         0\n",
       "Coverage                         0\n",
       "Education                        0\n",
       "Effective To Date                0\n",
       "EmploymentStatus                 0\n",
       "Gender                           0\n",
       "Income                           0\n",
       "Location Code                    0\n",
       "Marital Status                   0\n",
       "Monthly Premium Auto             0\n",
       "Months Since Last Claim          0\n",
       "Months Since Policy Inception    0\n",
       "Number of Open Complaints        0\n",
       "Number of Policies               0\n",
       "Policy Type                      0\n",
       "Policy                           0\n",
       "Claim Reason                     0\n",
       "Sales Channel                    0\n",
       "Total Claim Amount               0\n",
       "Vehicle Class                    0\n",
       "Vehicle Size                     0\n",
       "Repeat Offender                  0\n",
       "dtype: int64"
      ]
     },
     "execution_count": 10,
     "metadata": {},
     "output_type": "execute_result"
    }
   ],
   "source": [
    "df.isnull().sum()"
   ]
  },
  {
   "cell_type": "code",
   "execution_count": 11,
   "metadata": {},
   "outputs": [
    {
     "data": {
      "text/plain": [
       "Claim Amount                       800.494047\n",
       "Income                           37657.380009\n",
       "Monthly Premium Auto                93.219291\n",
       "Months Since Last Claim             15.097000\n",
       "Months Since Policy Inception       48.064594\n",
       "Number of Open Complaints            0.384388\n",
       "Number of Policies                   2.966170\n",
       "Total Claim Amount                 434.088794\n",
       "Repeat Offender                      0.421064\n",
       "dtype: float64"
      ]
     },
     "execution_count": 11,
     "metadata": {},
     "output_type": "execute_result"
    }
   ],
   "source": [
    "df.mean()"
   ]
  },
  {
   "cell_type": "code",
   "execution_count": 12,
   "metadata": {},
   "outputs": [
    {
     "data": {
      "image/png": "[encoded data removed]",
      "text/plain": [
       "<Figure size 576x432 with 1 Axes>"
      ]
     },
     "metadata": {
      "needs_background": "light"
     },
     "output_type": "display_data"
    }
   ],
   "source": [
    "figure(figsize=(8,6))\n",
    "sns.countplot(x='Repeat Offender',data=df)\n",
    "plt.xlabel('Repeat claim status')\n",
    "plt.xticks([0,1],labels=['One claim in the last 12 months','More than one claim in the last 12 months'])\n",
    "plt.title('Distribution of Insurance Claims')\n",
    "plt.show()"
   ]
  },
  {
   "cell_type": "code",
   "execution_count": 13,
   "metadata": {},
   "outputs": [
    {
     "name": "stdout",
     "output_type": "stream",
     "text": [
      "How many Male drivers made repeat claims?\n",
      "41.64%\n",
      "How many Female drivers made repeat claims?\n",
      "42.55%\n"
     ]
    },
    {
     "name": "stderr",
     "output_type": "stream",
     "text": [
      "C:\\Users\\home\\miniconda3\\lib\\site-packages\\seaborn\\_decorators.py:36: FutureWarning: Pass the following variables as keyword args: x, y. From version 0.12, the only valid positional argument will be `data`, and passing other arguments without an explicit keyword will result in an error or misinterpretation.\n",
      "  warnings.warn(\n"
     ]
    },
    {
     "data": {
      "image/png": "[encoded data removed]",
      "text/plain": [
       "<Figure size 720x432 with 1 Axes>"
      ]
     },
     "metadata": {
      "needs_background": "light"
     },
     "output_type": "display_data"
    }
   ],
   "source": [
    "print(\"How many Male drivers made repeat claims?\")\n",
    "print(\"{:.2%}\".format(df[\"Repeat Offender\"][df[\"Gender\"] == 'M'].value_counts(normalize = True)[1]))\n",
    "\n",
    "print(\"How many Female drivers made repeat claims?\")\n",
    "print(\"{:.2%}\".format(df[\"Repeat Offender\"][df[\"Gender\"] == 'F'].value_counts(normalize = True)[1]))\n",
    "figure(figsize=(10,6))\n",
    "sns.barplot(df.Gender, df[\"Repeat Offender\"])\n",
    "plt.xlabel('Gender')\n",
    "plt.xticks([0,1],labels=['Male','Female'])\n",
    "plt.ylabel(\"Proportion of Repeat Offenders\")\n",
    "plt.show()"
   ]
  },
  {
   "cell_type": "code",
   "execution_count": 14,
   "metadata": {},
   "outputs": [
    {
     "name": "stdout",
     "output_type": "stream",
     "text": [
      "How many Urban drivers made repeat claims?\n",
      "44.82%\n",
      "How many Rural drivers made repeat claims?\n",
      "40.89%\n",
      "How many Suburban drivers made repeat claims?\n",
      "41.74%\n"
     ]
    },
    {
     "data": {
      "image/png": "[encoded data removed]",
      "text/plain": [
       "<Figure size 720x432 with 1 Axes>"
      ]
     },
     "metadata": {
      "needs_background": "light"
     },
     "output_type": "display_data"
    }
   ],
   "source": [
    "print(\"How many Urban drivers made repeat claims?\")\n",
    "print(\"{:.2%}\".format(df[\"Repeat Offender\"][df[\"Location Code\"] == 'Urban'].value_counts(normalize = True)[1]))\n",
    "\n",
    "print(\"How many Rural drivers made repeat claims?\")\n",
    "print(\"{:.2%}\".format(df[\"Repeat Offender\"][df[\"Location Code\"] == 'Rural'].value_counts(normalize = True)[1]))\n",
    "\n",
    "print(\"How many Suburban drivers made repeat claims?\")\n",
    "print(\"{:.2%}\".format(df[\"Repeat Offender\"][df[\"Location Code\"] == 'Suburban'].value_counts(normalize = True)[1]))\n",
    "\n",
    "figure(figsize=(10,6))\n",
    "sns.barplot(x='Location Code',y=\"Repeat Offender\", data=df)\n",
    "plt.ylabel(\"Proportion of Repeat Offenders\")\n",
    "plt.show()"
   ]
  },
  {
   "cell_type": "code",
   "execution_count": 15,
   "metadata": {},
   "outputs": [
    {
     "name": "stdout",
     "output_type": "stream",
     "text": [
      "How many Bachelor degree holders made repeat claims?\n",
      "41.89%\n",
      "How many policy holders with some College made repeat claims?\n",
      "40.95%\n",
      "How many Masters degree holders made repeat claims?\n",
      "42.24%\n",
      "How many High School or Below drivers made repeat claims?\n",
      "43.29%\n",
      "How many PhD holders made repeat claims?\n",
      "43.57%\n"
     ]
    },
    {
     "data": {
      "image/png": "[encoded data removed]",
      "text/plain": [
       "<Figure size 720x432 with 1 Axes>"
      ]
     },
     "metadata": {
      "needs_background": "light"
     },
     "output_type": "display_data"
    }
   ],
   "source": [
    "print(\"How many Bachelor degree holders made repeat claims?\")\n",
    "print(\"{:.2%}\".format(df[\"Repeat Offender\"][df[\"Education\"] == 'Bachelor'].value_counts(normalize = True)[1]))\n",
    "\n",
    "print(\"How many policy holders with some College made repeat claims?\")\n",
    "print(\"{:.2%}\".format(df[\"Repeat Offender\"][df[\"Education\"] == 'College'].value_counts(normalize = True)[1]))\n",
    "\n",
    "print(\"How many Masters degree holders made repeat claims?\")\n",
    "print(\"{:.2%}\".format(df[\"Repeat Offender\"][df[\"Education\"] == 'Master'].value_counts(normalize = True)[1]))\n",
    "\n",
    "print(\"How many High School or Below drivers made repeat claims?\")\n",
    "print(\"{:.2%}\".format(df[\"Repeat Offender\"][df[\"Education\"] == 'High School or Below'].value_counts(normalize = True)[1]))\n",
    "\n",
    "print(\"How many PhD holders made repeat claims?\")\n",
    "print(\"{:.2%}\".format(df[\"Repeat Offender\"][df[\"Education\"] == \"Doctor\"].value_counts(normalize = True)[1]))\n",
    "\n",
    "\n",
    "figure(figsize=(10,6))\n",
    "sns.barplot(x='Education',y=\"Repeat Offender\", data=df)\n",
    "plt.ylabel(\"Proportion of Repeat Offenders\")\n",
    "plt.show()"
   ]
  },
  {
   "cell_type": "code",
   "execution_count": 16,
   "metadata": {},
   "outputs": [
    {
     "name": "stdout",
     "output_type": "stream",
     "text": [
      "How many Disabled Policy holders made repeat claims?\n",
      "44.69%\n",
      "How many Employed policy holders made repeat claims?\n",
      "42.68%\n",
      "How many policy holders on medical leave have made repeat claims?\n",
      "38.43%\n",
      "How many Retired policy holders have made repeat claims?\n",
      "41.84%\n",
      "How many Unemployed policy holders made repeat claims?\n",
      "40.96%\n"
     ]
    },
    {
     "data": {
      "image/png": "[encoded data removed]",
      "text/plain": [
       "<Figure size 720x432 with 1 Axes>"
      ]
     },
     "metadata": {
      "needs_background": "light"
     },
     "output_type": "display_data"
    }
   ],
   "source": [
    "print(\"How many Disabled Policy holders made repeat claims?\")\n",
    "print(\"{:.2%}\".format(df[\"Repeat Offender\"][df[\"EmploymentStatus\"] == 'Disabled'].value_counts(normalize = True)[1]))\n",
    "\n",
    "print(\"How many Employed policy holders made repeat claims?\")\n",
    "print(\"{:.2%}\".format(df[\"Repeat Offender\"][df[\"EmploymentStatus\"] == 'Employed'].value_counts(normalize = True)[1]))\n",
    "\n",
    "print(\"How many policy holders on medical leave have made repeat claims?\")\n",
    "print(\"{:.2%}\".format(df[\"Repeat Offender\"][df[\"EmploymentStatus\"] == 'Medical Leave'].value_counts(normalize = True)[1]))\n",
    "\n",
    "print(\"How many Retired policy holders have made repeat claims?\")\n",
    "print(\"{:.2%}\".format(df[\"Repeat Offender\"][df[\"EmploymentStatus\"] == 'Retired'].value_counts(normalize = True)[1]))\n",
    "\n",
    "print(\"How many Unemployed policy holders made repeat claims?\")\n",
    "print(\"{:.2%}\".format(df[\"Repeat Offender\"][df[\"EmploymentStatus\"] == \"Unemployed\"].value_counts(normalize = True)[1]))\n",
    "\n",
    "\n",
    "figure(figsize=(10,6))\n",
    "sns.barplot(x='EmploymentStatus',y=\"Repeat Offender\", data=df)\n",
    "plt.ylabel(\"Proportion of Repeat Offenders\")\n",
    "plt.show()"
   ]
  },
  {
   "cell_type": "code",
   "execution_count": 17,
   "metadata": {},
   "outputs": [
    {
     "name": "stdout",
     "output_type": "stream",
     "text": [
      "How many Bachelor degree holders made repeat claims?\n",
      "42.28%\n",
      "How many policy holders with some College made repeat claims?\n",
      "41.26%\n",
      "How many Masters degree holders made repeat claims?\n",
      "42.95%\n"
     ]
    },
    {
     "data": {
      "image/png": "[encoded data removed]",
      "text/plain": [
       "<Figure size 720x432 with 1 Axes>"
      ]
     },
     "metadata": {
      "needs_background": "light"
     },
     "output_type": "display_data"
    }
   ],
   "source": [
    "print(\"How many Bachelor degree holders made repeat claims?\")\n",
    "print(\"{:.2%}\".format(df[\"Repeat Offender\"][df[\"Marital Status\"] == 'Married'].value_counts(normalize = True)[1]))\n",
    "\n",
    "print(\"How many policy holders with some College made repeat claims?\")\n",
    "print(\"{:.2%}\".format(df[\"Repeat Offender\"][df[\"Marital Status\"] == 'Single'].value_counts(normalize = True)[1]))\n",
    "\n",
    "print(\"How many Masters degree holders made repeat claims?\")\n",
    "print(\"{:.2%}\".format(df[\"Repeat Offender\"][df[\"Marital Status\"] == 'Divorced'].value_counts(normalize = True)[1]))\n",
    "\n",
    "\n",
    "figure(figsize=(10,6))\n",
    "sns.barplot(x='Marital Status',y=\"Repeat Offender\", data=df)\n",
    "plt.ylabel(\"Proportion of Repeat Offenders\")\n",
    "plt.show()"
   ]
  },
  {
   "cell_type": "code",
   "execution_count": 18,
   "metadata": {},
   "outputs": [
    {
     "name": "stdout",
     "output_type": "stream",
     "text": [
      "How many Two-Door Car policy holders with repeat claims?\n",
      "41.68%\n",
      "How many Four-Door Car policy holders with some College made repeat claims?\n",
      "41.10%\n",
      "How many SUV Car policy holders made repeat claims?\n",
      "44.54%\n",
      "How many Luxury SUV policy holders with some College made repeat claims?\n",
      "44.57%\n",
      "How many Sports Car policy holders made repeat claims?\n",
      "44.01%\n",
      "How many Luxury Car policy degree holders made repeat claims?\n",
      "40.49%\n"
     ]
    },
    {
     "data": {
      "image/png": "[encoded data removed]",
      "text/plain": [
       "<Figure size 720x432 with 1 Axes>"
      ]
     },
     "metadata": {
      "needs_background": "light"
     },
     "output_type": "display_data"
    }
   ],
   "source": [
    "print(\"How many Two-Door Car policy holders with repeat claims?\")\n",
    "print(\"{:.2%}\".format(df[\"Repeat Offender\"][df[\"Vehicle Class\"] == 'Two-Door Car'].value_counts(normalize = True)[1]))\n",
    "\n",
    "print(\"How many Four-Door Car policy holders with some College made repeat claims?\")\n",
    "print(\"{:.2%}\".format(df[\"Repeat Offender\"][df[\"Vehicle Class\"] == 'Four-Door Car'].value_counts(normalize = True)[1]))\n",
    "\n",
    "print(\"How many SUV Car policy holders made repeat claims?\")\n",
    "print(\"{:.2%}\".format(df[\"Repeat Offender\"][df[\"Vehicle Class\"] == 'SUV'].value_counts(normalize = True)[1]))\n",
    "\n",
    "print(\"How many Luxury SUV policy holders with some College made repeat claims?\")\n",
    "print(\"{:.2%}\".format(df[\"Repeat Offender\"][df[\"Vehicle Class\"] == 'Luxury SUV'].value_counts(normalize = True)[1]))\n",
    "\n",
    "print(\"How many Sports Car policy holders made repeat claims?\")\n",
    "print(\"{:.2%}\".format(df[\"Repeat Offender\"][df[\"Vehicle Class\"] == 'Sports Car'].value_counts(normalize = True)[1]))\n",
    "\n",
    "print(\"How many Luxury Car policy degree holders made repeat claims?\")\n",
    "print(\"{:.2%}\".format(df[\"Repeat Offender\"][df[\"Vehicle Class\"] == 'Luxury Car'].value_counts(normalize = True)[1]))\n",
    "\n",
    "\n",
    "figure(figsize=(10,6))\n",
    "sns.barplot(x='Vehicle Class',y=\"Repeat Offender\", data=df)\n",
    "plt.ylabel(\"Proportion of Repeat Offenders\")\n",
    "plt.show()"
   ]
  },
  {
   "cell_type": "code",
   "execution_count": 19,
   "metadata": {},
   "outputs": [
    {
     "name": "stdout",
     "output_type": "stream",
     "text": [
      "How many Medsize car policy holders made repeat claims?\n",
      "41.63%\n",
      "How many Small car policy holders with some College made repeat claims?\n",
      "42.97%\n",
      "How many Large car policy degree holders made repeat claims?\n",
      "43.76%\n"
     ]
    },
    {
     "data": {
      "image/png": "[encoded data removed]",
      "text/plain": [
       "<Figure size 720x432 with 1 Axes>"
      ]
     },
     "metadata": {
      "needs_background": "light"
     },
     "output_type": "display_data"
    }
   ],
   "source": [
    "print(\"How many Medsize car policy holders made repeat claims?\")\n",
    "print(\"{:.2%}\".format(df[\"Repeat Offender\"][df[\"Vehicle Size\"] == 'Medsize'].value_counts(normalize = True)[1]))\n",
    "\n",
    "print(\"How many Small car policy holders with some College made repeat claims?\")\n",
    "print(\"{:.2%}\".format(df[\"Repeat Offender\"][df[\"Vehicle Size\"] == 'Small'].value_counts(normalize = True)[1]))\n",
    "\n",
    "print(\"How many Large car policy degree holders made repeat claims?\")\n",
    "print(\"{:.2%}\".format(df[\"Repeat Offender\"][df[\"Vehicle Size\"] == 'Large'].value_counts(normalize = True)[1]))\n",
    "\n",
    "\n",
    "figure(figsize=(10,6))\n",
    "sns.barplot(x='Vehicle Size',y=\"Repeat Offender\", data=df)\n",
    "plt.ylabel(\"Proportion of Repeat Offenders\")\n",
    "plt.show()"
   ]
  },
  {
   "cell_type": "code",
   "execution_count": 20,
   "metadata": {
    "scrolled": false
   },
   "outputs": [
    {
     "name": "stdout",
     "output_type": "stream",
     "text": [
      "How many Kansas policy holders made repeat claims?\n",
      "38.47%\n",
      "How many Nebraska policy holders with some College made repeat claims?\n",
      "42.69%\n",
      "How many Oklahoma policy holders made repeat claims?\n",
      "41.38%\n",
      "How many Missouri policy holders made repeat claims?\n",
      "42.00%\n",
      "How many Iowa policy holders made repeat claims?\n",
      "43.21%\n"
     ]
    },
    {
     "data": {
      "image/png": "[encoded data removed]",
      "text/plain": [
       "<Figure size 720x432 with 1 Axes>"
      ]
     },
     "metadata": {
      "needs_background": "light"
     },
     "output_type": "display_data"
    }
   ],
   "source": [
    "print(\"How many Kansas policy holders made repeat claims?\")\n",
    "print(\"{:.2%}\".format(df[\"Repeat Offender\"][df[\"State\"] == 'Kansas'].value_counts(normalize = True)[1]))\n",
    "\n",
    "print(\"How many Nebraska policy holders with some College made repeat claims?\")\n",
    "print(\"{:.2%}\".format(df[\"Repeat Offender\"][df[\"State\"] == 'Nebraska'].value_counts(normalize = True)[1]))\n",
    "\n",
    "print(\"How many Oklahoma policy holders made repeat claims?\")\n",
    "print(\"{:.2%}\".format(df[\"Repeat Offender\"][df[\"State\"] == 'Oklahoma'].value_counts(normalize = True)[1]))\n",
    "\n",
    "print(\"How many Missouri policy holders made repeat claims?\")\n",
    "print(\"{:.2%}\".format(df[\"Repeat Offender\"][df[\"State\"] == 'Missouri'].value_counts(normalize = True)[1]))\n",
    "\n",
    "print(\"How many Iowa policy holders made repeat claims?\")\n",
    "print(\"{:.2%}\".format(df[\"Repeat Offender\"][df[\"State\"] == 'Iowa'].value_counts(normalize = True)[1]))\n",
    "\n",
    "\n",
    "\n",
    "\n",
    "figure(figsize=(10,6))\n",
    "sns.barplot(x='State',y=\"Repeat Offender\", data=df)\n",
    "plt.ylabel(\"Proportion of Repeat Offenders\")\n",
    "plt.show()"
   ]
  },
  {
   "cell_type": "code",
   "execution_count": 21,
   "metadata": {},
   "outputs": [
    {
     "data": {
      "image/png": "[encoded data removed]",
      "text/plain": [
       "<Figure size 864x432 with 1 Axes>"
      ]
     },
     "metadata": {
      "needs_background": "light"
     },
     "output_type": "display_data"
    }
   ],
   "source": [
    "df[\"Income\"] = pd.to_numeric(df[\"Income\"], errors = 'coerce')\n",
    "df['IncomeGroup'] = pd.cut(df[\"Income\"], bins = [-np.inf, 10000, 30000, 50000, 70000, np.inf], labels = ['0-10k','10-30k', '30-50k', '50-70k', '70-100k',])\n",
    "figure(figsize=(12,6))\n",
    "sns.barplot(x='IncomeGroup',y=\"Repeat Offender\", data=df)\n",
    "plt.xlabel(\"Income Group (Dollars)\")\n",
    "plt.ylabel(\"Proportion of Repeat Offenders\")\n",
    "plt.show()"
   ]
  },
  {
   "cell_type": "code",
   "execution_count": 22,
   "metadata": {},
   "outputs": [
    {
     "data": {
      "text/html": [
       "<div>\n",
       "<style scoped>\n",
       "    .dataframe tbody tr th:only-of-type {\n",
       "        vertical-align: middle;\n",
       "    }\n",
       "\n",
       "    .dataframe tbody tr th {\n",
       "        vertical-align: top;\n",
       "    }\n",
       "\n",
       "    .dataframe thead th {\n",
       "        text-align: right;\n",
       "    }\n",
       "</style>\n",
       "<table border=\"1\" class=\"dataframe\">\n",
       "  <thead>\n",
       "    <tr style=\"text-align: right;\">\n",
       "      <th></th>\n",
       "      <th>Customer</th>\n",
       "      <th>Country</th>\n",
       "      <th>State Code</th>\n",
       "      <th>State</th>\n",
       "      <th>Claim Amount</th>\n",
       "      <th>Response</th>\n",
       "      <th>Coverage</th>\n",
       "      <th>Education</th>\n",
       "      <th>Effective To Date</th>\n",
       "      <th>EmploymentStatus</th>\n",
       "      <th>...</th>\n",
       "      <th>Number of Policies</th>\n",
       "      <th>Policy Type</th>\n",
       "      <th>Policy</th>\n",
       "      <th>Claim Reason</th>\n",
       "      <th>Sales Channel</th>\n",
       "      <th>Total Claim Amount</th>\n",
       "      <th>Vehicle Class</th>\n",
       "      <th>Vehicle Size</th>\n",
       "      <th>Repeat Offender</th>\n",
       "      <th>IncomeGroup</th>\n",
       "    </tr>\n",
       "  </thead>\n",
       "  <tbody>\n",
       "    <tr>\n",
       "      <th>0</th>\n",
       "      <td>BU79786</td>\n",
       "      <td>US</td>\n",
       "      <td>KS</td>\n",
       "      <td>Kansas</td>\n",
       "      <td>276.351928</td>\n",
       "      <td>No</td>\n",
       "      <td>Basic</td>\n",
       "      <td>Bachelor</td>\n",
       "      <td>2/24/11</td>\n",
       "      <td>Employed</td>\n",
       "      <td>...</td>\n",
       "      <td>1</td>\n",
       "      <td>Corporate Auto</td>\n",
       "      <td>Corporate L3</td>\n",
       "      <td>Collision</td>\n",
       "      <td>Agent</td>\n",
       "      <td>384.811147</td>\n",
       "      <td>Two-Door Car</td>\n",
       "      <td>Medsize</td>\n",
       "      <td>0</td>\n",
       "      <td>50-70k</td>\n",
       "    </tr>\n",
       "    <tr>\n",
       "      <th>1</th>\n",
       "      <td>QZ44356</td>\n",
       "      <td>US</td>\n",
       "      <td>NE</td>\n",
       "      <td>Nebraska</td>\n",
       "      <td>697.953590</td>\n",
       "      <td>No</td>\n",
       "      <td>Extended</td>\n",
       "      <td>Bachelor</td>\n",
       "      <td>1/31/11</td>\n",
       "      <td>Unemployed</td>\n",
       "      <td>...</td>\n",
       "      <td>8</td>\n",
       "      <td>Personal Auto</td>\n",
       "      <td>Personal L3</td>\n",
       "      <td>Scratch/Dent</td>\n",
       "      <td>Agent</td>\n",
       "      <td>1131.464935</td>\n",
       "      <td>Four-Door Car</td>\n",
       "      <td>Medsize</td>\n",
       "      <td>0</td>\n",
       "      <td>0-10k</td>\n",
       "    </tr>\n",
       "    <tr>\n",
       "      <th>2</th>\n",
       "      <td>AI49188</td>\n",
       "      <td>US</td>\n",
       "      <td>OK</td>\n",
       "      <td>Oklahoma</td>\n",
       "      <td>1288.743165</td>\n",
       "      <td>No</td>\n",
       "      <td>Premium</td>\n",
       "      <td>Bachelor</td>\n",
       "      <td>2/19/11</td>\n",
       "      <td>Employed</td>\n",
       "      <td>...</td>\n",
       "      <td>2</td>\n",
       "      <td>Personal Auto</td>\n",
       "      <td>Personal L3</td>\n",
       "      <td>Collision</td>\n",
       "      <td>Agent</td>\n",
       "      <td>566.472247</td>\n",
       "      <td>Two-Door Car</td>\n",
       "      <td>Medsize</td>\n",
       "      <td>0</td>\n",
       "      <td>30-50k</td>\n",
       "    </tr>\n",
       "    <tr>\n",
       "      <th>3</th>\n",
       "      <td>WW63253</td>\n",
       "      <td>US</td>\n",
       "      <td>MO</td>\n",
       "      <td>Missouri</td>\n",
       "      <td>764.586183</td>\n",
       "      <td>No</td>\n",
       "      <td>Basic</td>\n",
       "      <td>Bachelor</td>\n",
       "      <td>1/20/11</td>\n",
       "      <td>Unemployed</td>\n",
       "      <td>...</td>\n",
       "      <td>7</td>\n",
       "      <td>Corporate Auto</td>\n",
       "      <td>Corporate L2</td>\n",
       "      <td>Collision</td>\n",
       "      <td>Call Center</td>\n",
       "      <td>529.881344</td>\n",
       "      <td>SUV</td>\n",
       "      <td>Medsize</td>\n",
       "      <td>0</td>\n",
       "      <td>0-10k</td>\n",
       "    </tr>\n",
       "    <tr>\n",
       "      <th>4</th>\n",
       "      <td>HB64268</td>\n",
       "      <td>US</td>\n",
       "      <td>KS</td>\n",
       "      <td>Kansas</td>\n",
       "      <td>281.369258</td>\n",
       "      <td>No</td>\n",
       "      <td>Basic</td>\n",
       "      <td>Bachelor</td>\n",
       "      <td>02/03/2011</td>\n",
       "      <td>Employed</td>\n",
       "      <td>...</td>\n",
       "      <td>1</td>\n",
       "      <td>Personal Auto</td>\n",
       "      <td>Personal L1</td>\n",
       "      <td>Collision</td>\n",
       "      <td>Agent</td>\n",
       "      <td>138.130879</td>\n",
       "      <td>Four-Door Car</td>\n",
       "      <td>Medsize</td>\n",
       "      <td>0</td>\n",
       "      <td>30-50k</td>\n",
       "    </tr>\n",
       "    <tr>\n",
       "      <th>...</th>\n",
       "      <td>...</td>\n",
       "      <td>...</td>\n",
       "      <td>...</td>\n",
       "      <td>...</td>\n",
       "      <td>...</td>\n",
       "      <td>...</td>\n",
       "      <td>...</td>\n",
       "      <td>...</td>\n",
       "      <td>...</td>\n",
       "      <td>...</td>\n",
       "      <td>...</td>\n",
       "      <td>...</td>\n",
       "      <td>...</td>\n",
       "      <td>...</td>\n",
       "      <td>...</td>\n",
       "      <td>...</td>\n",
       "      <td>...</td>\n",
       "      <td>...</td>\n",
       "      <td>...</td>\n",
       "      <td>...</td>\n",
       "      <td>...</td>\n",
       "    </tr>\n",
       "    <tr>\n",
       "      <th>9129</th>\n",
       "      <td>LA72316</td>\n",
       "      <td>US</td>\n",
       "      <td>MO</td>\n",
       "      <td>Missouri</td>\n",
       "      <td>2340.598798</td>\n",
       "      <td>No</td>\n",
       "      <td>Basic</td>\n",
       "      <td>Bachelor</td>\n",
       "      <td>02/10/2011</td>\n",
       "      <td>Employed</td>\n",
       "      <td>...</td>\n",
       "      <td>2</td>\n",
       "      <td>Personal Auto</td>\n",
       "      <td>Personal L1</td>\n",
       "      <td>Hail</td>\n",
       "      <td>Web</td>\n",
       "      <td>198.234764</td>\n",
       "      <td>Four-Door Car</td>\n",
       "      <td>Medsize</td>\n",
       "      <td>0</td>\n",
       "      <td>70-100k</td>\n",
       "    </tr>\n",
       "    <tr>\n",
       "      <th>9130</th>\n",
       "      <td>PK87824</td>\n",
       "      <td>US</td>\n",
       "      <td>MO</td>\n",
       "      <td>Missouri</td>\n",
       "      <td>309.651122</td>\n",
       "      <td>Yes</td>\n",
       "      <td>Extended</td>\n",
       "      <td>College</td>\n",
       "      <td>02/12/2011</td>\n",
       "      <td>Employed</td>\n",
       "      <td>...</td>\n",
       "      <td>1</td>\n",
       "      <td>Corporate Auto</td>\n",
       "      <td>Corporate L3</td>\n",
       "      <td>Collision</td>\n",
       "      <td>Branch</td>\n",
       "      <td>379.200000</td>\n",
       "      <td>Four-Door Car</td>\n",
       "      <td>Medsize</td>\n",
       "      <td>0</td>\n",
       "      <td>10-30k</td>\n",
       "    </tr>\n",
       "    <tr>\n",
       "      <th>9131</th>\n",
       "      <td>TD14365</td>\n",
       "      <td>US</td>\n",
       "      <td>MO</td>\n",
       "      <td>Missouri</td>\n",
       "      <td>816.389043</td>\n",
       "      <td>No</td>\n",
       "      <td>Extended</td>\n",
       "      <td>Bachelor</td>\n",
       "      <td>02/06/2011</td>\n",
       "      <td>Unemployed</td>\n",
       "      <td>...</td>\n",
       "      <td>2</td>\n",
       "      <td>Corporate Auto</td>\n",
       "      <td>Corporate L2</td>\n",
       "      <td>Collision</td>\n",
       "      <td>Branch</td>\n",
       "      <td>790.784983</td>\n",
       "      <td>Four-Door Car</td>\n",
       "      <td>Medsize</td>\n",
       "      <td>1</td>\n",
       "      <td>0-10k</td>\n",
       "    </tr>\n",
       "    <tr>\n",
       "      <th>9132</th>\n",
       "      <td>UP19263</td>\n",
       "      <td>US</td>\n",
       "      <td>MO</td>\n",
       "      <td>Missouri</td>\n",
       "      <td>752.444244</td>\n",
       "      <td>No</td>\n",
       "      <td>Extended</td>\n",
       "      <td>College</td>\n",
       "      <td>02/03/2011</td>\n",
       "      <td>Employed</td>\n",
       "      <td>...</td>\n",
       "      <td>3</td>\n",
       "      <td>Personal Auto</td>\n",
       "      <td>Personal L2</td>\n",
       "      <td>Scratch/Dent</td>\n",
       "      <td>Branch</td>\n",
       "      <td>691.200000</td>\n",
       "      <td>Four-Door Car</td>\n",
       "      <td>Large</td>\n",
       "      <td>0</td>\n",
       "      <td>10-30k</td>\n",
       "    </tr>\n",
       "    <tr>\n",
       "      <th>9133</th>\n",
       "      <td>Y167826</td>\n",
       "      <td>US</td>\n",
       "      <td>MO</td>\n",
       "      <td>Missouri</td>\n",
       "      <td>261.183687</td>\n",
       "      <td>No</td>\n",
       "      <td>Extended</td>\n",
       "      <td>College</td>\n",
       "      <td>2/14/11</td>\n",
       "      <td>Unemployed</td>\n",
       "      <td>...</td>\n",
       "      <td>1</td>\n",
       "      <td>Corporate Auto</td>\n",
       "      <td>Corporate L3</td>\n",
       "      <td>Other</td>\n",
       "      <td>Call Center</td>\n",
       "      <td>369.600000</td>\n",
       "      <td>Two-Door Car</td>\n",
       "      <td>Medsize</td>\n",
       "      <td>1</td>\n",
       "      <td>0-10k</td>\n",
       "    </tr>\n",
       "  </tbody>\n",
       "</table>\n",
       "<p>9134 rows × 28 columns</p>\n",
       "</div>"
      ],
      "text/plain": [
       "     Customer Country State Code     State  Claim Amount Response  Coverage  \\\n",
       "0     BU79786      US         KS    Kansas    276.351928       No     Basic   \n",
       "1     QZ44356      US         NE  Nebraska    697.953590       No  Extended   \n",
       "2     AI49188      US         OK  Oklahoma   1288.743165       No   Premium   \n",
       "3     WW63253      US         MO  Missouri    764.586183       No     Basic   \n",
       "4     HB64268      US         KS    Kansas    281.369258       No     Basic   \n",
       "...       ...     ...        ...       ...           ...      ...       ...   \n",
       "9129  LA72316      US         MO  Missouri   2340.598798       No     Basic   \n",
       "9130  PK87824      US         MO  Missouri    309.651122      Yes  Extended   \n",
       "9131  TD14365      US         MO  Missouri    816.389043       No  Extended   \n",
       "9132  UP19263      US         MO  Missouri    752.444244       No  Extended   \n",
       "9133  Y167826      US         MO  Missouri    261.183687       No  Extended   \n",
       "\n",
       "     Education Effective To Date EmploymentStatus  ... Number of Policies  \\\n",
       "0     Bachelor           2/24/11         Employed  ...                  1   \n",
       "1     Bachelor           1/31/11       Unemployed  ...                  8   \n",
       "2     Bachelor           2/19/11         Employed  ...                  2   \n",
       "3     Bachelor           1/20/11       Unemployed  ...                  7   \n",
       "4     Bachelor        02/03/2011         Employed  ...                  1   \n",
       "...        ...               ...              ...  ...                ...   \n",
       "9129  Bachelor        02/10/2011         Employed  ...                  2   \n",
       "9130   College        02/12/2011         Employed  ...                  1   \n",
       "9131  Bachelor        02/06/2011       Unemployed  ...                  2   \n",
       "9132   College        02/03/2011         Employed  ...                  3   \n",
       "9133   College           2/14/11       Unemployed  ...                  1   \n",
       "\n",
       "         Policy Type        Policy  Claim Reason  Sales Channel  \\\n",
       "0     Corporate Auto  Corporate L3     Collision          Agent   \n",
       "1      Personal Auto   Personal L3  Scratch/Dent          Agent   \n",
       "2      Personal Auto   Personal L3     Collision          Agent   \n",
       "3     Corporate Auto  Corporate L2     Collision    Call Center   \n",
       "4      Personal Auto   Personal L1     Collision          Agent   \n",
       "...              ...           ...           ...            ...   \n",
       "9129   Personal Auto   Personal L1          Hail            Web   \n",
       "9130  Corporate Auto  Corporate L3     Collision         Branch   \n",
       "9131  Corporate Auto  Corporate L2     Collision         Branch   \n",
       "9132   Personal Auto   Personal L2  Scratch/Dent         Branch   \n",
       "9133  Corporate Auto  Corporate L3         Other    Call Center   \n",
       "\n",
       "      Total Claim Amount  Vehicle Class  Vehicle Size  Repeat Offender  \\\n",
       "0             384.811147   Two-Door Car       Medsize                0   \n",
       "1            1131.464935  Four-Door Car       Medsize                0   \n",
       "2             566.472247   Two-Door Car       Medsize                0   \n",
       "3             529.881344            SUV       Medsize                0   \n",
       "4             138.130879  Four-Door Car       Medsize                0   \n",
       "...                  ...            ...           ...              ...   \n",
       "9129          198.234764  Four-Door Car       Medsize                0   \n",
       "9130          379.200000  Four-Door Car       Medsize                0   \n",
       "9131          790.784983  Four-Door Car       Medsize                1   \n",
       "9132          691.200000  Four-Door Car         Large                0   \n",
       "9133          369.600000   Two-Door Car       Medsize                1   \n",
       "\n",
       "     IncomeGroup  \n",
       "0         50-70k  \n",
       "1          0-10k  \n",
       "2         30-50k  \n",
       "3          0-10k  \n",
       "4         30-50k  \n",
       "...          ...  \n",
       "9129     70-100k  \n",
       "9130      10-30k  \n",
       "9131       0-10k  \n",
       "9132      10-30k  \n",
       "9133       0-10k  \n",
       "\n",
       "[9134 rows x 28 columns]"
      ]
     },
     "execution_count": 22,
     "metadata": {},
     "output_type": "execute_result"
    }
   ],
   "source": [
    "df"
   ]
  },
  {
   "cell_type": "code",
   "execution_count": 23,
   "metadata": {
    "scrolled": true
   },
   "outputs": [
    {
     "data": {
      "image/png": "[encoded data removed]",
      "text/plain": [
       "<Figure size 720x432 with 1 Axes>"
      ]
     },
     "metadata": {
      "needs_background": "light"
     },
     "output_type": "display_data"
    }
   ],
   "source": [
    "# print(\"How many Kansas policy holders made repeat claims?\")\n",
    "# print(\"{:.2%}\".format(df[\"Repeat Offender\"][df[\"State\"] == 'Kansas'].value_counts(normalize = True)[1]))\n",
    "\n",
    "# print(\"How many Nebraska policy holders with some College made repeat claims?\")\n",
    "# print(\"{:.2%}\".format(df[\"Repeat Offender\"][df[\"State\"] == 'Nebraska'].value_counts(normalize = True)[1]))\n",
    "\n",
    "# print(\"How many Oklahoma policy holders made repeat claims?\")\n",
    "# print(\"{:.2%}\".format(df[\"Repeat Offender\"][df[\"State\"] == 'Oklahoma'].value_counts(normalize = True)[1]))\n",
    "\n",
    "# print(\"How many Missouri policy holders made repeat claims?\")\n",
    "# print(\"{:.2%}\".format(df[\"Repeat Offender\"][df[\"State\"] == 'Missouri'].value_counts(normalize = True)[1]))\n",
    "\n",
    "# print(\"How many Iowa policy holders made repeat claims?\")\n",
    "# print(\"{:.2%}\".format(df[\"Repeat Offender\"][df[\"State\"] == 'Iowa'].value_counts(normalize = True)[1]))\n",
    "\n",
    "\n",
    "figure(figsize=(10,6))\n",
    "sns.barplot(x='Number of Open Complaints',y=\"Repeat Offender\", data=df)\n",
    "plt.ylabel(\"Proportion of Repeat Offenders\")\n",
    "plt.show()"
   ]
  },
  {
   "cell_type": "code",
   "execution_count": 24,
   "metadata": {},
   "outputs": [
    {
     "name": "stdout",
     "output_type": "stream",
     "text": [
      "How many drivers without an open case made repeat claims?\n",
      "42.15%\n",
      "How many drivers with open cases made repeat claims?\n",
      "41.92%\n"
     ]
    },
    {
     "data": {
      "image/png": "[encoded data removed]",
      "text/plain": [
       "<Figure size 720x432 with 1 Axes>"
      ]
     },
     "metadata": {
      "needs_background": "light"
     },
     "output_type": "display_data"
    }
   ],
   "source": [
    "tempdf = df\n",
    "tempdf[\"Open Cases?\"]  = df[\"Number of Open Complaints\"].apply(lambda x: 'Zero' if x == 0 else 'One or more')\n",
    "\n",
    "print(\"How many drivers without an open case made repeat claims?\")\n",
    "print(\"{:.2%}\".format(df[\"Repeat Offender\"][df[\"Open Cases?\"] == 'Zero'].value_counts(normalize = True)[1]))\n",
    "\n",
    "print(\"How many drivers with open cases made repeat claims?\")\n",
    "print(\"{:.2%}\".format(df[\"Repeat Offender\"][df[\"Open Cases?\"] == 'One or more'].value_counts(normalize = True)[1]))\n",
    "figure(figsize=(10,6))\n",
    "sns.barplot(x='Open Cases?',y=\"Repeat Offender\", data=df)\n",
    "plt.xlabel('Number of open cases')\n",
    "plt.ylabel(\"Proportion of Repeat Offenders\")\n",
    "plt.show()"
   ]
  },
  {
   "cell_type": "code",
   "execution_count": 25,
   "metadata": {},
   "outputs": [
    {
     "data": {
      "text/html": [
       "<div>\n",
       "<style scoped>\n",
       "    .dataframe tbody tr th:only-of-type {\n",
       "        vertical-align: middle;\n",
       "    }\n",
       "\n",
       "    .dataframe tbody tr th {\n",
       "        vertical-align: top;\n",
       "    }\n",
       "\n",
       "    .dataframe thead th {\n",
       "        text-align: right;\n",
       "    }\n",
       "</style>\n",
       "<table border=\"1\" class=\"dataframe\">\n",
       "  <thead>\n",
       "    <tr style=\"text-align: right;\">\n",
       "      <th></th>\n",
       "      <th>Customer</th>\n",
       "      <th>Country</th>\n",
       "      <th>State Code</th>\n",
       "      <th>State</th>\n",
       "      <th>Claim Amount</th>\n",
       "      <th>Response</th>\n",
       "      <th>Coverage</th>\n",
       "      <th>Education</th>\n",
       "      <th>Effective To Date</th>\n",
       "      <th>EmploymentStatus</th>\n",
       "      <th>...</th>\n",
       "      <th>Policy Type</th>\n",
       "      <th>Policy</th>\n",
       "      <th>Claim Reason</th>\n",
       "      <th>Sales Channel</th>\n",
       "      <th>Total Claim Amount</th>\n",
       "      <th>Vehicle Class</th>\n",
       "      <th>Vehicle Size</th>\n",
       "      <th>Repeat Offender</th>\n",
       "      <th>IncomeGroup</th>\n",
       "      <th>Open Cases?</th>\n",
       "    </tr>\n",
       "  </thead>\n",
       "  <tbody>\n",
       "    <tr>\n",
       "      <th>12</th>\n",
       "      <td>DP39365</td>\n",
       "      <td>US</td>\n",
       "      <td>MO</td>\n",
       "      <td>Missouri</td>\n",
       "      <td>879.879700</td>\n",
       "      <td>No</td>\n",
       "      <td>Premium</td>\n",
       "      <td>Master</td>\n",
       "      <td>02/06/2011</td>\n",
       "      <td>Employed</td>\n",
       "      <td>...</td>\n",
       "      <td>Corporate Auto</td>\n",
       "      <td>Corporate L1</td>\n",
       "      <td>Hail</td>\n",
       "      <td>Agent</td>\n",
       "      <td>472.029737</td>\n",
       "      <td>Four-Door Car</td>\n",
       "      <td>Medsize</td>\n",
       "      <td>1</td>\n",
       "      <td>70-100k</td>\n",
       "      <td>One or more</td>\n",
       "    </tr>\n",
       "    <tr>\n",
       "      <th>23</th>\n",
       "      <td>TZ98966</td>\n",
       "      <td>US</td>\n",
       "      <td>OK</td>\n",
       "      <td>Oklahoma</td>\n",
       "      <td>245.019100</td>\n",
       "      <td>No</td>\n",
       "      <td>Basic</td>\n",
       "      <td>Bachelor</td>\n",
       "      <td>2/24/11</td>\n",
       "      <td>Unemployed</td>\n",
       "      <td>...</td>\n",
       "      <td>Corporate Auto</td>\n",
       "      <td>Corporate L3</td>\n",
       "      <td>Collision</td>\n",
       "      <td>Branch</td>\n",
       "      <td>554.376763</td>\n",
       "      <td>Four-Door Car</td>\n",
       "      <td>Medsize</td>\n",
       "      <td>1</td>\n",
       "      <td>0-10k</td>\n",
       "      <td>One or more</td>\n",
       "    </tr>\n",
       "    <tr>\n",
       "      <th>30</th>\n",
       "      <td>SV85652</td>\n",
       "      <td>US</td>\n",
       "      <td>NE</td>\n",
       "      <td>Nebraska</td>\n",
       "      <td>245.458354</td>\n",
       "      <td>No</td>\n",
       "      <td>Basic</td>\n",
       "      <td>College</td>\n",
       "      <td>2/28/11</td>\n",
       "      <td>Employed</td>\n",
       "      <td>...</td>\n",
       "      <td>Personal Auto</td>\n",
       "      <td>Personal L2</td>\n",
       "      <td>Other</td>\n",
       "      <td>Call Center</td>\n",
       "      <td>322.294043</td>\n",
       "      <td>Four-Door Car</td>\n",
       "      <td>Small</td>\n",
       "      <td>1</td>\n",
       "      <td>10-30k</td>\n",
       "      <td>One or more</td>\n",
       "    </tr>\n",
       "    <tr>\n",
       "      <th>39</th>\n",
       "      <td>WC35801</td>\n",
       "      <td>US</td>\n",
       "      <td>NE</td>\n",
       "      <td>Nebraska</td>\n",
       "      <td>252.163310</td>\n",
       "      <td>No</td>\n",
       "      <td>Basic</td>\n",
       "      <td>High School or Below</td>\n",
       "      <td>02/07/2011</td>\n",
       "      <td>Employed</td>\n",
       "      <td>...</td>\n",
       "      <td>Personal Auto</td>\n",
       "      <td>Personal L3</td>\n",
       "      <td>Collision</td>\n",
       "      <td>Call Center</td>\n",
       "      <td>157.397849</td>\n",
       "      <td>Four-Door Car</td>\n",
       "      <td>Medsize</td>\n",
       "      <td>1</td>\n",
       "      <td>50-70k</td>\n",
       "      <td>One or more</td>\n",
       "    </tr>\n",
       "    <tr>\n",
       "      <th>40</th>\n",
       "      <td>QG25316</td>\n",
       "      <td>US</td>\n",
       "      <td>OK</td>\n",
       "      <td>Oklahoma</td>\n",
       "      <td>265.206179</td>\n",
       "      <td>No</td>\n",
       "      <td>Basic</td>\n",
       "      <td>High School or Below</td>\n",
       "      <td>1/18/11</td>\n",
       "      <td>Unemployed</td>\n",
       "      <td>...</td>\n",
       "      <td>Corporate Auto</td>\n",
       "      <td>Corporate L3</td>\n",
       "      <td>Scratch/Dent</td>\n",
       "      <td>Call Center</td>\n",
       "      <td>484.318536</td>\n",
       "      <td>Two-Door Car</td>\n",
       "      <td>Medsize</td>\n",
       "      <td>1</td>\n",
       "      <td>0-10k</td>\n",
       "      <td>One or more</td>\n",
       "    </tr>\n",
       "    <tr>\n",
       "      <th>...</th>\n",
       "      <td>...</td>\n",
       "      <td>...</td>\n",
       "      <td>...</td>\n",
       "      <td>...</td>\n",
       "      <td>...</td>\n",
       "      <td>...</td>\n",
       "      <td>...</td>\n",
       "      <td>...</td>\n",
       "      <td>...</td>\n",
       "      <td>...</td>\n",
       "      <td>...</td>\n",
       "      <td>...</td>\n",
       "      <td>...</td>\n",
       "      <td>...</td>\n",
       "      <td>...</td>\n",
       "      <td>...</td>\n",
       "      <td>...</td>\n",
       "      <td>...</td>\n",
       "      <td>...</td>\n",
       "      <td>...</td>\n",
       "      <td>...</td>\n",
       "    </tr>\n",
       "    <tr>\n",
       "      <th>9075</th>\n",
       "      <td>IX18485</td>\n",
       "      <td>US</td>\n",
       "      <td>MO</td>\n",
       "      <td>Missouri</td>\n",
       "      <td>959.424890</td>\n",
       "      <td>No</td>\n",
       "      <td>Extended</td>\n",
       "      <td>High School or Below</td>\n",
       "      <td>02/01/2011</td>\n",
       "      <td>Retired</td>\n",
       "      <td>...</td>\n",
       "      <td>Personal Auto</td>\n",
       "      <td>Personal L2</td>\n",
       "      <td>Collision</td>\n",
       "      <td>Agent</td>\n",
       "      <td>685.048914</td>\n",
       "      <td>Four-Door Car</td>\n",
       "      <td>Medsize</td>\n",
       "      <td>1</td>\n",
       "      <td>10-30k</td>\n",
       "      <td>One or more</td>\n",
       "    </tr>\n",
       "    <tr>\n",
       "      <th>9092</th>\n",
       "      <td>CO91673</td>\n",
       "      <td>US</td>\n",
       "      <td>MO</td>\n",
       "      <td>Missouri</td>\n",
       "      <td>454.732182</td>\n",
       "      <td>No</td>\n",
       "      <td>Basic</td>\n",
       "      <td>Bachelor</td>\n",
       "      <td>2/14/11</td>\n",
       "      <td>Medical Leave</td>\n",
       "      <td>...</td>\n",
       "      <td>Personal Auto</td>\n",
       "      <td>Personal L2</td>\n",
       "      <td>Hail</td>\n",
       "      <td>Agent</td>\n",
       "      <td>292.800000</td>\n",
       "      <td>Four-Door Car</td>\n",
       "      <td>Medsize</td>\n",
       "      <td>1</td>\n",
       "      <td>10-30k</td>\n",
       "      <td>One or more</td>\n",
       "    </tr>\n",
       "    <tr>\n",
       "      <th>9111</th>\n",
       "      <td>IJ25462</td>\n",
       "      <td>US</td>\n",
       "      <td>MO</td>\n",
       "      <td>Missouri</td>\n",
       "      <td>284.552093</td>\n",
       "      <td>No</td>\n",
       "      <td>Basic</td>\n",
       "      <td>Bachelor</td>\n",
       "      <td>02/07/2011</td>\n",
       "      <td>Employed</td>\n",
       "      <td>...</td>\n",
       "      <td>Personal Auto</td>\n",
       "      <td>Personal L2</td>\n",
       "      <td>Scratch/Dent</td>\n",
       "      <td>Agent</td>\n",
       "      <td>400.832857</td>\n",
       "      <td>Four-Door Car</td>\n",
       "      <td>Small</td>\n",
       "      <td>1</td>\n",
       "      <td>70-100k</td>\n",
       "      <td>One or more</td>\n",
       "    </tr>\n",
       "    <tr>\n",
       "      <th>9121</th>\n",
       "      <td>BB10681</td>\n",
       "      <td>US</td>\n",
       "      <td>MO</td>\n",
       "      <td>Missouri</td>\n",
       "      <td>414.064865</td>\n",
       "      <td>No</td>\n",
       "      <td>Extended</td>\n",
       "      <td>College</td>\n",
       "      <td>1/17/11</td>\n",
       "      <td>Unemployed</td>\n",
       "      <td>...</td>\n",
       "      <td>Corporate Auto</td>\n",
       "      <td>Corporate L3</td>\n",
       "      <td>Collision</td>\n",
       "      <td>Branch</td>\n",
       "      <td>590.400000</td>\n",
       "      <td>SUV</td>\n",
       "      <td>Medsize</td>\n",
       "      <td>1</td>\n",
       "      <td>0-10k</td>\n",
       "      <td>One or more</td>\n",
       "    </tr>\n",
       "    <tr>\n",
       "      <th>9131</th>\n",
       "      <td>TD14365</td>\n",
       "      <td>US</td>\n",
       "      <td>MO</td>\n",
       "      <td>Missouri</td>\n",
       "      <td>816.389043</td>\n",
       "      <td>No</td>\n",
       "      <td>Extended</td>\n",
       "      <td>Bachelor</td>\n",
       "      <td>02/06/2011</td>\n",
       "      <td>Unemployed</td>\n",
       "      <td>...</td>\n",
       "      <td>Corporate Auto</td>\n",
       "      <td>Corporate L2</td>\n",
       "      <td>Collision</td>\n",
       "      <td>Branch</td>\n",
       "      <td>790.784983</td>\n",
       "      <td>Four-Door Car</td>\n",
       "      <td>Medsize</td>\n",
       "      <td>1</td>\n",
       "      <td>0-10k</td>\n",
       "      <td>One or more</td>\n",
       "    </tr>\n",
       "  </tbody>\n",
       "</table>\n",
       "<p>789 rows × 29 columns</p>\n",
       "</div>"
      ],
      "text/plain": [
       "     Customer Country State Code     State  Claim Amount Response  Coverage  \\\n",
       "12    DP39365      US         MO  Missouri    879.879700       No   Premium   \n",
       "23    TZ98966      US         OK  Oklahoma    245.019100       No     Basic   \n",
       "30    SV85652      US         NE  Nebraska    245.458354       No     Basic   \n",
       "39    WC35801      US         NE  Nebraska    252.163310       No     Basic   \n",
       "40    QG25316      US         OK  Oklahoma    265.206179       No     Basic   \n",
       "...       ...     ...        ...       ...           ...      ...       ...   \n",
       "9075  IX18485      US         MO  Missouri    959.424890       No  Extended   \n",
       "9092  CO91673      US         MO  Missouri    454.732182       No     Basic   \n",
       "9111  IJ25462      US         MO  Missouri    284.552093       No     Basic   \n",
       "9121  BB10681      US         MO  Missouri    414.064865       No  Extended   \n",
       "9131  TD14365      US         MO  Missouri    816.389043       No  Extended   \n",
       "\n",
       "                 Education Effective To Date EmploymentStatus  ...  \\\n",
       "12                  Master        02/06/2011         Employed  ...   \n",
       "23                Bachelor           2/24/11       Unemployed  ...   \n",
       "30                 College           2/28/11         Employed  ...   \n",
       "39    High School or Below        02/07/2011         Employed  ...   \n",
       "40    High School or Below           1/18/11       Unemployed  ...   \n",
       "...                    ...               ...              ...  ...   \n",
       "9075  High School or Below        02/01/2011          Retired  ...   \n",
       "9092              Bachelor           2/14/11    Medical Leave  ...   \n",
       "9111              Bachelor        02/07/2011         Employed  ...   \n",
       "9121               College           1/17/11       Unemployed  ...   \n",
       "9131              Bachelor        02/06/2011       Unemployed  ...   \n",
       "\n",
       "         Policy Type        Policy  Claim Reason Sales Channel  \\\n",
       "12    Corporate Auto  Corporate L1          Hail         Agent   \n",
       "23    Corporate Auto  Corporate L3     Collision        Branch   \n",
       "30     Personal Auto   Personal L2         Other   Call Center   \n",
       "39     Personal Auto   Personal L3     Collision   Call Center   \n",
       "40    Corporate Auto  Corporate L3  Scratch/Dent   Call Center   \n",
       "...              ...           ...           ...           ...   \n",
       "9075   Personal Auto   Personal L2     Collision         Agent   \n",
       "9092   Personal Auto   Personal L2          Hail         Agent   \n",
       "9111   Personal Auto   Personal L2  Scratch/Dent         Agent   \n",
       "9121  Corporate Auto  Corporate L3     Collision        Branch   \n",
       "9131  Corporate Auto  Corporate L2     Collision        Branch   \n",
       "\n",
       "      Total Claim Amount  Vehicle Class  Vehicle Size  Repeat Offender  \\\n",
       "12            472.029737  Four-Door Car       Medsize                1   \n",
       "23            554.376763  Four-Door Car       Medsize                1   \n",
       "30            322.294043  Four-Door Car         Small                1   \n",
       "39            157.397849  Four-Door Car       Medsize                1   \n",
       "40            484.318536   Two-Door Car       Medsize                1   \n",
       "...                  ...            ...           ...              ...   \n",
       "9075          685.048914  Four-Door Car       Medsize                1   \n",
       "9092          292.800000  Four-Door Car       Medsize                1   \n",
       "9111          400.832857  Four-Door Car         Small                1   \n",
       "9121          590.400000            SUV       Medsize                1   \n",
       "9131          790.784983  Four-Door Car       Medsize                1   \n",
       "\n",
       "      IncomeGroup  Open Cases?  \n",
       "12        70-100k  One or more  \n",
       "23          0-10k  One or more  \n",
       "30         10-30k  One or more  \n",
       "39         50-70k  One or more  \n",
       "40          0-10k  One or more  \n",
       "...           ...          ...  \n",
       "9075       10-30k  One or more  \n",
       "9092       10-30k  One or more  \n",
       "9111      70-100k  One or more  \n",
       "9121        0-10k  One or more  \n",
       "9131        0-10k  One or more  \n",
       "\n",
       "[789 rows x 29 columns]"
      ]
     },
     "execution_count": 25,
     "metadata": {},
     "output_type": "execute_result"
    }
   ],
   "source": [
    "df[(df[\"Repeat Offender\"] == 1) & (df[\"Number of Open Complaints\"] > 0)]"
   ]
  },
  {
   "cell_type": "code",
   "execution_count": 26,
   "metadata": {},
   "outputs": [],
   "source": [
    "df['Repeat&Open'] = 0 \n",
    "\n",
    "df.loc[(df[\"Repeat Offender\"] == 1) & \n",
    "       (df[\"Number of Open Complaints\"] > 0), \n",
    "       'Repeat&Open'] = 1 # then set class to 1"
   ]
  },
  {
   "cell_type": "code",
   "execution_count": null,
   "metadata": {},
   "outputs": [],
   "source": []
  },
  {
   "cell_type": "code",
   "execution_count": 27,
   "metadata": {},
   "outputs": [
    {
     "data": {
      "image/png": "[encoded data removed]",
      "text/plain": [
       "<Figure size 576x432 with 1 Axes>"
      ]
     },
     "metadata": {
      "needs_background": "light"
     },
     "output_type": "display_data"
    }
   ],
   "source": [
    "figure(figsize=(8,6))\n",
    "sns.countplot(x='Repeat&Open',data=df)\n",
    "plt.xlabel('Repeat claim status')\n",
    "plt.xticks([0,1],labels=['Non Repeat Offender','Repeat Offender with 1 or more open claims'])\n",
    "plt.xticks(rotation=45)\n",
    "plt.title('Distribution of Insurance Claims')\n",
    "plt.show()"
   ]
  },
  {
   "cell_type": "code",
   "execution_count": 28,
   "metadata": {},
   "outputs": [
    {
     "name": "stdout",
     "output_type": "stream",
     "text": [
      "How many Male drivers made repeat claims while having 1 or more claims open?\n",
      "8.31%\n",
      "How many Female drivers made repeat claims?\n",
      "8.95%\n"
     ]
    },
    {
     "name": "stderr",
     "output_type": "stream",
     "text": [
      "C:\\Users\\home\\miniconda3\\lib\\site-packages\\seaborn\\_decorators.py:36: FutureWarning: Pass the following variables as keyword args: x, y. From version 0.12, the only valid positional argument will be `data`, and passing other arguments without an explicit keyword will result in an error or misinterpretation.\n",
      "  warnings.warn(\n"
     ]
    },
    {
     "data": {
      "image/png": "[encoded data removed]",
      "text/plain": [
       "<Figure size 720x432 with 1 Axes>"
      ]
     },
     "metadata": {
      "needs_background": "light"
     },
     "output_type": "display_data"
    }
   ],
   "source": [
    "print(\"How many Male drivers made repeat claims while having 1 or more claims open?\")\n",
    "print(\"{:.2%}\".format(df[\"Repeat&Open\"][df[\"Gender\"] == 'M'].value_counts(normalize = True)[1]))\n",
    "\n",
    "print(\"How many Female drivers made repeat claims?\")\n",
    "print(\"{:.2%}\".format(df[\"Repeat&Open\"][df[\"Gender\"] == 'F'].value_counts(normalize = True)[1]))\n",
    "figure(figsize=(10,6))\n",
    "sns.barplot(df.Gender, df[\"Repeat&Open\"])\n",
    "plt.xlabel('Gender')\n",
    "plt.xticks([0,1],labels=['Male','Female'])\n",
    "plt.ylabel(\"Proportion of Repeat Offenders\")\n",
    "plt.show()"
   ]
  },
  {
   "cell_type": "code",
   "execution_count": 29,
   "metadata": {},
   "outputs": [
    {
     "name": "stdout",
     "output_type": "stream",
     "text": [
      "How many Urban drivers made repeat claims?\n",
      "9.54%\n",
      "How many Rural drivers made repeat claims?\n",
      "8.91%\n",
      "How many Suburban drivers made repeat claims?\n",
      "8.31%\n"
     ]
    },
    {
     "data": {
      "image/png": "[encoded data removed]",
      "text/plain": [
       "<Figure size 720x432 with 1 Axes>"
      ]
     },
     "metadata": {
      "needs_background": "light"
     },
     "output_type": "display_data"
    }
   ],
   "source": [
    "print(\"How many Urban drivers made repeat claims?\")\n",
    "print(\"{:.2%}\".format(df[\"Repeat&Open\"][df[\"Location Code\"] == 'Urban'].value_counts(normalize = True)[1]))\n",
    "\n",
    "print(\"How many Rural drivers made repeat claims?\")\n",
    "print(\"{:.2%}\".format(df[\"Repeat&Open\"][df[\"Location Code\"] == 'Rural'].value_counts(normalize = True)[1]))\n",
    "\n",
    "print(\"How many Suburban drivers made repeat claims?\")\n",
    "print(\"{:.2%}\".format(df[\"Repeat&Open\"][df[\"Location Code\"] == 'Suburban'].value_counts(normalize = True)[1]))\n",
    "\n",
    "figure(figsize=(10,6))\n",
    "sns.barplot(x='Location Code',y=\"Repeat&Open\", data=df)\n",
    "plt.ylabel(\"Proportion of Repeat Offenders\")\n",
    "plt.show()"
   ]
  },
  {
   "cell_type": "code",
   "execution_count": null,
   "metadata": {},
   "outputs": [],
   "source": []
  },
  {
   "cell_type": "code",
   "execution_count": 30,
   "metadata": {},
   "outputs": [
    {
     "name": "stdout",
     "output_type": "stream",
     "text": [
      "How many Bachelor degree holders made repeat claims?\n",
      "9.97%\n",
      "How many policy holders with some College made repeat claims?\n",
      "8.06%\n",
      "How many Masters degree holders made repeat claims?\n",
      "9.18%\n",
      "How many High School or Below drivers made repeat claims?\n",
      "7.70%\n",
      "How many PhD holders made repeat claims?\n",
      "8.48%\n"
     ]
    },
    {
     "data": {
      "image/png": "[encoded data removed]",
      "text/plain": [
       "<Figure size 720x432 with 1 Axes>"
      ]
     },
     "metadata": {
      "needs_background": "light"
     },
     "output_type": "display_data"
    }
   ],
   "source": [
    "print(\"How many Bachelor degree holders made repeat claims?\")\n",
    "print(\"{:.2%}\".format(df[\"Repeat&Open\"][df[\"Education\"] == 'Bachelor'].value_counts(normalize = True)[1]))\n",
    "\n",
    "print(\"How many policy holders with some College made repeat claims?\")\n",
    "print(\"{:.2%}\".format(df[\"Repeat&Open\"][df[\"Education\"] == 'College'].value_counts(normalize = True)[1]))\n",
    "\n",
    "print(\"How many Masters degree holders made repeat claims?\")\n",
    "print(\"{:.2%}\".format(df[\"Repeat&Open\"][df[\"Education\"] == 'Master'].value_counts(normalize = True)[1]))\n",
    "\n",
    "print(\"How many High School or Below drivers made repeat claims?\")\n",
    "print(\"{:.2%}\".format(df[\"Repeat&Open\"][df[\"Education\"] == 'High School or Below'].value_counts(normalize = True)[1]))\n",
    "\n",
    "print(\"How many PhD holders made repeat claims?\")\n",
    "print(\"{:.2%}\".format(df[\"Repeat&Open\"][df[\"Education\"] == \"Doctor\"].value_counts(normalize = True)[1]))\n",
    "\n",
    "figure(figsize=(10,6))\n",
    "sns.barplot(x='Education',y=\"Repeat&Open\", data=df)\n",
    "plt.ylabel(\"Proportion of Repeat Offenders\")\n",
    "plt.show()"
   ]
  },
  {
   "cell_type": "code",
   "execution_count": 31,
   "metadata": {
    "scrolled": false
   },
   "outputs": [
    {
     "name": "stdout",
     "output_type": "stream",
     "text": [
      "How many Disabled Policy holders made repeat claims?\n",
      "4.69%\n",
      "How many Employed policy holders made repeat claims?\n",
      "8.99%\n",
      "How many policy holders on medical leave have made repeat claims?\n",
      "8.33%\n",
      "How many Retired policy holders have made repeat claims?\n",
      "13.83%\n",
      "How many Unemployed policy holders made repeat claims?\n",
      "7.90%\n"
     ]
    },
    {
     "data": {
      "image/png": "[encoded data removed]",
      "text/plain": [
       "<Figure size 720x432 with 1 Axes>"
      ]
     },
     "metadata": {
      "needs_background": "light"
     },
     "output_type": "display_data"
    }
   ],
   "source": [
    "print(\"How many Disabled Policy holders made repeat claims?\")\n",
    "print(\"{:.2%}\".format(df[\"Repeat&Open\"][df[\"EmploymentStatus\"] == 'Disabled'].value_counts(normalize = True)[1]))\n",
    "\n",
    "print(\"How many Employed policy holders made repeat claims?\")\n",
    "print(\"{:.2%}\".format(df[\"Repeat&Open\"][df[\"EmploymentStatus\"] == 'Employed'].value_counts(normalize = True)[1]))\n",
    "\n",
    "print(\"How many policy holders on medical leave have made repeat claims?\")\n",
    "print(\"{:.2%}\".format(df[\"Repeat&Open\"][df[\"EmploymentStatus\"] == 'Medical Leave'].value_counts(normalize = True)[1]))\n",
    "\n",
    "print(\"How many Retired policy holders have made repeat claims?\")\n",
    "print(\"{:.2%}\".format(df[\"Repeat&Open\"][df[\"EmploymentStatus\"] == 'Retired'].value_counts(normalize = True)[1]))\n",
    "\n",
    "print(\"How many Unemployed policy holders made repeat claims?\")\n",
    "print(\"{:.2%}\".format(df[\"Repeat&Open\"][df[\"EmploymentStatus\"] == \"Unemployed\"].value_counts(normalize = True)[1]))\n",
    "\n",
    "\n",
    "figure(figsize=(10,6))\n",
    "sns.barplot(x='EmploymentStatus',y=\"Repeat&Open\", data=df)\n",
    "plt.ylabel(\"Proportion of Repeat Offenders\")\n",
    "plt.show()"
   ]
  },
  {
   "cell_type": "code",
   "execution_count": 32,
   "metadata": {
    "scrolled": false
   },
   "outputs": [
    {
     "name": "stdout",
     "output_type": "stream",
     "text": [
      "How many Two-Door Car policy holders with repeat claims?\n",
      "7.95%\n",
      "How many Four-Door Car policy holders with repeat claims?\n",
      "9.00%\n",
      "How many SUV Car policy holders made repeat claims?\n",
      "8.07%\n",
      "How many Luxury SUV policy holders made repeat claims?\n",
      "14.13%\n",
      "How many Sports Car policy holders made repeat claims?\n",
      "6.82%\n",
      "How many Luxury Car policy degree holders made repeat claims?\n",
      "11.66%\n"
     ]
    },
    {
     "data": {
      "image/png": "[encoded data removed]",
      "text/plain": [
       "<Figure size 720x432 with 1 Axes>"
      ]
     },
     "metadata": {
      "needs_background": "light"
     },
     "output_type": "display_data"
    }
   ],
   "source": [
    "print(\"How many Two-Door Car policy holders with repeat claims?\")\n",
    "print(\"{:.2%}\".format(df[\"Repeat&Open\"][df[\"Vehicle Class\"] == 'Two-Door Car'].value_counts(normalize = True)[1]))\n",
    "\n",
    "print(\"How many Four-Door Car policy holders with repeat claims?\")\n",
    "print(\"{:.2%}\".format(df[\"Repeat&Open\"][df[\"Vehicle Class\"] == 'Four-Door Car'].value_counts(normalize = True)[1]))\n",
    "\n",
    "print(\"How many SUV Car policy holders made repeat claims?\")\n",
    "print(\"{:.2%}\".format(df[\"Repeat&Open\"][df[\"Vehicle Class\"] == 'SUV'].value_counts(normalize = True)[1]))\n",
    "\n",
    "print(\"How many Luxury SUV policy holders made repeat claims?\")\n",
    "print(\"{:.2%}\".format(df[\"Repeat&Open\"][df[\"Vehicle Class\"] == 'Luxury SUV'].value_counts(normalize = True)[1]))\n",
    "\n",
    "print(\"How many Sports Car policy holders made repeat claims?\")\n",
    "print(\"{:.2%}\".format(df[\"Repeat&Open\"][df[\"Vehicle Class\"] == 'Sports Car'].value_counts(normalize = True)[1]))\n",
    "\n",
    "print(\"How many Luxury Car policy degree holders made repeat claims?\")\n",
    "print(\"{:.2%}\".format(df[\"Repeat&Open\"][df[\"Vehicle Class\"] == 'Luxury Car'].value_counts(normalize = True)[1]))\n",
    "\n",
    "\n",
    "figure(figsize=(10,6))\n",
    "sns.barplot(x='Vehicle Class',y=\"Repeat&Open\", data=df)\n",
    "plt.ylabel(\"Proportion of Repeat Offenders\")\n",
    "plt.show()"
   ]
  },
  {
   "cell_type": "code",
   "execution_count": 33,
   "metadata": {},
   "outputs": [
    {
     "data": {
      "image/png": "[encoded data removed]",
      "text/plain": [
       "<Figure size 720x360 with 1 Axes>"
      ]
     },
     "metadata": {
      "needs_background": "light"
     },
     "output_type": "display_data"
    }
   ],
   "source": [
    "figure(figsize=(10,5))\n",
    "sns.lineplot(x=\"Vehicle Class\",y=\"Repeat&Open\",data=df)\n",
    "plt.xlabel(\"Type of Car\")\n",
    "plt.ylabel(\"Proportion of Repeat Offenders with Open Claims\")\n",
    "plt.show()"
   ]
  },
  {
   "cell_type": "code",
   "execution_count": 34,
   "metadata": {},
   "outputs": [
    {
     "name": "stdout",
     "output_type": "stream",
     "text": [
      "How many Married policy holders made repeat claims?\n",
      "8.68%\n",
      "How many Singe policy holders made repeat claims?\n",
      "8.15%\n",
      "How many Divorced degree holders made repeat claims?\n",
      "9.35%\n"
     ]
    },
    {
     "data": {
      "image/png": "[encoded data removed]",
      "text/plain": [
       "<Figure size 720x432 with 1 Axes>"
      ]
     },
     "metadata": {
      "needs_background": "light"
     },
     "output_type": "display_data"
    }
   ],
   "source": [
    "print(\"How many Married policy holders made repeat claims?\")\n",
    "print(\"{:.2%}\".format(df[\"Repeat&Open\"][df[\"Marital Status\"] == 'Married'].value_counts(normalize = True)[1]))\n",
    "\n",
    "print(\"How many Singe policy holders made repeat claims?\")\n",
    "print(\"{:.2%}\".format(df[\"Repeat&Open\"][df[\"Marital Status\"] == 'Single'].value_counts(normalize = True)[1]))\n",
    "\n",
    "print(\"How many Divorced degree holders made repeat claims?\")\n",
    "print(\"{:.2%}\".format(df[\"Repeat&Open\"][df[\"Marital Status\"] == 'Divorced'].value_counts(normalize = True)[1]))\n",
    "\n",
    "\n",
    "figure(figsize=(10,6))\n",
    "sns.barplot(x='Marital Status',y=\"Repeat&Open\", data=df)\n",
    "plt.ylabel(\"Proportion of Repeat Offenders\")\n",
    "plt.show()"
   ]
  },
  {
   "cell_type": "code",
   "execution_count": 35,
   "metadata": {},
   "outputs": [
    {
     "name": "stdout",
     "output_type": "stream",
     "text": [
      "How many Medsize car policy holders made repeat claims?\n",
      "8.76%\n",
      "How many Small car policy holders made repeat claims?\n",
      "7.88%\n",
      "How many Large car policy  made repeat claims?\n",
      "9.20%\n"
     ]
    },
    {
     "data": {
      "image/png": "[encoded data removed]",
      "text/plain": [
       "<Figure size 720x432 with 1 Axes>"
      ]
     },
     "metadata": {
      "needs_background": "light"
     },
     "output_type": "display_data"
    }
   ],
   "source": [
    "print(\"How many Medsize car policy holders made repeat claims?\")\n",
    "print(\"{:.2%}\".format(df[\"Repeat&Open\"][df[\"Vehicle Size\"] == 'Medsize'].value_counts(normalize = True)[1]))\n",
    "\n",
    "print(\"How many Small car policy holders made repeat claims?\")\n",
    "print(\"{:.2%}\".format(df[\"Repeat&Open\"][df[\"Vehicle Size\"] == 'Small'].value_counts(normalize = True)[1]))\n",
    "\n",
    "print(\"How many Large car policy  made repeat claims?\")\n",
    "print(\"{:.2%}\".format(df[\"Repeat&Open\"][df[\"Vehicle Size\"] == 'Large'].value_counts(normalize = True)[1]))\n",
    "\n",
    "\n",
    "figure(figsize=(10,6))\n",
    "sns.barplot(x='Vehicle Size',y=\"Repeat&Open\", data=df)\n",
    "plt.ylabel(\"Proportion of Repeat Offenders\")\n",
    "plt.show()"
   ]
  },
  {
   "cell_type": "code",
   "execution_count": 36,
   "metadata": {},
   "outputs": [
    {
     "name": "stdout",
     "output_type": "stream",
     "text": [
      "How many Kansas policy holders made repeat claims?\n",
      "8.15%\n",
      "How many Nebraska policy holders with some College made repeat claims?\n",
      "7.99%\n",
      "How many Oklahoma policy holders made repeat claims?\n",
      "8.84%\n",
      "How many Missouri policy holders made repeat claims?\n",
      "9.43%\n",
      "How many Iowa policy holders made repeat claims?\n",
      "8.19%\n"
     ]
    },
    {
     "data": {
      "image/png": "[encoded data removed]",
      "text/plain": [
       "<Figure size 720x432 with 1 Axes>"
      ]
     },
     "metadata": {
      "needs_background": "light"
     },
     "output_type": "display_data"
    }
   ],
   "source": [
    "print(\"How many Kansas policy holders made repeat claims?\")\n",
    "print(\"{:.2%}\".format(df[\"Repeat&Open\"][df[\"State\"] == 'Kansas'].value_counts(normalize = True)[1]))\n",
    "\n",
    "print(\"How many Nebraska policy holders with some College made repeat claims?\")\n",
    "print(\"{:.2%}\".format(df[\"Repeat&Open\"][df[\"State\"] == 'Nebraska'].value_counts(normalize = True)[1]))\n",
    "\n",
    "print(\"How many Oklahoma policy holders made repeat claims?\")\n",
    "print(\"{:.2%}\".format(df[\"Repeat&Open\"][df[\"State\"] == 'Oklahoma'].value_counts(normalize = True)[1]))\n",
    "\n",
    "print(\"How many Missouri policy holders made repeat claims?\")\n",
    "print(\"{:.2%}\".format(df[\"Repeat&Open\"][df[\"State\"] == 'Missouri'].value_counts(normalize = True)[1]))\n",
    "\n",
    "print(\"How many Iowa policy holders made repeat claims?\")\n",
    "print(\"{:.2%}\".format(df[\"Repeat&Open\"][df[\"State\"] == 'Iowa'].value_counts(normalize = True)[1]))\n",
    "\n",
    "\n",
    "\n",
    "\n",
    "figure(figsize=(10,6))\n",
    "sns.barplot(x='State',y=\"Repeat&Open\", data=df)\n",
    "plt.ylabel(\"Proportion of Repeat Offenders\")\n",
    "plt.show()"
   ]
  },
  {
   "cell_type": "code",
   "execution_count": 37,
   "metadata": {},
   "outputs": [
    {
     "data": {
      "image/png": "[encoded data removed]",
      "text/plain": [
       "<Figure size 864x432 with 1 Axes>"
      ]
     },
     "metadata": {
      "needs_background": "light"
     },
     "output_type": "display_data"
    }
   ],
   "source": [
    "figure(figsize=(12,6))\n",
    "sns.barplot(x='IncomeGroup',y=\"Repeat&Open\", data=df)\n",
    "plt.xlabel(\"Income Group (Dollars)\")\n",
    "plt.ylabel(\"Proportion of Repeat Offenders\")\n",
    "plt.show()"
   ]
  },
  {
   "cell_type": "code",
   "execution_count": 39,
   "metadata": {},
   "outputs": [],
   "source": [
    "y = df[\"Repeat&Open\"]"
   ]
  },
  {
   "cell_type": "code",
   "execution_count": 40,
   "metadata": {},
   "outputs": [],
   "source": [
    "df[\"EmploymentStatus\"] = df.EmploymentStatus.apply(lambda x: 1 if x == 'Retired' else 0)\n",
    "df['Vehicle Class'] = df['Vehicle Class'].apply(lambda x: 1 if x == 'Luxury Car' or x == 'Luxury SUV'  else 0)"
   ]
  },
  {
   "cell_type": "code",
   "execution_count": 41,
   "metadata": {},
   "outputs": [],
   "source": [
    "features = ['Vehicle Class', 'EmploymentStatus']"
   ]
  },
  {
   "cell_type": "code",
   "execution_count": 42,
   "metadata": {},
   "outputs": [],
   "source": [
    "X = df[features]"
   ]
  },
  {
   "cell_type": "code",
   "execution_count": 50,
   "metadata": {},
   "outputs": [
    {
     "data": {
      "text/html": [
       "<div>\n",
       "<style scoped>\n",
       "    .dataframe tbody tr th:only-of-type {\n",
       "        vertical-align: middle;\n",
       "    }\n",
       "\n",
       "    .dataframe tbody tr th {\n",
       "        vertical-align: top;\n",
       "    }\n",
       "\n",
       "    .dataframe thead th {\n",
       "        text-align: right;\n",
       "    }\n",
       "</style>\n",
       "<table border=\"1\" class=\"dataframe\">\n",
       "  <thead>\n",
       "    <tr style=\"text-align: right;\">\n",
       "      <th></th>\n",
       "      <th>Vehicle Class</th>\n",
       "      <th>EmploymentStatus</th>\n",
       "    </tr>\n",
       "  </thead>\n",
       "  <tbody>\n",
       "    <tr>\n",
       "      <th>0</th>\n",
       "      <td>0</td>\n",
       "      <td>0</td>\n",
       "    </tr>\n",
       "    <tr>\n",
       "      <th>1</th>\n",
       "      <td>0</td>\n",
       "      <td>0</td>\n",
       "    </tr>\n",
       "    <tr>\n",
       "      <th>2</th>\n",
       "      <td>0</td>\n",
       "      <td>0</td>\n",
       "    </tr>\n",
       "    <tr>\n",
       "      <th>3</th>\n",
       "      <td>0</td>\n",
       "      <td>0</td>\n",
       "    </tr>\n",
       "    <tr>\n",
       "      <th>4</th>\n",
       "      <td>0</td>\n",
       "      <td>0</td>\n",
       "    </tr>\n",
       "    <tr>\n",
       "      <th>...</th>\n",
       "      <td>...</td>\n",
       "      <td>...</td>\n",
       "    </tr>\n",
       "    <tr>\n",
       "      <th>9129</th>\n",
       "      <td>0</td>\n",
       "      <td>0</td>\n",
       "    </tr>\n",
       "    <tr>\n",
       "      <th>9130</th>\n",
       "      <td>0</td>\n",
       "      <td>0</td>\n",
       "    </tr>\n",
       "    <tr>\n",
       "      <th>9131</th>\n",
       "      <td>0</td>\n",
       "      <td>0</td>\n",
       "    </tr>\n",
       "    <tr>\n",
       "      <th>9132</th>\n",
       "      <td>0</td>\n",
       "      <td>0</td>\n",
       "    </tr>\n",
       "    <tr>\n",
       "      <th>9133</th>\n",
       "      <td>0</td>\n",
       "      <td>0</td>\n",
       "    </tr>\n",
       "  </tbody>\n",
       "</table>\n",
       "<p>9134 rows × 2 columns</p>\n",
       "</div>"
      ],
      "text/plain": [
       "      Vehicle Class  EmploymentStatus\n",
       "0                 0                 0\n",
       "1                 0                 0\n",
       "2                 0                 0\n",
       "3                 0                 0\n",
       "4                 0                 0\n",
       "...             ...               ...\n",
       "9129              0                 0\n",
       "9130              0                 0\n",
       "9131              0                 0\n",
       "9132              0                 0\n",
       "9133              0                 0\n",
       "\n",
       "[9134 rows x 2 columns]"
      ]
     },
     "execution_count": 50,
     "metadata": {},
     "output_type": "execute_result"
    }
   ],
   "source": [
    "X"
   ]
  },
  {
   "cell_type": "code",
   "execution_count": 51,
   "metadata": {},
   "outputs": [
    {
     "data": {
      "text/html": [
       "<div>\n",
       "<style scoped>\n",
       "    .dataframe tbody tr th:only-of-type {\n",
       "        vertical-align: middle;\n",
       "    }\n",
       "\n",
       "    .dataframe tbody tr th {\n",
       "        vertical-align: top;\n",
       "    }\n",
       "\n",
       "    .dataframe thead th {\n",
       "        text-align: right;\n",
       "    }\n",
       "</style>\n",
       "<table border=\"1\" class=\"dataframe\">\n",
       "  <thead>\n",
       "    <tr style=\"text-align: right;\">\n",
       "      <th></th>\n",
       "      <th>Vehicle Class</th>\n",
       "      <th>EmploymentStatus</th>\n",
       "    </tr>\n",
       "  </thead>\n",
       "  <tbody>\n",
       "    <tr>\n",
       "      <th>count</th>\n",
       "      <td>9134.000000</td>\n",
       "      <td>9134.000000</td>\n",
       "    </tr>\n",
       "    <tr>\n",
       "      <th>mean</th>\n",
       "      <td>0.037990</td>\n",
       "      <td>0.030874</td>\n",
       "    </tr>\n",
       "    <tr>\n",
       "      <th>std</th>\n",
       "      <td>0.191182</td>\n",
       "      <td>0.172985</td>\n",
       "    </tr>\n",
       "    <tr>\n",
       "      <th>min</th>\n",
       "      <td>0.000000</td>\n",
       "      <td>0.000000</td>\n",
       "    </tr>\n",
       "    <tr>\n",
       "      <th>25%</th>\n",
       "      <td>0.000000</td>\n",
       "      <td>0.000000</td>\n",
       "    </tr>\n",
       "    <tr>\n",
       "      <th>50%</th>\n",
       "      <td>0.000000</td>\n",
       "      <td>0.000000</td>\n",
       "    </tr>\n",
       "    <tr>\n",
       "      <th>75%</th>\n",
       "      <td>0.000000</td>\n",
       "      <td>0.000000</td>\n",
       "    </tr>\n",
       "    <tr>\n",
       "      <th>max</th>\n",
       "      <td>1.000000</td>\n",
       "      <td>1.000000</td>\n",
       "    </tr>\n",
       "  </tbody>\n",
       "</table>\n",
       "</div>"
      ],
      "text/plain": [
       "       Vehicle Class  EmploymentStatus\n",
       "count    9134.000000       9134.000000\n",
       "mean        0.037990          0.030874\n",
       "std         0.191182          0.172985\n",
       "min         0.000000          0.000000\n",
       "25%         0.000000          0.000000\n",
       "50%         0.000000          0.000000\n",
       "75%         0.000000          0.000000\n",
       "max         1.000000          1.000000"
      ]
     },
     "execution_count": 51,
     "metadata": {},
     "output_type": "execute_result"
    }
   ],
   "source": [
    "X.describe()"
   ]
  },
  {
   "cell_type": "code",
   "execution_count": 57,
   "metadata": {},
   "outputs": [],
   "source": [
    "# import sklearn libraries\n",
    "from sklearn.model_selection import train_test_split\n",
    "from sklearn.metrics import accuracy_score\n",
    "from sklearn.naive_bayes import GaussianNB\n",
    "from sklearn.linear_model import LogisticRegression\n",
    "from sklearn.svm import SVC\n",
    "from sklearn.tree import DecisionTreeClassifier\n",
    "from sklearn.ensemble import RandomForestClassifier\n",
    "from sklearn.neighbors import KNeighborsClassifier\n",
    "from sklearn.ensemble import GradientBoostingClassifier"
   ]
  },
  {
   "cell_type": "code",
   "execution_count": 58,
   "metadata": {},
   "outputs": [],
   "source": [
    "x_train, x_val, y_train, y_val = train_test_split(X, y, test_size = 0.35, random_state = 0)"
   ]
  },
  {
   "cell_type": "code",
   "execution_count": 59,
   "metadata": {},
   "outputs": [
    {
     "name": "stdout",
     "output_type": "stream",
     "text": [
      "87.52\n"
     ]
    }
   ],
   "source": [
    "# Gaussian Naive Bayes\n",
    "gaussian = GaussianNB()\n",
    "gaussian.fit(x_train, y_train)\n",
    "y_pred = gaussian.predict(x_val)\n",
    "acc_gaussian = round(accuracy_score(y_pred, y_val) * 100, 2)\n",
    "print(acc_gaussian)\n",
    "\n"
   ]
  },
  {
   "cell_type": "code",
   "execution_count": 60,
   "metadata": {},
   "outputs": [
    {
     "name": "stdout",
     "output_type": "stream",
     "text": [
      "91.96\n"
     ]
    }
   ],
   "source": [
    "# Logistic Regression\n",
    "logreg = LogisticRegression()\n",
    "logreg.fit(x_train, y_train)\n",
    "y_pred = logreg.predict(x_val)\n",
    "acc_logreg = round(accuracy_score(y_pred, y_val) * 100, 2)\n",
    "print(acc_logreg)"
   ]
  },
  {
   "cell_type": "code",
   "execution_count": 61,
   "metadata": {},
   "outputs": [
    {
     "name": "stdout",
     "output_type": "stream",
     "text": [
      "91.96\n"
     ]
    }
   ],
   "source": [
    "# Support Vector Machines\n",
    "svc = SVC()\n",
    "svc.fit(x_train, y_train)\n",
    "y_pred = svc.predict(x_val)\n",
    "acc_svc = round(accuracy_score(y_pred, y_val) * 100, 2)\n",
    "print(acc_svc)\n",
    "\n"
   ]
  },
  {
   "cell_type": "code",
   "execution_count": 63,
   "metadata": {},
   "outputs": [
    {
     "name": "stdout",
     "output_type": "stream",
     "text": [
      "91.96\n"
     ]
    }
   ],
   "source": [
    "#Decision Tree\n",
    "decisiontree = DecisionTreeClassifier()\n",
    "decisiontree.fit(x_train, y_train)\n",
    "y_pred = decisiontree.predict(x_val)\n",
    "acc_decisiontree = round(accuracy_score(y_pred, y_val) * 100, 2)\n",
    "print(acc_decisiontree)"
   ]
  },
  {
   "cell_type": "code",
   "execution_count": 64,
   "metadata": {},
   "outputs": [
    {
     "name": "stdout",
     "output_type": "stream",
     "text": [
      "91.96\n"
     ]
    }
   ],
   "source": [
    "# Random Forest\n",
    "randomforest = RandomForestClassifier()\n",
    "randomforest.fit(x_train, y_train)\n",
    "y_pred = randomforest.predict(x_val)\n",
    "acc_randomforest = round(accuracy_score(y_pred, y_val) * 100, 2)\n",
    "print(acc_randomforest)\n",
    "\n"
   ]
  },
  {
   "cell_type": "code",
   "execution_count": 65,
   "metadata": {},
   "outputs": [
    {
     "name": "stdout",
     "output_type": "stream",
     "text": [
      "91.96\n"
     ]
    }
   ],
   "source": [
    "# KNN or k-Nearest Neighbors\n",
    "knn = KNeighborsClassifier()\n",
    "knn.fit(x_train, y_train)\n",
    "y_pred = knn.predict(x_val)\n",
    "acc_knn = round(accuracy_score(y_pred, y_val) * 100, 2)\n",
    "print(acc_knn)"
   ]
  },
  {
   "cell_type": "code",
   "execution_count": 66,
   "metadata": {},
   "outputs": [
    {
     "name": "stdout",
     "output_type": "stream",
     "text": [
      "91.96\n"
     ]
    }
   ],
   "source": [
    "# Gradient Boosting Classifier\n",
    "gbk = GradientBoostingClassifier()\n",
    "gbk.fit(x_train, y_train)\n",
    "y_pred = gbk.predict(x_val)\n",
    "acc_gbk = round(accuracy_score(y_pred, y_val) * 100, 2)\n",
    "print(acc_gbk)"
   ]
  },
  {
   "cell_type": "code",
   "execution_count": 67,
   "metadata": {},
   "outputs": [
    {
     "data": {
      "text/html": [
       "<div>\n",
       "<style scoped>\n",
       "    .dataframe tbody tr th:only-of-type {\n",
       "        vertical-align: middle;\n",
       "    }\n",
       "\n",
       "    .dataframe tbody tr th {\n",
       "        vertical-align: top;\n",
       "    }\n",
       "\n",
       "    .dataframe thead th {\n",
       "        text-align: right;\n",
       "    }\n",
       "</style>\n",
       "<table border=\"1\" class=\"dataframe\">\n",
       "  <thead>\n",
       "    <tr style=\"text-align: right;\">\n",
       "      <th></th>\n",
       "      <th>Claim Amount</th>\n",
       "      <th>EmploymentStatus</th>\n",
       "      <th>Income</th>\n",
       "      <th>Monthly Premium Auto</th>\n",
       "      <th>Months Since Last Claim</th>\n",
       "      <th>Months Since Policy Inception</th>\n",
       "      <th>Number of Open Complaints</th>\n",
       "      <th>Number of Policies</th>\n",
       "      <th>Total Claim Amount</th>\n",
       "      <th>Vehicle Class</th>\n",
       "      <th>Repeat Offender</th>\n",
       "      <th>Repeat&amp;Open</th>\n",
       "    </tr>\n",
       "  </thead>\n",
       "  <tbody>\n",
       "    <tr>\n",
       "      <th>Claim Amount</th>\n",
       "      <td>1.000000</td>\n",
       "      <td>-0.013433</td>\n",
       "      <td>0.024366</td>\n",
       "      <td>0.396262</td>\n",
       "      <td>0.011517</td>\n",
       "      <td>0.009418</td>\n",
       "      <td>-0.036343</td>\n",
       "      <td>0.021955</td>\n",
       "      <td>0.226451</td>\n",
       "      <td>0.262780</td>\n",
       "      <td>-0.000727</td>\n",
       "      <td>-0.004094</td>\n",
       "    </tr>\n",
       "    <tr>\n",
       "      <th>EmploymentStatus</th>\n",
       "      <td>-0.013433</td>\n",
       "      <td>1.000000</td>\n",
       "      <td>-0.100484</td>\n",
       "      <td>-0.009342</td>\n",
       "      <td>-0.012275</td>\n",
       "      <td>0.002989</td>\n",
       "      <td>0.002505</td>\n",
       "      <td>-0.026604</td>\n",
       "      <td>0.034293</td>\n",
       "      <td>-0.012293</td>\n",
       "      <td>-0.000949</td>\n",
       "      <td>0.032986</td>\n",
       "    </tr>\n",
       "    <tr>\n",
       "      <th>Income</th>\n",
       "      <td>0.024366</td>\n",
       "      <td>-0.100484</td>\n",
       "      <td>1.000000</td>\n",
       "      <td>-0.016665</td>\n",
       "      <td>-0.026715</td>\n",
       "      <td>-0.000875</td>\n",
       "      <td>0.006408</td>\n",
       "      <td>-0.008656</td>\n",
       "      <td>-0.355254</td>\n",
       "      <td>-0.003610</td>\n",
       "      <td>0.034406</td>\n",
       "      <td>0.020217</td>\n",
       "    </tr>\n",
       "    <tr>\n",
       "      <th>Monthly Premium Auto</th>\n",
       "      <td>0.396262</td>\n",
       "      <td>-0.009342</td>\n",
       "      <td>-0.016665</td>\n",
       "      <td>1.000000</td>\n",
       "      <td>0.005026</td>\n",
       "      <td>0.020257</td>\n",
       "      <td>-0.013122</td>\n",
       "      <td>-0.011233</td>\n",
       "      <td>0.632017</td>\n",
       "      <td>0.689994</td>\n",
       "      <td>0.009194</td>\n",
       "      <td>0.011417</td>\n",
       "    </tr>\n",
       "    <tr>\n",
       "      <th>Months Since Last Claim</th>\n",
       "      <td>0.011517</td>\n",
       "      <td>-0.012275</td>\n",
       "      <td>-0.026715</td>\n",
       "      <td>0.005026</td>\n",
       "      <td>1.000000</td>\n",
       "      <td>-0.042959</td>\n",
       "      <td>0.005354</td>\n",
       "      <td>0.009136</td>\n",
       "      <td>0.007563</td>\n",
       "      <td>0.005421</td>\n",
       "      <td>-0.829674</td>\n",
       "      <td>-0.302308</td>\n",
       "    </tr>\n",
       "    <tr>\n",
       "      <th>Months Since Policy Inception</th>\n",
       "      <td>0.009418</td>\n",
       "      <td>0.002989</td>\n",
       "      <td>-0.000875</td>\n",
       "      <td>0.020257</td>\n",
       "      <td>-0.042959</td>\n",
       "      <td>1.000000</td>\n",
       "      <td>-0.001158</td>\n",
       "      <td>-0.013333</td>\n",
       "      <td>0.003335</td>\n",
       "      <td>0.022546</td>\n",
       "      <td>0.043114</td>\n",
       "      <td>0.008394</td>\n",
       "    </tr>\n",
       "    <tr>\n",
       "      <th>Number of Open Complaints</th>\n",
       "      <td>-0.036343</td>\n",
       "      <td>0.002505</td>\n",
       "      <td>0.006408</td>\n",
       "      <td>-0.013122</td>\n",
       "      <td>0.005354</td>\n",
       "      <td>-0.001158</td>\n",
       "      <td>1.000000</td>\n",
       "      <td>0.001498</td>\n",
       "      <td>-0.014241</td>\n",
       "      <td>-0.000241</td>\n",
       "      <td>-0.002523</td>\n",
       "      <td>0.498619</td>\n",
       "    </tr>\n",
       "    <tr>\n",
       "      <th>Number of Policies</th>\n",
       "      <td>0.021955</td>\n",
       "      <td>-0.026604</td>\n",
       "      <td>-0.008656</td>\n",
       "      <td>-0.011233</td>\n",
       "      <td>0.009136</td>\n",
       "      <td>-0.013333</td>\n",
       "      <td>0.001498</td>\n",
       "      <td>1.000000</td>\n",
       "      <td>-0.002354</td>\n",
       "      <td>-0.002219</td>\n",
       "      <td>-0.017247</td>\n",
       "      <td>-0.009834</td>\n",
       "    </tr>\n",
       "    <tr>\n",
       "      <th>Total Claim Amount</th>\n",
       "      <td>0.226451</td>\n",
       "      <td>0.034293</td>\n",
       "      <td>-0.355254</td>\n",
       "      <td>0.632017</td>\n",
       "      <td>0.007563</td>\n",
       "      <td>0.003335</td>\n",
       "      <td>-0.014241</td>\n",
       "      <td>-0.002354</td>\n",
       "      <td>1.000000</td>\n",
       "      <td>0.462574</td>\n",
       "      <td>-0.007527</td>\n",
       "      <td>-0.008704</td>\n",
       "    </tr>\n",
       "    <tr>\n",
       "      <th>Vehicle Class</th>\n",
       "      <td>0.262780</td>\n",
       "      <td>-0.012293</td>\n",
       "      <td>-0.003610</td>\n",
       "      <td>0.689994</td>\n",
       "      <td>0.005421</td>\n",
       "      <td>0.022546</td>\n",
       "      <td>-0.000241</td>\n",
       "      <td>-0.002219</td>\n",
       "      <td>0.462574</td>\n",
       "      <td>1.000000</td>\n",
       "      <td>0.002193</td>\n",
       "      <td>0.030631</td>\n",
       "    </tr>\n",
       "    <tr>\n",
       "      <th>Repeat Offender</th>\n",
       "      <td>-0.000727</td>\n",
       "      <td>-0.000949</td>\n",
       "      <td>0.034406</td>\n",
       "      <td>0.009194</td>\n",
       "      <td>-0.829674</td>\n",
       "      <td>0.043114</td>\n",
       "      <td>-0.002523</td>\n",
       "      <td>-0.017247</td>\n",
       "      <td>-0.007527</td>\n",
       "      <td>0.002193</td>\n",
       "      <td>1.000000</td>\n",
       "      <td>0.360551</td>\n",
       "    </tr>\n",
       "    <tr>\n",
       "      <th>Repeat&amp;Open</th>\n",
       "      <td>-0.004094</td>\n",
       "      <td>0.032986</td>\n",
       "      <td>0.020217</td>\n",
       "      <td>0.011417</td>\n",
       "      <td>-0.302308</td>\n",
       "      <td>0.008394</td>\n",
       "      <td>0.498619</td>\n",
       "      <td>-0.009834</td>\n",
       "      <td>-0.008704</td>\n",
       "      <td>0.030631</td>\n",
       "      <td>0.360551</td>\n",
       "      <td>1.000000</td>\n",
       "    </tr>\n",
       "  </tbody>\n",
       "</table>\n",
       "</div>"
      ],
      "text/plain": [
       "                               Claim Amount  EmploymentStatus    Income  \\\n",
       "Claim Amount                       1.000000         -0.013433  0.024366   \n",
       "EmploymentStatus                  -0.013433          1.000000 -0.100484   \n",
       "Income                             0.024366         -0.100484  1.000000   \n",
       "Monthly Premium Auto               0.396262         -0.009342 -0.016665   \n",
       "Months Since Last Claim            0.011517         -0.012275 -0.026715   \n",
       "Months Since Policy Inception      0.009418          0.002989 -0.000875   \n",
       "Number of Open Complaints         -0.036343          0.002505  0.006408   \n",
       "Number of Policies                 0.021955         -0.026604 -0.008656   \n",
       "Total Claim Amount                 0.226451          0.034293 -0.355254   \n",
       "Vehicle Class                      0.262780         -0.012293 -0.003610   \n",
       "Repeat Offender                   -0.000727         -0.000949  0.034406   \n",
       "Repeat&Open                       -0.004094          0.032986  0.020217   \n",
       "\n",
       "                               Monthly Premium Auto  Months Since Last Claim  \\\n",
       "Claim Amount                               0.396262                 0.011517   \n",
       "EmploymentStatus                          -0.009342                -0.012275   \n",
       "Income                                    -0.016665                -0.026715   \n",
       "Monthly Premium Auto                       1.000000                 0.005026   \n",
       "Months Since Last Claim                    0.005026                 1.000000   \n",
       "Months Since Policy Inception              0.020257                -0.042959   \n",
       "Number of Open Complaints                 -0.013122                 0.005354   \n",
       "Number of Policies                        -0.011233                 0.009136   \n",
       "Total Claim Amount                         0.632017                 0.007563   \n",
       "Vehicle Class                              0.689994                 0.005421   \n",
       "Repeat Offender                            0.009194                -0.829674   \n",
       "Repeat&Open                                0.011417                -0.302308   \n",
       "\n",
       "                               Months Since Policy Inception  \\\n",
       "Claim Amount                                        0.009418   \n",
       "EmploymentStatus                                    0.002989   \n",
       "Income                                             -0.000875   \n",
       "Monthly Premium Auto                                0.020257   \n",
       "Months Since Last Claim                            -0.042959   \n",
       "Months Since Policy Inception                       1.000000   \n",
       "Number of Open Complaints                          -0.001158   \n",
       "Number of Policies                                 -0.013333   \n",
       "Total Claim Amount                                  0.003335   \n",
       "Vehicle Class                                       0.022546   \n",
       "Repeat Offender                                     0.043114   \n",
       "Repeat&Open                                         0.008394   \n",
       "\n",
       "                               Number of Open Complaints  Number of Policies  \\\n",
       "Claim Amount                                   -0.036343            0.021955   \n",
       "EmploymentStatus                                0.002505           -0.026604   \n",
       "Income                                          0.006408           -0.008656   \n",
       "Monthly Premium Auto                           -0.013122           -0.011233   \n",
       "Months Since Last Claim                         0.005354            0.009136   \n",
       "Months Since Policy Inception                  -0.001158           -0.013333   \n",
       "Number of Open Complaints                       1.000000            0.001498   \n",
       "Number of Policies                              0.001498            1.000000   \n",
       "Total Claim Amount                             -0.014241           -0.002354   \n",
       "Vehicle Class                                  -0.000241           -0.002219   \n",
       "Repeat Offender                                -0.002523           -0.017247   \n",
       "Repeat&Open                                     0.498619           -0.009834   \n",
       "\n",
       "                               Total Claim Amount  Vehicle Class  \\\n",
       "Claim Amount                             0.226451       0.262780   \n",
       "EmploymentStatus                         0.034293      -0.012293   \n",
       "Income                                  -0.355254      -0.003610   \n",
       "Monthly Premium Auto                     0.632017       0.689994   \n",
       "Months Since Last Claim                  0.007563       0.005421   \n",
       "Months Since Policy Inception            0.003335       0.022546   \n",
       "Number of Open Complaints               -0.014241      -0.000241   \n",
       "Number of Policies                      -0.002354      -0.002219   \n",
       "Total Claim Amount                       1.000000       0.462574   \n",
       "Vehicle Class                            0.462574       1.000000   \n",
       "Repeat Offender                         -0.007527       0.002193   \n",
       "Repeat&Open                             -0.008704       0.030631   \n",
       "\n",
       "                               Repeat Offender  Repeat&Open  \n",
       "Claim Amount                         -0.000727    -0.004094  \n",
       "EmploymentStatus                     -0.000949     0.032986  \n",
       "Income                                0.034406     0.020217  \n",
       "Monthly Premium Auto                  0.009194     0.011417  \n",
       "Months Since Last Claim              -0.829674    -0.302308  \n",
       "Months Since Policy Inception         0.043114     0.008394  \n",
       "Number of Open Complaints            -0.002523     0.498619  \n",
       "Number of Policies                   -0.017247    -0.009834  \n",
       "Total Claim Amount                   -0.007527    -0.008704  \n",
       "Vehicle Class                         0.002193     0.030631  \n",
       "Repeat Offender                       1.000000     0.360551  \n",
       "Repeat&Open                           0.360551     1.000000  "
      ]
     },
     "execution_count": 67,
     "metadata": {},
     "output_type": "execute_result"
    }
   ],
   "source": [
    "df.corr()"
   ]
  },
  {
   "cell_type": "code",
   "execution_count": 69,
   "metadata": {},
   "outputs": [
    {
     "data": {
      "image/png": "[encoded data removed]",
      "text/plain": [
       "<Figure size 1152x432 with 2 Axes>"
      ]
     },
     "metadata": {
      "needs_background": "light"
     },
     "output_type": "display_data"
    }
   ],
   "source": [
    "plt.figure(figsize=(16, 6))\n",
    "\n",
    "heatmap = sns.heatmap(df.corr(), vmin=-1, vmax=1, annot=True)\n",
    "\n",
    "heatmap.set_title('Correlation Heatmap', fontdict={'fontsize':12}, pad=12);"
   ]
  },
  {
   "cell_type": "code",
   "execution_count": null,
   "metadata": {},
   "outputs": [],
   "source": []
  }
 ],
 "metadata": {
  "kernelspec": {
   "display_name": "Python 3",
   "language": "python",
   "name": "python3"
  },
  "language_info": {
   "codemirror_mode": {
    "name": "ipython",
    "version": 3
   },
   "file_extension": ".py",
   "mimetype": "text/x-python",
   "name": "python",
   "nbconvert_exporter": "python",
   "pygments_lexer": "ipython3",
   "version": "3.8.3"
  }
 },
 "nbformat": 4,
 "nbformat_minor": 4
}
